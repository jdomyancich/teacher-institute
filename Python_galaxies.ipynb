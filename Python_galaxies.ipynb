{
 "cells": [
  {
   "cell_type": "markdown",
   "id": "f63a6545-295c-446f-9d00-365eeb7b79f6",
   "metadata": {},
   "source": [
    "# A Map to the Stars\n",
    "\n",
    "#### Authors: Jeff McMahon, Lindsey Bleem, Alex Drlica-Wagner and John Domyancich\n",
    "\n",
    "*Dedicated in the memory of Jeff's dad Tim who was always curious, always adventurous, and proud of him no matter what he did.*\n",
    "\n",
    "\n",
    "<img src = 'imgs/milky_way.jpeg' width = 400>\n",
    "\n",
    "Like we use latitude and longitude for locations on Earth, celestial objects are mapped using a similar coordinate system.\n",
    "\n",
    "<img src= 'https://upload.wikimedia.org/wikipedia/commons/6/66/Ra_and_dec_demo_animation_small.gif' width=500>\n",
    "\n",
    "For example, Mars has the following coordinates:\n",
    "\n",
    "**Right ascension** = 4 hours 18 minutes 4 seconds  \n",
    "**Declination** = +24&deg; 10 minutes 13 seconds\n"
   ]
  },
  {
   "cell_type": "markdown",
   "id": "6c33ab23-e1d2-49aa-9575-f3780afbbea8",
   "metadata": {},
   "source": [
    "**Declination**, similar to latitude is an angular distance of a point north or south of the Celestial Equator, a projection of the Earth's equator into space. Declination i measured in degrees from -90° to +90° \n",
    "\n",
    "Representing declination as a single number can be done using the following calculation:"
   ]
  },
  {
   "cell_type": "code",
   "execution_count": null,
   "id": "d04248d6-b1f4-4a3e-ae5f-86d5cd6ecc98",
   "metadata": {},
   "outputs": [],
   "source": [
    "dec_mars = 24 + 10/60 + 13/3600"
   ]
  },
  {
   "cell_type": "markdown",
   "id": "0f7471e8-26a9-48f8-95aa-7399a4e5a519",
   "metadata": {},
   "source": [
    "Notice that nothing seems to hapen after running the previous cell. However, the result of the calculation has actually been stored in the variable `dec_mars`. In order to see that value, we use a `print` function."
   ]
  },
  {
   "cell_type": "code",
   "execution_count": null,
   "id": "2d0db569-c8bd-4e7d-a576-d23ed9c7576d",
   "metadata": {},
   "outputs": [],
   "source": [
    "print(dec_mars)"
   ]
  },
  {
   "cell_type": "markdown",
   "id": "d205f4ec-5337-4721-a43a-3084d55c659b",
   "metadata": {},
   "source": [
    "**Right ascension**, similar to longitude, measures an object's relative position to the sun during the vernal equinox. For example, the right ascension of Mars is 4 hours 18m 4s which mean that at the vernal equinox, Mars is 4 hours, 18 minutes and 4 seconds away from reaching the sun's east-west position in the sky."
   ]
  },
  {
   "cell_type": "markdown",
   "id": "ff6ffc56-6126-4c2a-bbce-7a119bd36e56",
   "metadata": {},
   "source": [
    "Complete the following cell by replacing `???` with a calculation to convert right ascension of Mars into degrees and print the result."
   ]
  },
  {
   "cell_type": "code",
   "execution_count": null,
   "id": "ba1677e4-b7cd-4423-95ae-98a99506f7e0",
   "metadata": {},
   "outputs": [],
   "source": [
    "ra_mars = ???"
   ]
  },
  {
   "cell_type": "markdown",
   "id": "9d2964dd-8502-479a-be29-de611da707fa",
   "metadata": {
    "tags": []
   },
   "source": [
    "# Data Types and Structures\n",
    "\n"
   ]
  },
  {
   "cell_type": "markdown",
   "id": "0c8d0a5c-fe02-4545-b617-417d4be60854",
   "metadata": {
    "tags": []
   },
   "source": [
    "## Lists"
   ]
  },
  {
   "cell_type": "markdown",
   "id": "a105b5b5-ec8c-4104-b44e-ef9e855c747f",
   "metadata": {
    "tags": []
   },
   "source": [
    "We can store multiple pieces of data in a single variable using a `list`. The following is a list called `galaxy` that contains information about a single galaxy."
   ]
  },
  {
   "cell_type": "code",
   "execution_count": null,
   "id": "5066f2f9-fc60-4b25-805a-b5d80e3828c5",
   "metadata": {},
   "outputs": [],
   "source": [
    "galaxy = [0.170680, 58.387425, 0.119544, 19.15025, 1.371536]\n",
    "\n",
    "print(galaxy)"
   ]
  },
  {
   "cell_type": "markdown",
   "id": "bea01915-5164-4e46-b830-4a12dcff283e",
   "metadata": {
    "tags": []
   },
   "source": [
    "The items in a list are ordered so you can extract a single value. Replace the `???` with a number in the cell below to print the `58.387425` value from the list."
   ]
  },
  {
   "cell_type": "code",
   "execution_count": null,
   "id": "b59579ce-3a69-4f90-bad9-debc49b741f3",
   "metadata": {},
   "outputs": [],
   "source": [
    "print(galaxy[???])"
   ]
  },
  {
   "cell_type": "markdown",
   "id": "ccb6c11f-eae5-446b-a2e6-700a97bf0be3",
   "metadata": {
    "tags": []
   },
   "source": [
    "You probably tried `print(entry[2]` initially. This is a strange thing about counting in Python and most other programming languages. Instead of starting at `1`, counting starts at `0`."
   ]
  },
  {
   "cell_type": "markdown",
   "id": "311cb457-1acf-4efb-b1db-8e18307f3422",
   "metadata": {},
   "source": [
    "Doing data science requires us to understand the different \"flavors\" of data and how it is stored in a computer.\n",
    "\n",
    "We can use the `type` function to identify the type of a particular piece of data. Try putting some different values in place of `???`."
   ]
  },
  {
   "cell_type": "code",
   "execution_count": null,
   "id": "bd2f4ba9-e76a-49f8-839b-170b8ee3d0af",
   "metadata": {},
   "outputs": [],
   "source": [
    "type(???)"
   ]
  },
  {
   "cell_type": "markdown",
   "id": "db57e170-450e-4922-a787-7228abddc6a9",
   "metadata": {},
   "source": [
    "## Numpy"
   ]
  },
  {
   "cell_type": "markdown",
   "id": "edc03ee6-b230-4623-8a85-db5cefbe18ed",
   "metadata": {},
   "source": [
    "The data in `galaxy` doesn't mean much if we don't know what each value represents. In order to add that information, the structure of the data becomes more complex. \n",
    "\n",
    "We are going to use a **library** called `numpy` to do this. Numpy is a very powerful set of tools for scientific computing. We need to load in numpy to use it."
   ]
  },
  {
   "cell_type": "code",
   "execution_count": null,
   "id": "ff9f630e-f3a0-4509-8f5a-12290719880f",
   "metadata": {},
   "outputs": [],
   "source": [
    "import numpy as np"
   ]
  },
  {
   "cell_type": "markdown",
   "id": "7b5c13ae-3b0a-459a-827e-c3178ffaae54",
   "metadata": {},
   "source": [
    "When we use libraries, we have to \"import\" them. By importing numpy `as np`, whenever we use numpy, we can write `np` instead of `numpy`. It may not seem like much of a shortcut, but it helps make your code cleaner."
   ]
  },
  {
   "cell_type": "markdown",
   "id": "e520e90c-6366-4d3d-a201-a784d1e7d043",
   "metadata": {
    "tags": []
   },
   "source": [
    "### Arrays "
   ]
  },
  {
   "cell_type": "markdown",
   "id": "229eabb2-ee30-4dbf-b34a-7eec7bafff84",
   "metadata": {},
   "source": [
    "Numpy's basic building block is called an *ndarray*, or an \"n-dimensional array\". Let's turn our original list into an `array`."
   ]
  },
  {
   "cell_type": "code",
   "execution_count": null,
   "id": "4beb777b-ed71-4d8c-ad3e-594262a8570a",
   "metadata": {},
   "outputs": [],
   "source": [
    "galaxy_array = np.array(galaxy)\n",
    "print(galaxy_array)"
   ]
  },
  {
   "cell_type": "markdown",
   "id": "cef9e3c2-f3db-404c-be7c-e66dead26abe",
   "metadata": {},
   "source": [
    "You may be wondering if the original list is gone now. See if you can print it."
   ]
  },
  {
   "cell_type": "code",
   "execution_count": null,
   "id": "5ef7121d-ff9a-4b70-9e51-b1e071a899fc",
   "metadata": {},
   "outputs": [],
   "source": [
    "???"
   ]
  },
  {
   "cell_type": "markdown",
   "id": "e3d9950a-78e7-4976-877a-760f9be32495",
   "metadata": {},
   "source": [
    "### 1D Arrays"
   ]
  },
  {
   "cell_type": "markdown",
   "id": "b235c0ab-2301-4f68-be78-1172751a2018",
   "metadata": {
    "tags": []
   },
   "source": [
    "`galaxy_array` may look the same as `galaxy`, but the computer sees them as two different things. Take a look for yourself."
   ]
  },
  {
   "cell_type": "code",
   "execution_count": null,
   "id": "3b2aa8a2-ea03-4ad7-8731-1332f7dca29f",
   "metadata": {
    "tags": []
   },
   "outputs": [],
   "source": [
    "type(???)"
   ]
  },
  {
   "cell_type": "code",
   "execution_count": null,
   "id": "484299a3-d74f-444c-9141-d2c31fabd15f",
   "metadata": {
    "tags": []
   },
   "outputs": [],
   "source": [
    "type(???)"
   ]
  },
  {
   "cell_type": "markdown",
   "id": "c3a1a6fd-69df-4fc6-8fc8-cc8f4c62fa83",
   "metadata": {
    "tags": []
   },
   "source": [
    "### 2D Arrays\n",
    "\n",
    "`galaxy_array` is a \"1D array\" because it comes from a simple one-dimensional list of values. However, the more common data structure that we use in science is a \"2D array\". It can be thought of as a \"list of lists\". Here is a 2D array:"
   ]
  },
  {
   "cell_type": "code",
   "execution_count": null,
   "id": "a35fdd3c-0e95-4548-9ef6-a85ff38c8098",
   "metadata": {},
   "outputs": [],
   "source": [
    "galaxies = np.array([['z', 'ra', 'dec', 'r', 'grModelColor'], \n",
    "                    [0.170680, 58.387425, 0.119544, 19.15025, 1.371536], \n",
    "                    [0.132326, 44.190522, 0.944218, 17.93077, 0.715244]])\n",
    "print(galaxies)"
   ]
  },
  {
   "cell_type": "markdown",
   "id": "df9085d7-622b-4c7b-ac12-ab99e000a0be",
   "metadata": {},
   "source": [
    "As you can see, a 2D array is similar to a table (but don't call it a table!)"
   ]
  },
  {
   "cell_type": "markdown",
   "id": "4fe51721-ad43-4b9d-af10-623a43329caf",
   "metadata": {
    "tags": []
   },
   "source": [
    "## Let's do some science with this!\n",
    "The data we will be using is from the Sloan Digitial Sky Survey Data release 16 (DR16).  These data can be queried here http://skyserver.low_z.org/dr16/en/tools/search/SQS.aspx.  The most common file format for raw data is a `.csv` file, short for \"comma separated values\".\n",
    "\n",
    "We have downloaded files giving redshfit, right ascension, declination, and color information for objects classified as galaxies over a 5x5 degree region. \n",
    "\n",
    "<img src = 'imgs/measuring-sky-with-hand.png' width = 400>\n",
    "\n",
    "The three sets span three redshift ranges of  0.08<𝑧<0.12 (`low_z.csv`),  0.4<𝑧<0.5 (`mid_z.csv`) and  0.6<𝑧<0.9 (`high_z.csv`). Redshift tells us how far a galaxy is away from Earth. The larger the redshift, the farther it is. For example, a galaxy with a redshift of 0.1 is about 1.3 billion light years from Earth. A galaxy with a redshift of 0.5 is about 5.9 billion light years away from Earth. \n",
    "\n",
    "**column ids**  \n",
    "0:  z (redshift)  \n",
    "1:  ra (right ascension)  \n",
    "2:  dec (declination)  \n",
    "3:  r magnitude   (red)    \n",
    "4:  g-r color (redness)  "
   ]
  },
  {
   "cell_type": "code",
   "execution_count": null,
   "id": "a8c66ab5-8d1d-4630-9a90-5a73d4deb313",
   "metadata": {},
   "outputs": [],
   "source": [
    "# Read in the three datasets and store each in a separate variable:\n",
    "\n",
    "low_z = np.loadtxt('Datasets/low_z.csv', delimiter=',', skiprows = 1 )\n",
    "mid_z = np.loadtxt('Datasets/mid_z.csv', delimiter=',', skiprows = 1 )\n",
    "high_z = np.loadtxt('Datasets/high_z.csv', delimiter=',', skiprows = 1 )"
   ]
  },
  {
   "cell_type": "markdown",
   "id": "e94914f3-214d-434a-918b-001e6af8ae91",
   "metadata": {},
   "source": [
    "We can plot the right ascension (x) and declination (y) values for the `low_z` dataset in a scatterplot to visualize the galaxies locations in 2D. Like we are looking at that patch of sky. Notice how we are calling the columns containing `ra` and `dec`:"
   ]
  },
  {
   "cell_type": "code",
   "execution_count": null,
   "id": "4e59e02f-c5f3-4cf4-8b12-9e95ed2c04a2",
   "metadata": {},
   "outputs": [],
   "source": [
    "import matplotlib.pyplot as plt\n",
    "plt.plot(low_z[:,1],low_z[:,2], \"b,\")\n",
    "plt.xlabel(\"RA (deg)\")\n",
    "plt.ylabel(\"DEC (deg)\")\n",
    "plt.show"
   ]
  },
  {
   "cell_type": "markdown",
   "id": "955b7d88-fc4c-4334-b9ef-89ae7368f77d",
   "metadata": {},
   "source": [
    "To reduce the computational challenge of carrying out our analysis, let us select a subset of these data on a square patch. Enter values for the right ascension and delination to select a patch of sky with right ascension between 150&deg; and 170&deg; and declination between 40&deg; and 60&deg;. "
   ]
  },
  {
   "cell_type": "code",
   "execution_count": null,
   "id": "d90edacd-7524-450e-b815-033c3f447ab7",
   "metadata": {},
   "outputs": [],
   "source": [
    "## set boundaries for the square\n",
    "ra_min = ???\n",
    "ra_max = ???\n",
    "dec_min = ???\n",
    "dec_max = ???"
   ]
  },
  {
   "cell_type": "markdown",
   "id": "873d8945-18e1-41f2-8b04-7cd7525235b2",
   "metadata": {},
   "source": [
    "The following code will map the galaxies in your selection for you."
   ]
  },
  {
   "cell_type": "code",
   "execution_count": null,
   "id": "ddd25528-4c92-41f7-aca2-48f5622b29f2",
   "metadata": {},
   "outputs": [],
   "source": [
    "dec_small = np.logical_and(low_z[:,2] > dec_min, low_z[:,2] < dec_max)\n",
    "ra_small  = np.logical_and(low_z[:,1] > ra_min, low_z[:,1] < ra_max)\n",
    "combined = np.where(np.logical_and(ra_small, dec_small))\n",
    "new_map = np.ravel(combined)\n",
    "\n",
    "plt.plot(low_z[new_map,1],low_z[new_map,2],\"b,\")\n",
    "plt.title(\"low redshift sample\")\n",
    "plt.xlabel(\"RA (deg)\")\n",
    "plt.ylabel(\"DEC (deg)\")\n",
    "plt.axis(\"equal\")\n",
    "plt.show"
   ]
  },
  {
   "cell_type": "markdown",
   "id": "ad641eba-0cad-4e1b-aa72-1483b6341bde",
   "metadata": {},
   "source": [
    "## Visualize medium and high redshift\n",
    "\n",
    "Now it's your turn. Make scatter plots of the mid_z and high_z galaxies in the space below. (It's ok to copy and paste!) Use green for mid_z and red for high_z."
   ]
  },
  {
   "cell_type": "code",
   "execution_count": null,
   "id": "e51161ca-a4e7-4bd0-92c4-3026a7025a67",
   "metadata": {},
   "outputs": [],
   "source": [
    "# Insert code for mapping mid_z here\n",
    "\n"
   ]
  },
  {
   "cell_type": "code",
   "execution_count": null,
   "id": "fd9534eb-e3c3-4b93-b105-6fff14378c23",
   "metadata": {},
   "outputs": [],
   "source": [
    "# Insert code for mapping high_z here\n",
    "\n"
   ]
  },
  {
   "cell_type": "markdown",
   "id": "d78235d8-1fbc-4da0-98ae-e868673c2a17",
   "metadata": {},
   "source": [
    "Remember, as redshift increases, not only are the galaxies farther away, but our view of them is farther back in time. In other words, we have a way of looking back in time at different periods. Therefore, we can see how the universe has evolved!\n",
    "\n",
    "Looking at the three different periods of the universe: \n",
    "\n",
    "1. **What do you see?** \n",
    "\n",
    "2. **How has the universe evolved over time?**"
   ]
  },
  {
   "cell_type": "markdown",
   "id": "fbdefd5c-eacf-4d99-8b29-5eb76e195e05",
   "metadata": {},
   "source": [
    "## Extension: Explore!\n",
    "\n",
    "Change the part of the sky you want to analyze. Do you see the same pattern? Anything unexpected?"
   ]
  },
  {
   "cell_type": "code",
   "execution_count": null,
   "id": "dc02e0d1",
   "metadata": {},
   "outputs": [],
   "source": []
  },
  {
   "cell_type": "code",
   "execution_count": null,
   "id": "5dcc5ae4",
   "metadata": {
    "tags": []
   },
   "outputs": [],
   "source": []
  },
  {
   "cell_type": "markdown",
   "id": "f2eccdf6-9aa7-4951-9f2c-20ae1f158433",
   "metadata": {
    "tags": []
   },
   "source": [
    "## Extension: Further Down the Rabbit Hole\n",
    "## The evolution of redshift\n",
    "\n",
    "It is obvious from the previous excercise (and set of plots) that the distribution of these objects evolves with redshift.  One advantage of these spectroscopic data is that they have a resolution in redshfit with an accuracy better than one part in 1500.  (This accuracy is called R).  Therefore it is possible to measure the distribution of matter along the line of sight as well as in the spatial dimensions.  \n",
    "\n",
    "Here we plot the distribution of galaxies in the RA/redshift plane, but fixing a single Dec."
   ]
  },
  {
   "cell_type": "code",
   "execution_count": null,
   "id": "bf69677a-1156-42d2-ab3f-38c335404bd1",
   "metadata": {
    "scrolled": true
   },
   "outputs": [],
   "source": [
    "def select_objects_in_radec_range(map_,ra_min,ra_max,dec_min,dec_max):\n",
    "    dec_ok = np.logical_and(map_[:,1] > ra_min,map_[:,1] < ra_max)\n",
    "    ra_ok  = np.logical_and(map_[:,2] > dec_min,map_[:,2] < dec_max)\n",
    "    ok = np.where(np.logical_and(dec_ok,ra_ok))\n",
    "    return(np.ravel(ok))\n",
    "\n",
    "## set boundaries for the square\n",
    "ra_min = ???\n",
    "ra_max = ???\n",
    "dec_min = ???\n",
    "dec_max = ???\n",
    "\n",
    "## come up with arrays of indexes for each of the three redshift slices\n",
    "ok_low_Z = select_objects_in_radec_range(low_z,ra_min,ra_max,dec_min,dec_max)\n",
    "ok_mid_Z = select_objects_in_radec_range(mid_z,ra_min,ra_max,dec_min,dec_max)\n",
    "ok_high_Z = select_objects_in_radec_range(high_z,ra_min,ra_max,dec_min,dec_max)\n",
    "\n",
    "\n",
    "plt.plot(low_z[ok_low_Z,1],low_z[ok_low_Z,0],\"b,\")\n",
    "plt.title(\"low redshfit sample\")\n",
    "plt.xlabel(\"RA (deg)\")\n",
    "plt.ylabel(\"redshift (z)\")\n",
    "plt.show()\n",
    "\n",
    "plt.plot(mid_z[ok_mid_Z,1],mid_z[ok_mid_Z,0],\"g,\")\n",
    "plt.title(\"mid redshfit sample\")\n",
    "plt.xlabel(\"RA (deg)\")\n",
    "plt.ylabel(\"redshift (z)\")\n",
    "plt.show()\n",
    "\n",
    "plt.plot(high_z[ok_high_Z,1],high_z[ok_high_Z,0],\"r,\")\n",
    "plt.title(\"high redshfit sample\")\n",
    "plt.xlabel(\"RA (deg)\")\n",
    "plt.ylabel(\"redshift (z)\")\n",
    "plt.show()"
   ]
  },
  {
   "cell_type": "markdown",
   "id": "b0e1951e-9110-4f44-9b32-e56b4b7166cd",
   "metadata": {},
   "source": [
    " 1. What evolution do you see in the low redshift slice.  Based on this, is the redshift range too large or about right for measuring the spatial variations in LSS?\n",
    "\n",
    "2. Do you see any strange features in the high redshift slice?  What do you think is causing this?"
   ]
  },
  {
   "cell_type": "code",
   "execution_count": null,
   "id": "34cbb9c1-b08e-4347-99c4-51c5787d5d24",
   "metadata": {},
   "outputs": [],
   "source": []
  },
  {
   "cell_type": "code",
   "execution_count": null,
   "id": "286922b9-d5aa-4182-8183-70b6f223aa2e",
   "metadata": {},
   "outputs": [],
   "source": []
  }
 ],
 "metadata": {
  "kernelspec": {
   "display_name": "Python 3 (ipykernel)",
   "language": "python",
   "name": "python3"
  },
  "language_info": {
   "codemirror_mode": {
    "name": "ipython",
    "version": 3
   },
   "file_extension": ".py",
   "mimetype": "text/x-python",
   "name": "python",
   "nbconvert_exporter": "python",
   "pygments_lexer": "ipython3",
   "version": "3.9.12"
  }
 },
 "nbformat": 4,
 "nbformat_minor": 5
}
