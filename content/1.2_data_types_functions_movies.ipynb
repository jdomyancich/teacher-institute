{
 "cells": [
  {
   "cell_type": "markdown",
   "metadata": {},
   "source": [
    "# Python: Data Types and Structures\n",
    "\n",
    "When discussing movies, we often categorize them, list their cast, or note their details. Today, we'll learn about Python's fundamental **data types** (numbers, text) and how to group related information using **lists** (for sequences like genres or cast) and **dictionaries** (for a movie's complete profile), just like you'd organize a film database!"
   ]
  },
  {
   "cell_type": "markdown",
   "metadata": {},
   "source": [
    "## 1. Data Types\n",
    "\n",
    "Every piece of data in Python has a **type**. Understanding these types helps us know what operations we can perform.\n",
    "\n",
    "* **Strings (`str`):** A sequence of characters, essentially text. \n",
    "* **Booleans (`bool`):** Represents one of two values: `True` or `False`, essential for making decisions in your code.\n",
    "* **Integers (`int`):** A whole number (positive, negative, or zero) without any decimal point.\n",
    "* **Floats (`float`):** Short for floating-point number is a number that has a decimal point, used to represent fractional values.\n"
   ]
  },
  {
   "cell_type": "code",
   "execution_count": null,
   "metadata": {},
   "outputs": [],
   "source": [
    "# Example Film Data\n",
    "release_year = 2010\n",
    "imdb_rating = 8.8\n",
    "movie_title = \"Inception\"\n",
    "is_sequel = False"
   ]
  },
  {
   "cell_type": "markdown",
   "metadata": {},
   "source": [
    "We can use the `type()` function to check the type of a variable."
   ]
  },
  {
   "cell_type": "code",
   "execution_count": null,
   "metadata": {},
   "outputs": [],
   "source": [
    "print(type(release_year))"
   ]
  },
  {
   "cell_type": "markdown",
   "metadata": {
    "jp-MarkdownHeadingCollapsed": true,
    "tags": []
   },
   "source": [
    "#### ***A note about functions***:\n",
    "\n",
    "In programming, a **function** is a block of organized, reusable code that performs a specific, single action. Think of it like a mini-program or a recipe for a particular task. Python has many \"built in\" functions. The `type` function is one example. However, we can also write our own functions.\n",
    "\n",
    "Functions have a name, like `type` and take one or more **\"arguments\"**. We **\"call\"** a function by supplying its name and providing the arguments in parentheses: `function_name(argument 1, argument 2, ...)`\n",
    "\n",
    "We will dive much deeper into functions later on."
   ]
  },
  {
   "cell_type": "markdown",
   "metadata": {},
   "source": [
    "### Strings\n",
    "\n",
    "Strings are sequences of characters (text). Strings are enclosed in single quotes (`'...'`) or double quotes (`\"...\"`). We can perform operations on multiple strings like *concaternation*:"
   ]
  },
  {
   "cell_type": "code",
   "execution_count": null,
   "metadata": {},
   "outputs": [],
   "source": [
    "director_first = \"Christopher\"\n",
    "director_last = \"Nolan\"\n",
    "full_director_name = director_first + \" \" + director_last # Concatenation\n",
    "print(f\"Director: {full_director_name}\")"
   ]
  },
  {
   "cell_type": "markdown",
   "metadata": {},
   "source": [
    "#### String Methods\n",
    "\n",
    "In Python (and many other object-oriented programming languages), a method is a function that belongs to an object or a class. Think of objects as \"things\" that have both data (attributes) and actions they can perform (methods). In the following cell, the object is the string associated with the `movie_title` variable.\n",
    "\n",
    "You call a method with \"dot notation\":\n",
    "`object_name.method_name(arguments)`"
   ]
  },
  {
   "cell_type": "code",
   "execution_count": null,
   "metadata": {},
   "outputs": [],
   "source": [
    "movie_title = \"Interstellar\"\n",
    "movie_title.upper() # The string method \"upper\" does not take any arguments"
   ]
  },
  {
   "cell_type": "markdown",
   "metadata": {},
   "source": [
    "All objects have methods associated with them. To get a list of the available methods. Hit `tab` after the dot:"
   ]
  },
  {
   "cell_type": "code",
   "execution_count": null,
   "metadata": {},
   "outputs": [],
   "source": [
    "movie_title."
   ]
  },
  {
   "cell_type": "markdown",
   "metadata": {},
   "source": [
    "### Booleans\n",
    "\n",
    "A boolean represents one of two values: `True` or `False`. Booleans are essential for making decisions in your code."
   ]
  },
  {
   "cell_type": "code",
   "execution_count": null,
   "metadata": {},
   "outputs": [],
   "source": [
    "is_oscar_winner = True # movie won an Oscar\n",
    "is_sequel = False # not a sequel"
   ]
  },
  {
   "cell_type": "markdown",
   "metadata": {},
   "source": [
    "Booleans can be use to label something as `True` or `False`, but more commonly, we use **comparison operators** which, as the name implies, is a way to compare two values, returning a boolean. This allows you to ask the computer a question.\n",
    "\n",
    "\n",
    "| Question | Operator |\n",
    "|-------|-------|\n",
    "| is it equal to? | `==` |\n",
    "| is it not equal to? | `!=` |\n",
    "| is it greater than? | `>` |\n",
    "| is it greater than or equal to? | `>=` |\n",
    "| is it less than? | `<` |\n",
    "| is it less than or equal to? | `<=` |"
   ]
  },
  {
   "cell_type": "code",
   "execution_count": null,
   "metadata": {},
   "outputs": [],
   "source": [
    "imdb_rating > 7.0"
   ]
  },
  {
   "cell_type": "markdown",
   "metadata": {},
   "source": [
    "### Integers vs. Floats\n",
    "\n",
    "Integers and floats can be a source of confusion because humans comparing them mathematically, but computers see them as two different data types. Specifically, the following should be considered:\n",
    "\n",
    "1. **Precision and Representation:**\n",
    "\n",
    "- Integers: Represent whole numbers exactly. There's no ambiguity.\n",
    "- Floats: Represent real numbers (numbers with decimal points). Due to how computers store floating-point numbers (using a binary approximation), they can sometimes lead to tiny, almost imperceptible precision errors when dealing with complex calculations or comparisons."
   ]
  },
  {
   "cell_type": "code",
   "execution_count": null,
   "metadata": {},
   "outputs": [],
   "source": [
    "1 + 2 == 3    # == is a comparison operator that asks \"is it equal?\""
   ]
  },
  {
   "cell_type": "code",
   "execution_count": null,
   "metadata": {},
   "outputs": [],
   "source": [
    "0.1 + 0.2 == 0.3   "
   ]
  },
  {
   "cell_type": "markdown",
   "metadata": {},
   "source": [
    "2. **Memory Usage:** Integers generally require less memory than floats, especially for very large or very small whole numbers, as floats have a fixed precision.\n",
    "\n",
    "3. **Operations and Behavior:**\n",
    "\n",
    "- Integer Division: In Python 3 (which we are using), there is \"float division\" and \"floor division\"\n",
    "- Type Coercion: When you perform an operation involving both an integer and a float, Python typically \"promotes\" the integer to a float before performing the operation, resulting in a float."
   ]
  },
  {
   "cell_type": "code",
   "execution_count": null,
   "metadata": {},
   "outputs": [],
   "source": [
    "5/2"
   ]
  },
  {
   "cell_type": "code",
   "execution_count": null,
   "metadata": {},
   "outputs": [],
   "source": [
    "5//2"
   ]
  },
  {
   "cell_type": "markdown",
   "metadata": {},
   "source": [
    "In summary, choosing between an `int` and a `float` isn't just about whether there's a decimal point; it's about the nature of the data you're representing, the precision required, and how you expect mathematical operations to behave.\n",
    "\n",
    "- You use integers when you need exact counts or discrete values that can't be fractional (e.g., number of students, years, counts of objects).\n",
    "- You use floats when dealing with measurements, averages, calculations that inherently involve fractions, or quantities that can exist between whole numbers (e.g., temperature, speed, ratings, financial amounts).\n",
    "\n"
   ]
  },
  {
   "cell_type": "markdown",
   "metadata": {},
   "source": [
    "### Why Data Types Matter\n",
    "\n",
    "Knowing the data type helps Python know what operations are valid. You can add two integers, but you can't meaningfully \"add\" a string to a boolean. Understanding these basic types is the foundation for working with more complex data structures like lists and dictionaries!"
   ]
  },
  {
   "cell_type": "markdown",
   "metadata": {
    "jp-MarkdownHeadingCollapsed": true,
    "tags": []
   },
   "source": [
    "___\n",
    "## 💪 **Exercise** 💪\n",
    "\n",
    "\n",
    "1. Look up your favorite movie on [IMDb](www.imdb.com).\n",
    "2. Create variables for each of the following: `movie_title`, `year`, `runtime_minutes`, `imdb_rating`, `is_sequel`\n",
    "3. Calculate `runtime_hours` and `remaining_minutes` from the `runtime_munites` variable.\n",
    "4. Print a friendly summary of your movie in the following format using f-strings:\n",
    "\n",
    "```\n",
    "---- Your Movie Night Pick! ----  \n",
    "Title: The Great Adventure (2023)  \n",
    "Runtime: 2 hours and 25 minutes  \n",
    "Critic Score: 8.7/10  \n",
    "Is it a sequel? False  `    \n",
    "--------------------------------\n",
    "```\n",
    "___"
   ]
  },
  {
   "cell_type": "markdown",
   "metadata": {},
   "source": [
    "## 2. Data Structures"
   ]
  },
  {
   "cell_type": "markdown",
   "metadata": {},
   "source": [
    "### Lists: Ordered collections\n",
    "\n",
    "In Python, a list is one of the most versatile and commonly used \"**data structures**\". It's a way to store a collection of items in a single variable. Think of it like a shopping list, a roster of students, or a sequence of sensor readings."
   ]
  },
  {
   "cell_type": "markdown",
   "metadata": {},
   "source": [
    "#### Creating a list\n",
    "\n",
    "Lists are assigned to a variable, with the items contained in brackets, separated by commas:"
   ]
  },
  {
   "cell_type": "code",
   "execution_count": null,
   "metadata": {},
   "outputs": [],
   "source": [
    "movie_genres = [\"Sci-Fi\", \"Action\", \"Thriller\", \"Mystery\"]"
   ]
  },
  {
   "cell_type": "markdown",
   "metadata": {},
   "source": [
    "#### Key Characteristics of Lists:\n",
    "- **Ordered:** The items in a list have a defined order, and this order will not change. You can refer to items by their **index** (position)."
   ]
  },
  {
   "cell_type": "code",
   "execution_count": null,
   "metadata": {},
   "outputs": [],
   "source": [
    "print(movie_genres[0])"
   ]
  },
  {
   "cell_type": "markdown",
   "metadata": {},
   "source": [
    "- **Mutable:** You can change, add, or remove items from a list after it has been created."
   ]
  },
  {
   "cell_type": "code",
   "execution_count": null,
   "metadata": {},
   "outputs": [],
   "source": [
    "movie_genres[1] = \"Horror\"\n",
    "print(movie_genres)"
   ]
  },
  {
   "cell_type": "markdown",
   "metadata": {},
   "source": [
    "- **Allows duplicates:** Lists can contain items with the same value."
   ]
  },
  {
   "cell_type": "markdown",
   "metadata": {},
   "source": [
    "- **Heterogeneous:** A single list can contain items of different data types (e.g., numbers, strings, booleans, or even other lists!)."
   ]
  },
  {
   "cell_type": "code",
   "execution_count": null,
   "metadata": {},
   "outputs": [],
   "source": [
    "interstellar = [2014, \"Christopher Nolan\", 8.7,  \"PG-13\"]"
   ]
  },
  {
   "cell_type": "markdown",
   "metadata": {},
   "source": [
    "#### List functions\n",
    "\n",
    "- `len()`: Returns the number of items (elements) in a list.\n",
    "- `sum()`: Returns the sum of all numerical items in a list.\n",
    "- `min()`: Returns the smallest item in a list.\n",
    "- `max()`: Returns the largest item in a list."
   ]
  },
  {
   "cell_type": "code",
   "execution_count": null,
   "metadata": {},
   "outputs": [],
   "source": [
    "len(interstellar)"
   ]
  },
  {
   "cell_type": "markdown",
   "metadata": {},
   "source": [
    "#### Homogeneous vs. Heterogeneous Lists: A Key Consideration\n",
    "\n",
    "The success of some functions (like sum, min, max, sorted) heavily depends on whether your list is homogeneous or heterogeneous.\n",
    "\n",
    "- **Homogeneous List:** A list where all items are of the same data type:\n",
    "    `[10, 20, 30]`\n",
    "- **Heterogeneous List:** A list containing items of different data types: `[2014, \"Christopher Nolan\", 8.7]`"
   ]
  },
  {
   "cell_type": "code",
   "execution_count": null,
   "metadata": {},
   "outputs": [],
   "source": [
    "print(min(movie_genres))"
   ]
  },
  {
   "cell_type": "code",
   "execution_count": null,
   "metadata": {},
   "outputs": [],
   "source": [
    "print(min(interstellar))"
   ]
  },
  {
   "cell_type": "markdown",
   "metadata": {},
   "source": [
    "#### List methods\n",
    "\n",
    "Some common list methods include:\n",
    "- `.append()`\n",
    "- `.insert()`\n",
    "- `.remove()`\n",
    "- `.pop()`\n",
    "- `.count()`"
   ]
  },
  {
   "cell_type": "code",
   "execution_count": null,
   "metadata": {},
   "outputs": [],
   "source": [
    "interstellar.append(\"$758M\")\n",
    "print(interstellar)"
   ]
  },
  {
   "cell_type": "markdown",
   "metadata": {},
   "source": [
    "### Getting help with functions and methods\n",
    "\n",
    "The arguments you need to give a function or method are not alway obvious. Fortunately, there are several ways to get help:\n",
    "- **Question mark:** Type the function or method you want to use, followed by a `?`\n"
   ]
  },
  {
   "cell_type": "code",
   "execution_count": null,
   "metadata": {},
   "outputs": [],
   "source": [
    "interstellar.insert?"
   ]
  },
  {
   "cell_type": "markdown",
   "metadata": {},
   "source": [
    "- **The `help` function**"
   ]
  },
  {
   "cell_type": "code",
   "execution_count": null,
   "metadata": {},
   "outputs": [],
   "source": [
    "help(interstellar.remove)"
   ]
  },
  {
   "cell_type": "markdown",
   "metadata": {},
   "source": [
    "- **`Shift + Tab` for contextual help**"
   ]
  },
  {
   "cell_type": "code",
   "execution_count": null,
   "metadata": {},
   "outputs": [],
   "source": [
    "interstellar.pop(1)"
   ]
  },
  {
   "cell_type": "markdown",
   "metadata": {},
   "source": [
    "___\n",
    "## 💪 **Exercise** 💪\n",
    "1.  Look up your *least* favorite movie on [IMDb](www.imdb.com).\n",
    "2.  Create a list containing the following: movie title, year, IMDb rating, is it a sequel?\n",
    "3.  Print the list.\n",
    "4.  Insert the content rating (e.g., PG) after the year.\n",
    "5.  Print the updated list.\n",
    "___"
   ]
  },
  {
   "cell_type": "code",
   "execution_count": null,
   "metadata": {},
   "outputs": [],
   "source": []
  },
  {
   "cell_type": "markdown",
   "metadata": {},
   "source": [
    "## Dictionaries\n",
    "\n",
    "Beyond lists, Python offers another incredibly powerful and flexible built-in data structure called a **dictionary**. While lists store items by their ordered position (index), dictionaries store data as **key-value pairs**. Think of a dictionary like a real-world dictionary where each \"word\" is a unique key, and its \"definition\" is the value. Dictionaries are:\n",
    "- Unordered (in Python 3.7+): They are designed for fast lookup by key, not by numerical position.\n",
    "\n",
    "- Mutable: You can add, remove, or modify key-value pairs after a dictionary has been created.\n",
    "\n",
    "- Keys Must Be Unique: Each key in a dictionary must be unique. If you try to add a key that already exists, its existing value will be overwritten.\n",
    "\n",
    "- Keys Must Be Immutable: Dictionary keys must be immutable data types (like strings or numbers). Lists cannot be keys because they are mutable.\n",
    "\n",
    "- Values Can Be Anything: Values can be of any data type, including other dictionaries, lists, numbers, strings, etc."
   ]
  },
  {
   "cell_type": "code",
   "execution_count": null,
   "metadata": {},
   "outputs": [],
   "source": [
    "movie_revenue = {\n",
    "    \"Avatar\": 2923706026,\n",
    "    \"Avengers: Endgame\": 2797501328,\n",
    "    \"Avatar: The Way of Water\": 2320250281,\n",
    "    \"Titanic\": 2257844554,\n",
    "    \"Star Wars: The Force Awakens\": 2068223624,\n",
    "    \"Spider-Man: No Way Home\": 1921855086,\n",
    "    \"Jurassic World\": 1671537445\n",
    "}"
   ]
  },
  {
   "cell_type": "markdown",
   "metadata": {},
   "source": [
    "#### Accessing Values\n",
    "You access values in a dictionary using their associated keys, not numerical indices."
   ]
  },
  {
   "cell_type": "code",
   "execution_count": null,
   "metadata": {},
   "outputs": [],
   "source": [
    "print(movie_revenue[\"Avatar\"])"
   ]
  },
  {
   "cell_type": "markdown",
   "metadata": {},
   "source": [
    "#### Adding, Modifying, and Removing Key-Value Pairs\n",
    "Dictionaries are mutable, so you can easily change their contents."
   ]
  },
  {
   "cell_type": "markdown",
   "metadata": {},
   "source": [
    "##### Adding New Pairs"
   ]
  },
  {
   "cell_type": "code",
   "execution_count": null,
   "metadata": {},
   "outputs": [],
   "source": [
    "movie_revenue[\"Napoleon Dynamite\"] = 1000\n",
    "print(movie_revenue)"
   ]
  },
  {
   "cell_type": "markdown",
   "metadata": {},
   "source": [
    "#### Modifying values"
   ]
  },
  {
   "cell_type": "code",
   "execution_count": null,
   "metadata": {},
   "outputs": [],
   "source": [
    "movie_revenue['Jurassic World'] = 10\n",
    "print(movie_revenue)"
   ]
  },
  {
   "cell_type": "markdown",
   "metadata": {},
   "source": [
    "##### Removing Pairs\n",
    "You can use the `del` keyword."
   ]
  },
  {
   "cell_type": "code",
   "execution_count": null,
   "metadata": {},
   "outputs": [],
   "source": [
    "del movie_revenue['Avatar']\n",
    "print(movie_revenue)"
   ]
  },
  {
   "cell_type": "markdown",
   "metadata": {},
   "source": [
    "##### Common Built-in Functions and Dictionary Methods\n",
    "- `len(dictionary)`: Returns the number of key-value pairs in the dictionary.\n",
    "- `.keys()`: Returns a view object that displays a list of all the keys in the dictionary.\n",
    "- `.values()`: Returns a view object that displays a list of all the values in the dictionary.\n",
    "- `.items()`: Returns a view object that displays a list of a dictionary's key-value tuple pairs."
   ]
  },
  {
   "cell_type": "code",
   "execution_count": null,
   "metadata": {},
   "outputs": [],
   "source": [
    "movie_revenue.values()"
   ]
  },
  {
   "cell_type": "markdown",
   "metadata": {
    "jp-MarkdownHeadingCollapsed": true,
    "tags": []
   },
   "source": [
    "## Tuples (FYI)"
   ]
  },
  {
   "cell_type": "markdown",
   "metadata": {
    "tags": []
   },
   "source": [
    "In Python, a tuple is a data structure used to store an ordered collection of items. It's similar to a list, but with one critical difference: tuples are immutable. Tuples are:\n",
    "\n",
    "- Ordered: Items have a defined sequence, accessible by index (starting from 0).\n",
    "\n",
    "- Immutable: Once created, you cannot change, add, or remove items from a tuple. Its contents are fixed.\n",
    "\n",
    "- Allows Duplicates: Can contain repeated values.\n",
    "\n",
    "- Heterogeneous: Can hold items of different data types.\n",
    "\n",
    "A common use of tuples is as a key in a dictionary to represent coordinates:"
   ]
  },
  {
   "cell_type": "code",
   "execution_count": null,
   "metadata": {
    "tags": []
   },
   "outputs": [],
   "source": [
    "sensor_readings = {\n",
    "    (40.7128, -74.0060): {\"temperature\": 25.5, \"humidity\": 60},   # (40.7128, -74.0060) is the tuple\n",
    "    (34.0522, -118.2437): {\"temperature\": 30.1, \"humidity\": 30}   \n",
    "}\n",
    "\n",
    "print(sensor_readings[40.7128, -74.0060])   # Direct access by referencing the tuple"
   ]
  },
  {
   "cell_type": "code",
   "execution_count": null,
   "metadata": {},
   "outputs": [],
   "source": [
    "# A cleaner way is to assign the tuple to a variable first\n",
    "coord = (34.0522, -118.2437)\n",
    "print(sensor_readings[coord])"
   ]
  },
  {
   "cell_type": "markdown",
   "metadata": {},
   "source": [
    "___\n",
    "## 💪 **Exercise** 💪\n",
    "\n",
    "Imagine you're recording a single measurement from a sensor.\n",
    "\n",
    "Create a new code cell below this one.\n",
    "\n",
    "1. Create a dictionary named `sensor_reading` with the following data: \n",
    "| Key | Value |\n",
    "|-----|-------|\n",
    "| timestamp | 2025-06-23 10:30:00 |\n",
    "| temperature_c | 28.5 |\n",
    "| humidity_percent | 65 |\n",
    "| location | Lab A |\n",
    "\n",
    "2. Print the entire `sensor_reading` dictionary.\n",
    "\n",
    "3. Access and print only the `temperature_c` value.\n",
    "\n",
    "4. Add a new key-value pair: `\"pressure_kpa\"` with a value of `101.25`.\n",
    "\n",
    "5. Change the `humidity_percent` to `68`.\n",
    "\n",
    "6. Print the updated `sensor_reading` dictionary.\n",
    "___"
   ]
  },
  {
   "cell_type": "markdown",
   "metadata": {},
   "source": [
    "## 📓 Reflection 📓\n",
    "\n",
    "When teaching science and integrating coding, what is the value of \"non-science\" examples?"
   ]
  },
  {
   "cell_type": "markdown",
   "metadata": {},
   "source": []
  }
 ],
 "metadata": {
  "kernelspec": {
   "display_name": "Python 3 (ipykernel)",
   "language": "python",
   "name": "python3"
  },
  "language_info": {
   "codemirror_mode": {
    "name": "ipython",
    "version": 3
   },
   "file_extension": ".py",
   "mimetype": "text/x-python",
   "name": "python",
   "nbconvert_exporter": "python",
   "pygments_lexer": "ipython3",
   "version": "3.9.12"
  }
 },
 "nbformat": 4,
 "nbformat_minor": 4
}
