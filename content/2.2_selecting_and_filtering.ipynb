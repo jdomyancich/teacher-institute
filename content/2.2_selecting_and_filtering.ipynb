{
 "cells": [
  {
   "cell_type": "markdown",
   "metadata": {
    "tags": []
   },
   "source": [
    "# Data Wrangling\n",
    "\n",
    "This is one of the hardest parts of working with data. Raw data is rarely ready to be analyzed. Scientists spend a lot of time manipulating their data to get it into a form that can be used. We call it \"wrangling\".\n",
    "\n",
    "<img src = 'https://upload.wikimedia.org/wikipedia/commons/thumb/5/52/Cats_in_aoshima_island_1.JPG/1600px-Cats_in_aoshima_island_1.JPG' width = 400>\n",
    "\n",
    "Possible problems with data:\n",
    "* Getting only the data you need \n",
    "* Incorrect data types\n",
    "* Incorrect units"
   ]
  },
  {
   "cell_type": "markdown",
   "metadata": {},
   "source": [
    "## Selecting Columns\n",
    "The most common way to get data from a DataFrame is by selecting one or more columns. Remember, each column is a Pandas Series. Columns are much easier to work with because they are arrays, meaning all the elements in a column are the same datatype (or they should be).\n",
    "\n",
    "We'll continue using the historical global temperatures dataset from [Berkeley Earth](https://berkeleyearth.org/about/). Since this is a new notebook, we need to import Pandas again and load the dataset."
   ]
  },
  {
   "cell_type": "code",
   "execution_count": null,
   "metadata": {},
   "outputs": [],
   "source": [
    "import pandas as pd\n",
    "global_temps = pd.read_csv('data/global_temps_by_city.csv')\n",
    "global_temps.head()"
   ]
  },
  {
   "cell_type": "markdown",
   "metadata": {},
   "source": [
    "### Selecting a Single Column\n",
    "To select a single column, use square bracket notation with the column name as a string:"
   ]
  },
  {
   "cell_type": "code",
   "execution_count": null,
   "metadata": {},
   "outputs": [],
   "source": [
    "cities = global_temps['City']\n",
    "print(cities)"
   ]
  },
  {
   "cell_type": "markdown",
   "metadata": {},
   "source": [
    "### Selecting Multiple Columns\n",
    "To select multiple columns, you need to pass a **list** of column names inside the square brackets. This will return a new dataframe.\n",
    "\n",
    "The double brackets may seem odd, but it is because we are proving the desired columns as a list which itself is in brackets:\n",
    "\n",
    "`list_of_columns = ['column_name1', 'column_name2, ...]` <br>\n",
    "+<br>\n",
    "`dataset_name[list_of_columns]`<br>\n",
    "=<br>\n",
    "`dataset_name[['column_name1', 'column_name2, ...]]`"
   ]
  },
  {
   "cell_type": "markdown",
   "metadata": {},
   "source": [
    "We can filter certain columns by using brackets around the column names, but we need to pass it as a list of column names, which needs to be in its own set of brackets. This is how we reference columns: `dataset_name[['column_name1', 'column_name2, ...]]`\n",
    "\n",
    "The double brackets may seem odd, but it is because we are proving the desired columns as a list which itself is in brackets:\n",
    "\n",
    "`list_of_columns = ['column_name1', 'column_name2, ...]` <br>\n",
    "+<br>\n",
    "`dataset_name[list_of_columns]`<br>\n",
    "=<br>\n",
    "`dataset_name[['column_name1', 'column_name2, ...]]`"
   ]
  },
  {
   "cell_type": "code",
   "execution_count": null,
   "metadata": {},
   "outputs": [],
   "source": [
    "city_temps = global_temps[['AverageTemperature', 'City', 'Country']]\n",
    "city_temps"
   ]
  },
  {
   "cell_type": "markdown",
   "metadata": {},
   "source": [
    "## Selecting Rows\n",
    "\n",
    "Rows are a little trickier to reference because they are not arrays. In columns, we can reference the name of the columns that we are interested in. Also, the elements in a column are the same data type. Since rows contain the elements of several different arrays, they can contain multiple data types and require a different way of thinking. We can filter rows two ways: by index or by label.\n",
    "\n",
    "- `loc` (label-based indexing): Used for selecting by the actual labels of your index (which are often numbers, but can be text or dates).\n",
    "\n",
    "- `iloc` (integer-location based indexing): Used for selecting by the numerical position of the rows and columns (always 0-indexed)."
   ]
  },
  {
   "cell_type": "markdown",
   "metadata": {},
   "source": [
    "### Selecting Rows with `loc`\n",
    "\n",
    "`loc` works with the index labels. If your DataFrame has a default integer index (0, 1, 2...), `loc` can use these integers. You can select by:\n",
    "- single rows\n",
    "- multiple rows\n",
    "- range of rows"
   ]
  },
  {
   "cell_type": "code",
   "execution_count": null,
   "metadata": {},
   "outputs": [],
   "source": [
    "# Single row\n",
    "first_row = city_temps.loc[0]\n",
    "first_row"
   ]
  },
  {
   "cell_type": "code",
   "execution_count": null,
   "metadata": {},
   "outputs": [],
   "source": [
    "# Multiple rows\n",
    "mult_row = city_temps.loc[[2, 343, 10555]]\n",
    "mult_row"
   ]
  },
  {
   "cell_type": "code",
   "execution_count": null,
   "metadata": {},
   "outputs": [],
   "source": [
    "# Range of rows\n",
    "range_row = city_temps.loc[502:508]\n",
    "range_row"
   ]
  },
  {
   "cell_type": "markdown",
   "metadata": {},
   "source": [
    "### Selecting Rows with `iloc`\n",
    "\n",
    "`iloc` works with the position of the row/column, always starting from 0. You can select by:\n",
    "- single rows\n",
    "- multiple rows\n",
    "- range of rows"
   ]
  },
  {
   "cell_type": "code",
   "execution_count": null,
   "metadata": {},
   "outputs": [],
   "source": [
    "# Single row\n",
    "first_row = city_temps.iloc[0]\n",
    "first_row"
   ]
  },
  {
   "cell_type": "code",
   "execution_count": null,
   "metadata": {},
   "outputs": [],
   "source": [
    "# Multiple rows\n",
    "mult_row = city_temps.iloc[[2, 343, 10555]]\n",
    "mult_row"
   ]
  },
  {
   "cell_type": "code",
   "execution_count": null,
   "metadata": {},
   "outputs": [],
   "source": [
    "# Range of rows\n",
    "range_row = city_temps.iloc[502:508]\n",
    "range_row"
   ]
  },
  {
   "cell_type": "markdown",
   "metadata": {},
   "source": [
    "#### `loc` vs. `iloc`\n",
    "\n",
    "It may appear that `loc` and `iloc` are behaving exactly the same way, but that is only because the index in the `city_temps` dataframe is set to the default integer structure. Not all datasets will be like this and we can also change the index to a different column if we want (which we will learn later!)"
   ]
  },
  {
   "cell_type": "markdown",
   "metadata": {},
   "source": [
    "#### Cross Fire\n",
    "\n",
    "For selecting rows and columns simultaneously: `df.loc[row_labels, column_labels]` or `df.iloc[row_positions, column_positions]`."
   ]
  },
  {
   "cell_type": "code",
   "execution_count": null,
   "metadata": {},
   "outputs": [],
   "source": [
    "specific_data = city_temps.loc[[323], ['City']]\n",
    "print(specific_data)"
   ]
  },
  {
   "cell_type": "code",
   "execution_count": null,
   "metadata": {},
   "outputs": [],
   "source": [
    "specific_data = city_temps.iloc[[323], [1]]\n",
    "print(specific_data)"
   ]
  },
  {
   "cell_type": "code",
   "execution_count": null,
   "metadata": {},
   "outputs": [],
   "source": [
    "# Select multiple cells\n",
    "multiple_data = city_temps.loc[[323, 765], ['AverageTemperature', 'City']]\n",
    "multiple_data"
   ]
  },
  {
   "cell_type": "markdown",
   "metadata": {},
   "source": [
    "#### Slicing\n",
    "You can \"slice\" a range of rows or columns by their labels. Important: Slicing with `loc` is inclusive of the start and end label."
   ]
  },
  {
   "cell_type": "code",
   "execution_count": null,
   "metadata": {},
   "outputs": [],
   "source": [
    "sliced_data = city_temps.loc[5000:5005, 'AverageTemperature':'Country']\n",
    "sliced_data"
   ]
  },
  {
   "cell_type": "markdown",
   "metadata": {},
   "source": [
    "___\n",
    "## 💪💪 **Pair Programming Exercise** 💪💪\n",
    "\n",
    "1. Create a new dataframe called `temps_lat_long` that contains only the `AverageTemperature`, `City`, `Latitude`, and `Longitude` columns. Display the head of this new dataframe to check your work.\n",
    "2. Select and display the data for the 10000th row.\n",
    "___"
   ]
  },
  {
   "cell_type": "markdown",
   "metadata": {},
   "source": [
    "## Conditional Filtering (Boolean Indexing)\n",
    "\n",
    "This is one of the most powerful features of Pandas: selecting rows based on whether they meet a certain condition. You pass a Series of `True`/`False` values (a \"Boolean Series\") inside the square brackets. Only rows where the value is `True` will be returned. The easiest way to undrstand this is by breaking it down, step by step:"
   ]
  },
  {
   "cell_type": "markdown",
   "metadata": {},
   "source": [
    "**Step 1: Create a condition**\n",
    "\n",
    "Let's ask a question: \"Which cities have experienced very hot average temperature for a specific month?\" Let's say 35&deg;C (95&deg;F) is \"very hot\"."
   ]
  },
  {
   "cell_type": "code",
   "execution_count": null,
   "metadata": {},
   "outputs": [],
   "source": [
    "condition = city_temps['AverageTemperature'] >= 35"
   ]
  },
  {
   "cell_type": "markdown",
   "metadata": {},
   "source": [
    "**Step 2: Generate the Boolean Series**\n",
    "\n",
    "If you `print(condition)`, you wouldn't see the cities. You would see the Boolean Series—the `True`/`False` answer for every single city:"
   ]
  },
  {
   "cell_type": "code",
   "execution_count": null,
   "metadata": {},
   "outputs": [],
   "source": [
    "print(condition)"
   ]
  },
  {
   "cell_type": "markdown",
   "metadata": {},
   "source": [
    "**Step 3: Use the series to filter the dataframe**\n",
    "Now, you use that condition (the Boolean Series) as a filter inside the square brackets of your original dataframe.\n",
    "\n",
    "Pandas will look at your `city_temps` dataframe, and for every row, it will check the corresponding value in your condition series. It will only keep the rows where the value is True."
   ]
  },
  {
   "cell_type": "code",
   "execution_count": null,
   "metadata": {},
   "outputs": [],
   "source": [
    "high_temps = city_temps[condition]\n",
    "high_temps"
   ]
  },
  {
   "cell_type": "markdown",
   "metadata": {},
   "source": [
    "You will often see these steps condensed into a single line of code:"
   ]
  },
  {
   "cell_type": "code",
   "execution_count": null,
   "metadata": {},
   "outputs": [],
   "source": [
    "high_temps = city_temps[city_temps['AverageTemperature'] >= 35]\n",
    "high_temps"
   ]
  },
  {
   "cell_type": "markdown",
   "metadata": {},
   "source": [
    "### Combining Conditions\n",
    "\n",
    "You can combine multiple conditions using logical operators:\n",
    "\n",
    "- & for AND (both conditions must be true)\n",
    "- | for OR (at least one condition must be true)\n",
    "\n",
    "Remember to put each condition in parentheses!"
   ]
  },
  {
   "cell_type": "code",
   "execution_count": null,
   "metadata": {},
   "outputs": [],
   "source": [
    "condition = (city_temps['Country'] == 'India') & (city_temps['AverageTemperature'] > 36)\n",
    "hot_india = city_temps[condition]\n",
    "hot_india"
   ]
  },
  {
   "cell_type": "markdown",
   "metadata": {},
   "source": [
    "___\n",
    "## 💪💪 **Pair Programming Exercise** 💪💪\n",
    "\n",
    "Using the original `global_temps` dataframe:\n",
    "\n",
    "1. Find all the records in the `global_temps` dataframe where the Country is 'United States'. Create a new dataframe called `us_temps` to store this data. Display the number of records in this new dataframe.\n",
    "2. Now, let's find the coldest months on record in Chicago. Filter the `us_temps` dataframe to find all records for the City of 'Chicago' where the `AverageTemperature` was below -15°C.\n",
    "___"
   ]
  },
  {
   "cell_type": "markdown",
   "metadata": {},
   "source": [
    "## 📓 Reflection 📓\n",
    "\n",
    "How was the experience of \"pair programming\"? What did you like/not like about it? Put yourself in your students' shoes. How do you think they would react to pair programming? "
   ]
  },
  {
   "cell_type": "code",
   "execution_count": null,
   "metadata": {},
   "outputs": [],
   "source": []
  }
 ],
 "metadata": {
  "kernelspec": {
   "display_name": "Python 3 (ipykernel)",
   "language": "python",
   "name": "python3"
  },
  "language_info": {
   "codemirror_mode": {
    "name": "ipython",
    "version": 3
   },
   "file_extension": ".py",
   "mimetype": "text/x-python",
   "name": "python",
   "nbconvert_exporter": "python",
   "pygments_lexer": "ipython3",
   "version": "3.9.12"
  }
 },
 "nbformat": 4,
 "nbformat_minor": 4
}
