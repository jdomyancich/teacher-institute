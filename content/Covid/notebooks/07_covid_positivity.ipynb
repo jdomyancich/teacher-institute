{
 "cells": [
  {
   "cell_type": "markdown",
   "metadata": {},
   "source": [
    "# Notebook 7: Seeing the Problem as Data \n",
    "\n",
    "## Part 1: Is Covid Real?\n",
    "\n",
    "Suprisingly, this was a hotly debated question in the early months of Covid. Many people suggested that the very existence of Covid was a \"hoax\" or that it was no worse than the flu. As we know, social media has allowed conspiracy theories and misinformation to spread easily and quickly among people. \n",
    "\n",
    "Fortunately, data is a powerful tool to help us see a problem clearly. Let's see if we can use data to set the record straight!"
   ]
  },
  {
   "cell_type": "markdown",
   "metadata": {},
   "source": [
    "Chicago is the third-largest city in the United States, with an estimated 2.71 million people living within the city's limits. This is _approximately_ the size of 19th century London (2.5 million). \n",
    "\n",
    "<table><tr>\n",
    "    <td> <img src=\"../imgs/chicago_zip_map.jpeg\" alt=\"Drawing\" style=\"width: 300px;\"/> </td>\n",
    "</tr></table>\n",
    "\n",
    "<br>\n",
    "\n",
    "How do we know there's a problem? We have gathered some data from the Illinois Department of Public Health. Specifically, how many people in Chicago have died each year form 2012 to 2021. What does this data tell us? "
   ]
  },
  {
   "cell_type": "code",
   "execution_count": null,
   "metadata": {},
   "outputs": [],
   "source": [
    "from matplotlib import pyplot as plt\n",
    "import pandas as pd\n",
    "\n",
    "years = list(range(2012,2022))  \n",
    "chicago_total_deaths = [18911, 18825, 19003, 19308, 19809, 19742, 19660, 19630, 25769, 22882]\n",
    "chicago_populations = [2714856, 2718782, 2722389, 2720546, 2704958, 2716450, 2705994, 2693976, 2741730, 2696555]\n",
    "\n",
    "Chicago = pd.DataFrame(list(zip(years, chicago_total_deaths, chicago_populations)), columns=['year', 'deaths', 'population'])\n",
    "Chicago"
   ]
  },
  {
   "cell_type": "code",
   "execution_count": null,
   "metadata": {},
   "outputs": [],
   "source": [
    "# Task 1: Normalize the number of deaths in Chicago by creating a new column: “deaths_per_1000”\n",
    "\n",
    "Chicago['deaths_per_1000'] = ???\n",
    "\n",
    "Chicago"
   ]
  },
  {
   "cell_type": "markdown",
   "metadata": {},
   "source": [
    "We can also visualize this data with a line graph."
   ]
  },
  {
   "cell_type": "code",
   "execution_count": null,
   "metadata": {},
   "outputs": [],
   "source": [
    "plt.plot(Chicago['Year'], Chicago['DeathsPer1000'])\n",
    "plt.title(\"Chicago 'Deaths per 1000' per Year\")\n",
    "plt.xlabel(\"Year\")\n",
    "plt.ylabel(\"Deaths per 1000 People\")\n",
    "\n",
    "print(\"Source: https://dph.illinois.gov/data-statistics/vital-statistics/death-statistics.html\")"
   ]
  },
  {
   "cell_type": "markdown",
   "metadata": {},
   "source": [
    "------------------------------------------\n",
    " \n",
    "<br>\n",
    " \n",
    "<img src=\"../imgs/pencil.png\" alt=\"Drawing\" align=left style=\"width: 20px;\"/> <font size=4> **Journal 7a:** From Cholera to COVID</font>\n",
    "\n",
    "We did a similar study of deaths in London to identify the years that cholera outbreaks occurred. How would you use the above data to argue against the suggestion that Covid was a \"hoax\"?\n",
    "\n",
    "> Write your answer here! "
   ]
  },
  {
   "cell_type": "markdown",
   "metadata": {},
   "source": [
    "<br>\n",
    "\n",
    "<img src=\"../imgs/save-icon.jpeg\" alt=\"Drawing\" align=left style=\"width: 20px;\"/> <font size=\"4\">     **&ensp;&ensp;&ensp;Stop and save your work!** </font>"
   ]
  },
  {
   "cell_type": "markdown",
   "metadata": {},
   "source": [
    "## Part 2: Research is 'Standing on the Shoulders of Giants'\n",
    "In May 2020, Kevin Credit from the Center for Spatial Data Science at the UChicago wrote \"Neighborhood inequity: Exploring the factors underlying racial and ethnic disparities in COVID-19 testing and infection rates using ZIP code data in Chicago and New York\". \n",
    "\n",
    "Fortunately at the conclusion of publishing this paper, Kevin shared his data with us! This poses one important question: \n",
    "\n",
    "Kevin's research also would not have been possible without open source research data from: \n",
    "Illinois Department of Health: https://www.dph.illinois.gov/covid19/covid19-statistics\n",
    "\n",
    "U.S. Census Bureau: https://data.census.gov/cedsci\n"
   ]
  },
  {
   "cell_type": "code",
   "execution_count": null,
   "metadata": {},
   "outputs": [],
   "source": [
    "# Next we load our data into a usable format and view the first few rows\n",
    "    \n",
    "frame = pd.read_csv(\"../data/cov_chi_with_positivity_lite.csv\")\n",
    "frame.head()"
   ]
  },
  {
   "cell_type": "code",
   "execution_count": null,
   "metadata": {},
   "outputs": [],
   "source": [
    "# Since there are so many columns, let's list them\n",
    "\n",
    "cols = frame.columns.tolist()\n",
    "print(cols)"
   ]
  },
  {
   "cell_type": "markdown",
   "metadata": {},
   "source": [
    "_____________________________________________________________________\n",
    "It's not always easy to know what a column name means.\n",
    "\n",
    "Thankfully, Kevin's data are accompanied by a comprehensive variable guide! \n",
    "\n",
    "**NOTE: after the variable guide, there is a cell where you can peek at each variable. Give it a try!**\n",
    "\n",
    "_____________________________________________________________________\n",
    "\n",
    "**Population**\n",
    "\n",
    "`POP`: Total population \n",
    "\n",
    "`P0_44`: Number of people ages 0 to 44 \n",
    "\n",
    "`P45_64`: Number of people ages 45 to 64: \n",
    "\n",
    "`P65_`: Number of people ages 65 and older \n",
    "\n",
    "<p>&nbsp;</p>\n",
    "\n",
    "**Socio-economic status** \n",
    "\n",
    "`MEDINC`: Median household income \n",
    "\n",
    "`PERNOINS`: Percent without health insurance \n",
    "\n",
    "<p>&nbsp;</p>\n",
    "\n",
    "**Racial/Ethnic neighbourhood types**\n",
    "\n",
    "`BLKNH`: Black non-Hispanic-Majority Neighborhood  \n",
    "\n",
    "`HISPNH`: Hispanic-Majority Neighborhood  \n",
    "\n",
    "`WNH`: White non-Hispanic-Majority Neighborhood \n",
    "\n",
    "`PERASN`: Asian-Majority Neighborhood \n",
    "\n",
    "<p>&nbsp;</p>\n",
    "\n",
    "**Occupations**\n",
    "`PEROFFTC`: Percent office and telecommute workers\n",
    "\n",
    "`PERHSRV`: Percent healthcare service workers\n",
    "\n",
    "`PERPSRV`: Percent public service workers\n",
    "\n",
    "`PERFOOD`: Percent food service workers\n",
    "\n",
    "`PERCLEAN`: Percent cleaning service workers\n",
    "\n",
    "<p>&nbsp;</p>\n",
    "\n",
    "**How people get to work**\n",
    "\n",
    "`PERAUTO`: Percent personal automobile commuters\n",
    "\n",
    "`PERTRAN`: Percent public transportation commuters\n",
    "\n",
    "`PERPEDB`: Percent pedestrian and bike commuters\n",
    "\n",
    "`PERTELE`: Percent telecommuters (work from home)\n",
    "\n",
    "\n",
    "<p>&nbsp;</p>\n",
    "\n",
    "**Built environments**\n",
    "\n",
    "`FDTRTPER`: Percent food desert tracts \n",
    "\n",
    "`WS_5`: Hospital accessibility score \n",
    "\n",
    "`POPDENS`: Population density (per square meter)  \n",
    "\n",
    "`PERCROWD`: Percent housing units w/ > 1 person per room \n",
    "\n",
    "<p>&nbsp;</p>\n",
    "\n",
    " \n",
    "**COVID-19**\n",
    "\n",
    "`CASE4_16`: Number of positive cases the week ending 4/16  \n",
    "\n",
    "`TEST4_16`: Number of tests performed the week ending 4/16 \n"
   ]
  },
  {
   "cell_type": "code",
   "execution_count": null,
   "metadata": {},
   "outputs": [],
   "source": [
    "# Use this cell to explore the different variables by changing the name inside. \n",
    "# Remove '.head()' to see all of the data!\n",
    "frame['???'].head()\n"
   ]
  },
  {
   "cell_type": "markdown",
   "metadata": {},
   "source": [
    "<br>\n",
    " \n",
    "<img src=\"../imgs/pencil.png\" alt=\"Drawing\" align=left style=\"width: 20px;\"/> <font size=4> **Task 2:** Variable Identification</font>\n",
    "\n",
    "Identify variables from the dataset that could be used to measure Covid's impact on communities.  \n",
    "\n",
    "> Write your answer here! \n",
    "\n",
    "<br>"
   ]
  },
  {
   "cell_type": "markdown",
   "metadata": {},
   "source": [
    "<br>\n",
    "\n",
    "<img src=\"../imgs/save-icon.jpeg\" alt=\"Drawing\" align=left style=\"width: 20px;\"/> <font size=\"4\">     **&ensp;&ensp;&ensp;Stop and save your work!** </font>"
   ]
  },
  {
   "cell_type": "markdown",
   "metadata": {
    "tags": []
   },
   "source": [
    "________________________________________________________________\n",
    "\n",
    "## Part 3: Creating New Data\n",
    "\n",
    "First we want to examine the `case rate`: **the percentage of the population that has COVID-19**. \n",
    "\n",
    "You'll notice that there is *not* already a case rate variable in Kevin's data -- this means we need to construct it ourselves!\n",
    "\n",
    "In Python, we can do this by \"declaring a function\" that inputs **something** and outputs the case rate. In this case **something** is the total number of cases and the population size. The function says how to use these inputs to **return** a value, in this case, the case rate."
   ]
  },
  {
   "cell_type": "code",
   "execution_count": null,
   "metadata": {},
   "outputs": [],
   "source": [
    "# This is a function! If you run this cell nothing happens. \n",
    "# Why do you think that is?\n",
    "\n",
    "def case_rate(total_cases, population): \n",
    "    cases_over_population = total_cases / population\n",
    "    return cases_over_population * 100  # Why multiply it by 100? "
   ]
  },
  {
   "cell_type": "code",
   "execution_count": null,
   "metadata": {},
   "outputs": [],
   "source": [
    "# Generate a new column of data for the week of 4/16 called “case_rate_4_16” \n",
    "# using the “case_rate” function for April 16th, 2020 \n",
    "\n",
    "frame['case_rate_4_16'] = case_rate(frame[???], frame[???])\n",
    "\n",
    "# Next we can preview our new data to see if they pass the **smell-test**!\n",
    "\n",
    "frame['case_rate_4_16'].head()"
   ]
  },
  {
   "cell_type": "markdown",
   "metadata": {},
   "source": [
    "<br>\n",
    "\n",
    "<img src=\"../imgs/pencil.png\" alt=\"Drawing\" align=left style=\"width: 20px;\"/> <font size=4> **Journal 7b:** Case Rate 'Smell Test'</font>\n",
    "\n",
    "What do the values for `case_rate_4_16` mean? Does your generated numbers appear to be a reasonable size (not too big and not too small)?  \n",
    "\n",
    "> Write your answer here! \n",
    "\n",
    "<br>\n"
   ]
  },
  {
   "cell_type": "markdown",
   "metadata": {},
   "source": [
    "<br>\n",
    "\n",
    "Next, we want to consider the **testing rate: the total percentage of the population that got tested!**\n",
    "\n",
    "**Don't forget to preview your new data field to ensure everything looks good!** \n",
    "\n",
    "<br>"
   ]
  },
  {
   "cell_type": "code",
   "execution_count": null,
   "metadata": {},
   "outputs": [],
   "source": [
    "# Make a function called “test_rate” that normalizes test rate\n",
    "# HINT: it looks a LOT like the case_rate function\n",
    "\n",
    "def test_rate(total_tests, population):\n",
    "    ??? = ??? ??? ???\n",
    "    return ??? ??? ???\n"
   ]
  },
  {
   "cell_type": "code",
   "execution_count": null,
   "metadata": {},
   "outputs": [],
   "source": [
    "# Generate a new column of data for the week of 4/16 called \n",
    "# “test_rate_4_16” using the “test_rate” function.\n",
    "\n",
    "frame[\"test_rate_4_16\"] = test_rate(???, ???)\n",
    "\n",
    "# Preview our new data\n",
    "frame['testing_rate_4_16'].head()"
   ]
  },
  {
   "cell_type": "markdown",
   "metadata": {},
   "source": [
    "<br>\n",
    "\n",
    "<img src=\"../imgs/save-icon.jpeg\" alt=\"Drawing\" align=left style=\"width: 20px;\"/> <font size=\"4\">     **&ensp;&ensp;&ensp;Stop and save your work!** </font>"
   ]
  },
  {
   "cell_type": "markdown",
   "metadata": {},
   "source": [
    "## Part 4: Positivity Rate\n",
    "\n",
    "Now that you have some experience building and using functions, let's apply it to build our desired outcome variable, **positivity rate**!"
   ]
  },
  {
   "cell_type": "markdown",
   "metadata": {},
   "source": [
    "<img src=\"../imgs/pos_rate.png\" alt=\"Drawing\" style=\"width: 600px;\"/>"
   ]
  },
  {
   "cell_type": "code",
   "execution_count": null,
   "metadata": {},
   "outputs": [],
   "source": [
    "# Define a function called \"pos_rate\" that calculates positivity rate \n",
    "\n",
    "def pos_rate(cases, tests):\n",
    "    ??? = ??? ??? ???\n",
    "    return ??? ??? ???\n"
   ]
  },
  {
   "cell_type": "code",
   "execution_count": null,
   "metadata": {},
   "outputs": [],
   "source": [
    "# Using your pos_rate function, create a new \n",
    "# column in the dataframe for the week of 4/16 called “pos_rate_4_16”\n",
    "\n",
    "???\n",
    "\n",
    "# Preview your new data\n",
    "\n",
    "???"
   ]
  },
  {
   "cell_type": "markdown",
   "metadata": {},
   "source": [
    "## Congratulations! You've just created your very own outcome variable! \n",
    "\n",
    "Positivity rate enables us as researchers to see the impact of COVID, even when the total number of tests completed is low. In the upcoming exercises we will visualize and test your new variable of interest (among others!)"
   ]
  },
  {
   "cell_type": "markdown",
   "metadata": {},
   "source": [
    "<br>\n",
    "\n",
    "<img src=\"../imgs/save-icon.jpeg\" alt=\"Drawing\" align=left style=\"width: 20px;\"/> <font size=\"4\">     **&ensp;&ensp;&ensp;Stop and save your work!** </font>"
   ]
  }
 ],
 "metadata": {
  "kernelspec": {
   "display_name": "Python 3 (ipykernel)",
   "language": "python",
   "name": "python3"
  },
  "language_info": {
   "codemirror_mode": {
    "name": "ipython",
    "version": 3
   },
   "file_extension": ".py",
   "mimetype": "text/x-python",
   "name": "python",
   "nbconvert_exporter": "python",
   "pygments_lexer": "ipython3",
   "version": "3.12.7"
  }
 },
 "nbformat": 4,
 "nbformat_minor": 4
}
