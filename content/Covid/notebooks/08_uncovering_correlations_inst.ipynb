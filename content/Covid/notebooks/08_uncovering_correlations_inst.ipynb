{
 "cells": [
  {
   "cell_type": "markdown",
   "metadata": {},
   "source": [
    "# Notebook 8: Uncover Correlations with COVID-19 Positivity Rate\n",
    "\n",
    "In the previous notebook, we discussed that one can investigate COVID outcomes across Chicago neighborhoods by using a `positivity_rate` (*percentage of completed COVID tests that are positive*) outcome variable. \n",
    "\n",
    "Remember in the cholera case study how we explored possible relationships between our outcome variable, `death_rate`, and various explanatory variables like `population_density` and `elevation`? Now we similarly want to search for explanatory variables to discover why people contract COVID!\n",
    "\n",
    "In this notebook, we will: \n",
    "- Explore which explanatory variables correlate with COVID positivity\n",
    "- Construct scatter plots to visualize our results"
   ]
  },
  {
   "cell_type": "markdown",
   "metadata": {},
   "source": [
    "------------------------------------------\n",
    " \n",
    "<br>\n",
    " \n",
    "<img src=\"../imgs/pencil.png\" alt=\"Drawing\" align=left style=\"width: 20px;\"/> <font size=4> **Journal 8a:** Explanatory Variables</font>\n",
    "\n",
    "Based on your real-world knowledge of COVID-19, what explanatory variables would you *like to have* in order to explain what causes one community to contract more COVID-19 than another? Think back to the brainstorm of ways that we measure communities. Which of these do you think may make the people of a communitity more or less likely to be at a higher risk of COVID-19 infection? \n",
    "\n",
    "> Write your answer here! \n",
    "\n",
    "<br>\n"
   ]
  },
  {
   "cell_type": "markdown",
   "metadata": {},
   "source": [
    "### Unleash the firehose of variables! \n",
    "\n",
    "Data science is often a fascinating game of coping with \"what you have\" versus \"what you want\". \n",
    "\n",
    "<table><tr>\n",
    "    <td> <img src=\"../imgs/firehose.jpeg\" alt=\"Drawing\" style=\"width: 300px;\"/> </td>\n",
    "</tr></table>\n",
    "\n",
    "Let's load in the dataset from the last notebook. This includes the new variables that you generated from the existing data (`CASER4_16`, `TESTR4_16`, and our outcome variable `POSRATE4_16`)\n",
    "\n",
    "<br>\n"
   ]
  },
  {
   "cell_type": "code",
   "execution_count": 1,
   "metadata": {},
   "outputs": [
    {
     "name": "stdout",
     "output_type": "stream",
     "text": [
      "How many locations are in our frame?: 53\n"
     ]
    }
   ],
   "source": [
    "import pandas as pd\n",
    "\n",
    "# Next we load our data into a usable format\n",
    "frame = pd.read_csv(\"../data/cov_chi_with_positivity.csv\")\n",
    "\n",
    "# Why do we drop nan (missing) values? Because in this case, it makes data-visualization difficult!\n",
    "frame = frame.dropna()\n",
    "print(f\"How many locations are in our frame?: {len(frame)}\")"
   ]
  },
  {
   "cell_type": "markdown",
   "metadata": {},
   "source": [
    "This means we have 53 regions of Chicago in the data. "
   ]
  },
  {
   "cell_type": "code",
   "execution_count": 3,
   "metadata": {},
   "outputs": [
    {
     "name": "stdout",
     "output_type": "stream",
     "text": [
      "['ZIP', 'POP', 'P0_44', 'P45_64', 'P65_', 'PER65', 'MEDINC', 'PERNOINS', 'PERW', 'PERHIS', 'PERBLK', 'PERASN', 'PERAUTO', 'PERTRAN', 'PERPEDB', 'PERTELE', 'PEROFFTC', 'PERHSRV', 'PERPSRV', 'PERFOOD', 'PERCLEAN', 'FDTRTPER', 'WS_5', 'POPDENS', 'PERCROWD', 'CASE4_16', 'TEST4_16', 'CASER4_16', 'TESTR4_16', 'POSRATE4_16']\n"
     ]
    }
   ],
   "source": [
    "# What are the columns of our dataset?\n",
    "\n",
    "cols = frame.columns.tolist()\n",
    "print(cols)"
   ]
  },
  {
   "cell_type": "markdown",
   "metadata": {
    "tags": []
   },
   "source": [
    "_____________________________________________________________________\n",
    "\n",
    "## The Data Dictionary\n",
    "_____________________________________________________________________\n",
    "\n",
    "**Population**\n",
    "\n",
    "`POP`: Total population \n",
    "\n",
    "`P0_44`: Number of people ages 0 to 44 \n",
    "\n",
    "`P45_64`: Number of people ages 45 to 64: \n",
    "\n",
    "`P65_`: Number of people ages 65 and older \n",
    "\n",
    "<p>&nbsp;</p>\n",
    "\n",
    "**Socio-economic status** \n",
    "\n",
    "`MEDINC`: Median household income \n",
    "\n",
    "`PERNOINS`: Percent without health insurance \n",
    "\n",
    "<p>&nbsp;</p>\n",
    "\n",
    "**Racial/Ethnic neighbourhood types**\n",
    "\n",
    "`PERBLK`: Percent of population that is Black  \n",
    "\n",
    "`PERHISP`: Percent of population that is Hispanic  \n",
    "\n",
    "`PERW`: Percent of population that is White \n",
    "\n",
    "`PERASN`: Percent of population that is Asian \n",
    "\n",
    "<p>&nbsp;</p>\n",
    "\n",
    "**Occupations**\n",
    "\n",
    "`PEROFFTC`: Percent office and telecommute workers\n",
    "\n",
    "`PERHSRV`: Percent healthcare service workers\n",
    "\n",
    "`PERPSRV`: Percent public service workers\n",
    "\n",
    "`PERFOOD`: Percent food service workers\n",
    "\n",
    "`PERCLEAN`: Percent cleaning service workers\n",
    "\n",
    "<p>&nbsp;</p>\n",
    "\n",
    "**How people get to work**\n",
    "\n",
    "`PERAUTO`: Percent personal automobile commuters\n",
    "\n",
    "`PERTRAN`: Percent public transportation commuters\n",
    "\n",
    "`PERPEDB`: Percent pedestrian and bike commuters\n",
    "\n",
    "`PERTELE`: Percent telecommuters (work from home)\n",
    "\n",
    "\n",
    "<p>&nbsp;</p>\n",
    "\n",
    "**Built environments**\n",
    "\n",
    "`FDTRTPER`: Percent food desert tracts \n",
    "\n",
    "`WS_5`: Hospital accessibility score (lower score = hospitals are farther away)\n",
    "\n",
    "`POPDENS`: Population density (per square meter)  \n",
    "\n",
    "`PERCROWD`: Percent housing units w/ > 1 person per room \n",
    "\n",
    "\n",
    "\n",
    "<p>&nbsp;</p>\n",
    "\n",
    "**COVID-19**\n",
    "\n",
    "`CASE4_16`: Cases, total (4/16): \n",
    "\n",
    "`TEST4_16`: Tests, total (4/16)\n",
    "\n",
    "`CASER4_16`: Case Rate (4/16) (per pop.) \n",
    "\n",
    "`TESTR4_16`: Testing Rate (4/16) (per pop.) \n",
    "\n",
    "`POSRATE4_16`: Positivity rate (4/16) (percent)\n"
   ]
  },
  {
   "cell_type": "code",
   "execution_count": 5,
   "metadata": {},
   "outputs": [
    {
     "data": {
      "text/plain": [
       "0    103243\n",
       "1    111164\n",
       "2    131477\n",
       "3     93508\n",
       "4     44043\n",
       "Name: MEDINC, dtype: int64"
      ]
     },
     "execution_count": 5,
     "metadata": {},
     "output_type": "execute_result"
    }
   ],
   "source": [
    "# Use this cell to explore the different variables by changing the name inside. \n",
    "# Remove '.head()' to see all of the data!\n",
    "\n",
    "frame['MEDINC'].head()"
   ]
  },
  {
   "cell_type": "markdown",
   "metadata": {},
   "source": [
    "### Explore the Variables!\n",
    "\n",
    "Remember that scatterplots are a great way to quickly look for potential correlations (relationships) between explanatory variables and the outcome variable (positivity rate).\n",
    "\n",
    "Since you have lots of potential explanatory variables from the dataset, the code below has made it easy to change the `exp_var_to_explore` variable and generate a scatterplot with the best fit line and R-squared value. \n",
    "\n",
    "The cell has been set up to explore median income (`MEDINC`). Run the cell as is and enter the results in the table below. Then explore at least 3 more explanatory variables."
   ]
  },
  {
   "cell_type": "code",
   "execution_count": 24,
   "metadata": {},
   "outputs": [
    {
     "data": {
      "image/png": "[encoded data removed]",
      "text/plain": [
       "<Figure size 640x480 with 1 Axes>"
      ]
     },
     "metadata": {},
     "output_type": "display_data"
    },
    {
     "name": "stdout",
     "output_type": "stream",
     "text": [
      "R-squared: 0.43286406687053286\n"
     ]
    }
   ],
   "source": [
    "import numpy as np\n",
    "from matplotlib import pyplot as plt\n",
    "\n",
    "# Visualizing to assist \n",
    "# Generate scatterplots of variables vs. mortality\n",
    "\n",
    "exp_var_to_explore = 'MEDINC'\n",
    "\n",
    "x = frame[exp_var_to_explore]\n",
    "y = frame['POSRATE4_16']\n",
    "\n",
    "# Put the dots on the plot\n",
    "plt.scatter(x, y)\n",
    "\n",
    "# Here we add a 'line of best fit' that helps us visualize potential correlation!\n",
    "plt.plot(np.unique(x), np.poly1d(np.polyfit(x, y, 1))(np.unique(x)))\n",
    "\n",
    "\n",
    "plt.xlabel(exp_var_to_explore)\n",
    "plt.ylabel('COVID-19 Positivity Rate')\n",
    "\n",
    "# plt.xlim(right = 100)\n",
    "\n",
    "# Reveal the plot. \n",
    "plt.show()\n",
    "\n",
    "# Now find correlation and p-value. \n",
    "from scipy.stats import pearsonr \n",
    "r_val, p_val = pearsonr(x,y)\n",
    "r_squared = r_val**2\n",
    "print(f\"R-squared: {r_squared}\")"
   ]
  },
  {
   "cell_type": "markdown",
   "metadata": {},
   "source": [
    "### Task: Go to the previous cells and explore a total of 4 explanatory variables. Record what you learn from each in the following table:\n",
    "- note, you will need to edit the Markdown by double clicking in this cell! \n",
    "\n",
    "\n",
    "| Explanatory Variable | Correlation Type (+ or -) |  R-squared | Notes |\n",
    "|---|---|---|---|\n",
    "|Median Household Income   | -  | 0.43  | As income increaases, positivity rate decreases  |\n",
    "| X  | X |  X | X  |\n",
    "| X | X  | X  | X  |\n",
    "| X | X  | X  | X  |\n",
    "\n",
    "<img src=\"../imgs/pencil.png\" alt=\"Drawing\" align=left style=\"width: 20px;\"/> <font size=\"4\">**Journal 8b:** Reflection </font>\n",
    "\n",
    "**Why did you choose these particular variables? What hypotheses are swirling around in your mind right now?**\n",
    "> Write your answer here! \n",
    "<br>"
   ]
  },
  {
   "cell_type": "markdown",
   "metadata": {},
   "source": [
    "<img src=\"../imgs/pencil.png\" alt=\"Drawing\" align=left style=\"width: 20px;\"/> <font size=\"4\">**Journal 8c:** Reflection </font>\n",
    "\n",
    "At the end of each notebook in Data4All, we will take time to reflect on what we learned! You can write as much or as little as you like, but please answer the following three questions... \n",
    "\n",
    "**What do you understand better after this notebook than before?**\n",
    "> Write your answer here! \n",
    "\n",
    "**Please fill out the Notebook survey here!**\n",
    "> https://forms.gle/54KHEbPGsRxQU3Bh9\n",
    "\n",
    "<br>\n",
    "\n",
    "--------------------------------\n",
    "\n",
    "<br>\n",
    "\n",
    "<img src=\"../imgs/save-icon.jpeg\" alt=\"Drawing\" align=left style=\"width: 20px;\"/> <font size=\"4\">     **&ensp;&ensp;&ensp;Last step: save your work!** </font>"
   ]
  },
  {
   "cell_type": "code",
   "execution_count": null,
   "metadata": {},
   "outputs": [],
   "source": []
  }
 ],
 "metadata": {
  "kernelspec": {
   "display_name": "Python 3 (ipykernel)",
   "language": "python",
   "name": "python3"
  },
  "language_info": {
   "codemirror_mode": {
    "name": "ipython",
    "version": 3
   },
   "file_extension": ".py",
   "mimetype": "text/x-python",
   "name": "python",
   "nbconvert_exporter": "python",
   "pygments_lexer": "ipython3",
   "version": "3.12.7"
  }
 },
 "nbformat": 4,
 "nbformat_minor": 4
}
