{
 "cells": [
  {
   "cell_type": "markdown",
   "id": "07342d09",
   "metadata": {},
   "source": [
    "# Notebook 9: Testing COVID-19 explanations"
   ]
  },
  {
   "cell_type": "markdown",
   "id": "6f5a8c36",
   "metadata": {},
   "source": [
    "In the previous notebook, we explored the *correlation* of various explanatory variables with a region's positivity rate. In this notebook, we perform a formal $Chi^2$ analysis (our old friend) to determine whether some of the explanations that seem to be driving these correlations are, in fact, statistically significant! \n",
    "\n",
    "<br>\n",
    "\n",
    "<table><tr>\n",
    "    <td> <img src=\"../imgs/covid.jpeg\" alt=\"Drawing\" style=\"width: 300px;\"/> </td>\n",
    "</tr></table>\n",
    "\n",
    "<br>\n",
    "\n",
    "Remember from your John Snow exploration that $Chi^2$ tests are conducted as follows: \n",
    "1. Create a contingency table containing your outcome variable *and* one explanatory variable\n",
    "2. Plug the contingency table into a $Chi^2$ function\n",
    "3. Determine whether the p-value is low enough to show that the relationship between your outcome and explanatory variables is statistically significant\n",
    "\n",
    "... but before we do anything else, let's load our data and libraries!"
   ]
  },
  {
   "cell_type": "code",
   "execution_count": null,
   "id": "530a607f",
   "metadata": {},
   "outputs": [],
   "source": [
    "import pandas as pd\n",
    "\n",
    "# Next we load our data into a usable format\n",
    "frame = pd.read_csv(\"../data/cov_chi_with_positivity.csv\")\n",
    "    \n",
    "# Why do we drop nan (missing) values? Because in this case, it makes data-visualization difficult!\n",
    "frame = frame.dropna()\n",
    "print(f\"How many locations are in our data?: {len(frame)}\")"
   ]
  },
  {
   "cell_type": "markdown",
   "id": "4f6374c4",
   "metadata": {},
   "source": [
    "## Task 1. Create a contingency table\n",
    "\n",
    "In this section, we will create a contingency table of our outcome variable (positivity rate) and the explanatory variable that your group selected as part of your proposed explanation. **For a refresher on filtering and contingency tables, feel free to refer back to your completed `Notebook_4b.ipynb`!**"
   ]
  },
  {
   "cell_type": "code",
   "execution_count": null,
   "id": "fe26dc08",
   "metadata": {},
   "outputs": [],
   "source": [
    "# This is the *function* that allows us to visualize our table. You have seen this before. \n",
    "\n",
    "def visualize_contingency_table(contingency_table, top_labels, left_labels):\n",
    "    # print(\"\\t\\t  Close | Far \")\n",
    "    print('{:<20s} {:<20s} {:<10s}'.format(top_labels[0], top_labels[1], top_labels[2]))\n",
    "\n",
    "    i = 0\n",
    "    for line in contingency_table:\n",
    "        print('{:<20s} {:<20s} {:<10s}'.format(left_labels[i], str(line[0]), str(line[1])))\n",
    "        i += 1\n",
    "    print(\"\\n\")"
   ]
  },
  {
   "cell_type": "code",
   "execution_count": null,
   "id": "fcf14409-1666-4e83-8def-b6f5f11a41a8",
   "metadata": {},
   "outputs": [],
   "source": [
    "# Enter the outcome and explanatory variables you chose as part of your proposed explanation. \n",
    "# Enter the names (as a string, in quotes) of a variable listed in Notebook 8. \n",
    "\n",
    "explan_var = 'MEDINC'\n",
    "outcome_var = 'POSRATE4_16'\n",
    "\n",
    "print(f\"Your explanatory variable: {explan_var}\")\n",
    "print(f\"Your outcome variable: {outcome_var}\")\n"
   ]
  },
  {
   "cell_type": "markdown",
   "id": "d8bbefd6-ae79-4d0d-90a8-8c9d8a2352c4",
   "metadata": {},
   "source": [
    "Now let's put it all together into a contingency table with the following shape! \n",
    "\n",
    "|             | below_med_explan | above_med_explan     |\n",
    "| :---        |    :----:   |          ---: |\n",
    "| below_med_outcome      | A       | B   |\n",
    "| above_med_outcome      | C        | D      |\n",
    "\n",
    "Remember that contingency tables show \"groups within groups\". This means we need to convert our quantitative data which has a range of values (e.g. 0-100) to categorical data (e.g. below 50 and above 50). Deciding what our \"cut off\" is to create the two groups is up to us, but a common practice is to use the **median** (middle) value."
   ]
  },
  {
   "cell_type": "code",
   "execution_count": null,
   "id": "88b6b017-5b6a-4007-b5d0-fafa4d05c094",
   "metadata": {},
   "outputs": [],
   "source": [
    "# First we can create separate dataframes for 'below' and 'above' median explanatory variable\n",
    "\n",
    "median_explan = frame[explan_var].median() # median explanatory value to measure against\n",
    "above_med_explan = frame[frame[explan_var] > median_explan] # Data frame containing all regions with above median explanatory variable value\n",
    "below_med_explan = frame[frame[explan_var] <= median_explan]  # The rest of the data frames (below median value)"
   ]
  },
  {
   "cell_type": "code",
   "execution_count": null,
   "id": "17ea5629-9f44-4a5b-9688-fd689f43b6fd",
   "metadata": {},
   "outputs": [],
   "source": [
    "# Now we want to count the number of locations with above-and-below median positivity rates (within each)\n",
    "# For simplicity, we label our values according to the table above. \n",
    "\n",
    "# Hint: you can use .shape[0] to determine how many regions belong to a data frame! \n",
    "\n",
    "med_positivity = frame[outcome_var].median()  # Calculate median positivity (across all of Chicago) here!\n",
    "\n",
    "# For example \"A\" should be the **count** of all `above_med_explan` variables that ALSO have above-median positivity!\n",
    "# Hint: Use a conditional\n",
    "A_val = below_med_explan[below_med_explan[outcome_var] < med_positivity].shape[0]\n",
    "B_val = above_med_explan[above_med_explan[outcome_var] < med_positivity].shape[0]\n",
    "C_val = below_med_explan[below_med_explan[outcome_var] > med_positivity].shape[0]\n",
    "D_val = above_med_explan[above_med_explan[outcome_var] > med_positivity].shape[0]"
   ]
  },
  {
   "cell_type": "code",
   "execution_count": null,
   "id": "18939389-942d-4565-8214-950b93dc80e8",
   "metadata": {},
   "outputs": [],
   "source": [
    "# Place the variables for each of the counts in the contingency table and run the function to create it. \n",
    "\n",
    "left_labels = [f'above_med_{explan_var}', f'below_med_{explan_var}']\n",
    "top_labels = [\" \", f'above_med_{outcome_var}', f'below_med_{outcome_var}']\n",
    "\n",
    "contingency_table = [\n",
    "    [A_val, B_val], \n",
    "    [C_val, D_val]\n",
    "]\n",
    "\n",
    "visualize_contingency_table(contingency_table, top_labels, left_labels)"
   ]
  },
  {
   "cell_type": "markdown",
   "id": "7b2aa4f0-7087-47e3-8b18-f2b2d2e9f398",
   "metadata": {},
   "source": [
    "<img src=\"../imgs/pencil.png\" alt=\"Drawing\" align=left style=\"width: 20px;\"/> <font size=\"4\">**Journal 9a:** At First Glance </font>\n",
    "\n",
    "**Before we perform our Chi-squared test, what does the contingency table suggest to you?**\n",
    "> Write your answer here! "
   ]
  },
  {
   "cell_type": "markdown",
   "id": "fa28a4d3",
   "metadata": {},
   "source": [
    "## Task 2. Plug contingency table into $Chi^2$ function"
   ]
  },
  {
   "cell_type": "code",
   "execution_count": null,
   "id": "7d8c670e",
   "metadata": {},
   "outputs": [],
   "source": [
    "from scipy.stats import chi2_contingency\n",
    "# Now let us get our p-value! \n",
    "# ... when doing data science in Python, it is common convention to use\n",
    "#.    \"_\" characters to mark variables whose values we don't need. \n",
    "chi_square, p_value, _, _ = chi2_contingency(contingency_table)\n"
   ]
  },
  {
   "cell_type": "markdown",
   "id": "60f74c5f",
   "metadata": {},
   "source": [
    "## Task 3. Find, print(), and interpret the p-value. "
   ]
  },
  {
   "cell_type": "code",
   "execution_count": null,
   "id": "f464fc35",
   "metadata": {},
   "outputs": [],
   "source": [
    "print(f\"Our p-value: {p_value}\")"
   ]
  },
  {
   "cell_type": "markdown",
   "id": "ae411b0d",
   "metadata": {},
   "source": [
    "<img src=\"../imgs/pencil.png\" alt=\"Drawing\" align=left style=\"width: 20px;\"/> <font size=\"4\">**Journal 9b:** Interpreting the test </font>\n",
    "\n",
    "**Based on this $Chi^2$ test, what claims can you make about the relationship between a region's positivity rate, and your explanatory variable?**\n",
    "> Write your answer here! "
   ]
  },
  {
   "cell_type": "markdown",
   "id": "0b2eda16",
   "metadata": {},
   "source": [
    "-------------------------\n",
    "\n",
    "<br>\n",
    "\n",
    "# Now it is up to you... \n",
    "\n",
    "You explored the correlation of *many* explanatory variables in Notebook 8. Thus far, you have only explored the statistical significance of *one*. As your proposed explantion evolves, you will want to test other explanaory variables while keeping a record of the ones you have already investigated.\n",
    "\n",
    "In the following cells, determine the statistical significance of the relationship between a region's positivty rate and *other* explanatory variables as your investigation proceeds! \n",
    "\n",
    "<br>\n",
    "\n",
    "<table><tr>\n",
    "    <td> <img src=\"../imgs/covid_soapbox.png\" alt=\"Drawing\" style=\"width: 300px;\"/> </td>\n",
    "</tr></table>\n",
    "\n",
    "<br>\n",
    "\n",
    "## In other words, it is time for you to show the world what exactly you think makes people at risk to contract COVID-19! \n",
    "\n",
    "Use as many cells below this as you need! "
   ]
  },
  {
   "cell_type": "code",
   "execution_count": null,
   "id": "79c9bc6f",
   "metadata": {},
   "outputs": [],
   "source": []
  },
  {
   "cell_type": "code",
   "execution_count": null,
   "id": "51a5a979",
   "metadata": {},
   "outputs": [],
   "source": []
  },
  {
   "cell_type": "code",
   "execution_count": null,
   "id": "97277e2b",
   "metadata": {},
   "outputs": [],
   "source": []
  }
 ],
 "metadata": {
  "kernelspec": {
   "display_name": "Python 3 (ipykernel)",
   "language": "python",
   "name": "python3"
  },
  "language_info": {
   "codemirror_mode": {
    "name": "ipython",
    "version": 3
   },
   "file_extension": ".py",
   "mimetype": "text/x-python",
   "name": "python",
   "nbconvert_exporter": "python",
   "pygments_lexer": "ipython3",
   "version": "3.12.7"
  }
 },
 "nbformat": 4,
 "nbformat_minor": 5
}
