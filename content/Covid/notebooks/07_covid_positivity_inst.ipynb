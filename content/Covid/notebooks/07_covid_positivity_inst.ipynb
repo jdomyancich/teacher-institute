{
 "cells": [
  {
   "cell_type": "markdown",
   "metadata": {},
   "source": [
    "# Notebook 7: Seeing the Problem as Data \n",
    "\n",
    "## Part 1: Is Covid Real?\n",
    "\n",
    "Suprisingly, this was a hotly debated question in the early months of Covid. Many people suggested that the very existence of Covid was a \"hoax\" or that it was no worse than the flu. As we know, social media has allowed conspiracy theories and misinformation to spread easily and quickly among people. \n",
    "\n",
    "Fortunately, data is a powerful tool to help us see a problem clearly. Let's see if we can use data to set the record straight!"
   ]
  },
  {
   "cell_type": "markdown",
   "metadata": {},
   "source": [
    "Chicago is the third-largest city in the United States, with an estimated 2.71 million people living within the city's limits. This is _approximately_ the size of 19th century London (2.5 million). \n",
    "\n",
    "<table><tr>\n",
    "    <td> <img src=\"../imgs/chicago_zip_map.jpeg\" alt=\"Drawing\" style=\"width: 300px;\"/> </td>\n",
    "</tr></table>\n",
    "\n",
    "<br>\n",
    "\n",
    "How do we know there's a problem? We have gathered some data from the Illinois Department of Public Health. Specifically, how many people in Chicago have died each year form 2012 to 2021. What does this data tell us? "
   ]
  },
  {
   "cell_type": "code",
   "execution_count": 1,
   "metadata": {},
   "outputs": [
    {
     "data": {
      "text/html": [
       "<div>\n",
       "<style scoped>\n",
       "    .dataframe tbody tr th:only-of-type {\n",
       "        vertical-align: middle;\n",
       "    }\n",
       "\n",
       "    .dataframe tbody tr th {\n",
       "        vertical-align: top;\n",
       "    }\n",
       "\n",
       "    .dataframe thead th {\n",
       "        text-align: right;\n",
       "    }\n",
       "</style>\n",
       "<table border=\"1\" class=\"dataframe\">\n",
       "  <thead>\n",
       "    <tr style=\"text-align: right;\">\n",
       "      <th></th>\n",
       "      <th>year</th>\n",
       "      <th>deaths</th>\n",
       "      <th>population</th>\n",
       "    </tr>\n",
       "  </thead>\n",
       "  <tbody>\n",
       "    <tr>\n",
       "      <th>0</th>\n",
       "      <td>2012</td>\n",
       "      <td>18911</td>\n",
       "      <td>2714856</td>\n",
       "    </tr>\n",
       "    <tr>\n",
       "      <th>1</th>\n",
       "      <td>2013</td>\n",
       "      <td>18825</td>\n",
       "      <td>2718782</td>\n",
       "    </tr>\n",
       "    <tr>\n",
       "      <th>2</th>\n",
       "      <td>2014</td>\n",
       "      <td>19003</td>\n",
       "      <td>2722389</td>\n",
       "    </tr>\n",
       "    <tr>\n",
       "      <th>3</th>\n",
       "      <td>2015</td>\n",
       "      <td>19308</td>\n",
       "      <td>2720546</td>\n",
       "    </tr>\n",
       "    <tr>\n",
       "      <th>4</th>\n",
       "      <td>2016</td>\n",
       "      <td>19809</td>\n",
       "      <td>2704958</td>\n",
       "    </tr>\n",
       "    <tr>\n",
       "      <th>5</th>\n",
       "      <td>2017</td>\n",
       "      <td>19742</td>\n",
       "      <td>2716450</td>\n",
       "    </tr>\n",
       "    <tr>\n",
       "      <th>6</th>\n",
       "      <td>2018</td>\n",
       "      <td>19660</td>\n",
       "      <td>2705994</td>\n",
       "    </tr>\n",
       "    <tr>\n",
       "      <th>7</th>\n",
       "      <td>2019</td>\n",
       "      <td>19630</td>\n",
       "      <td>2693976</td>\n",
       "    </tr>\n",
       "    <tr>\n",
       "      <th>8</th>\n",
       "      <td>2020</td>\n",
       "      <td>25769</td>\n",
       "      <td>2741730</td>\n",
       "    </tr>\n",
       "    <tr>\n",
       "      <th>9</th>\n",
       "      <td>2021</td>\n",
       "      <td>22882</td>\n",
       "      <td>2696555</td>\n",
       "    </tr>\n",
       "  </tbody>\n",
       "</table>\n",
       "</div>"
      ],
      "text/plain": [
       "   year  deaths  population\n",
       "0  2012   18911     2714856\n",
       "1  2013   18825     2718782\n",
       "2  2014   19003     2722389\n",
       "3  2015   19308     2720546\n",
       "4  2016   19809     2704958\n",
       "5  2017   19742     2716450\n",
       "6  2018   19660     2705994\n",
       "7  2019   19630     2693976\n",
       "8  2020   25769     2741730\n",
       "9  2021   22882     2696555"
      ]
     },
     "execution_count": 1,
     "metadata": {},
     "output_type": "execute_result"
    }
   ],
   "source": [
    "from matplotlib import pyplot as plt\n",
    "import pandas as pd\n",
    "\n",
    "years = list(range(2012,2022))  \n",
    "chicago_total_deaths = [18911, 18825, 19003, 19308, 19809, 19742, 19660, 19630, 25769, 22882]\n",
    "chicago_populations = [2714856, 2718782, 2722389, 2720546, 2704958, 2716450, 2705994, 2693976, 2741730, 2696555]\n",
    "\n",
    "Chicago = pd.DataFrame(list(zip(years, chicago_total_deaths, chicago_populations)), columns=['year', 'deaths', 'population'])\n",
    "Chicago"
   ]
  },
  {
   "cell_type": "code",
   "execution_count": 2,
   "metadata": {},
   "outputs": [
    {
     "data": {
      "text/html": [
       "<div>\n",
       "<style scoped>\n",
       "    .dataframe tbody tr th:only-of-type {\n",
       "        vertical-align: middle;\n",
       "    }\n",
       "\n",
       "    .dataframe tbody tr th {\n",
       "        vertical-align: top;\n",
       "    }\n",
       "\n",
       "    .dataframe thead th {\n",
       "        text-align: right;\n",
       "    }\n",
       "</style>\n",
       "<table border=\"1\" class=\"dataframe\">\n",
       "  <thead>\n",
       "    <tr style=\"text-align: right;\">\n",
       "      <th></th>\n",
       "      <th>year</th>\n",
       "      <th>deaths</th>\n",
       "      <th>population</th>\n",
       "      <th>deaths_per_1000</th>\n",
       "    </tr>\n",
       "  </thead>\n",
       "  <tbody>\n",
       "    <tr>\n",
       "      <th>0</th>\n",
       "      <td>2012</td>\n",
       "      <td>18911</td>\n",
       "      <td>2714856</td>\n",
       "      <td>6.965747</td>\n",
       "    </tr>\n",
       "    <tr>\n",
       "      <th>1</th>\n",
       "      <td>2013</td>\n",
       "      <td>18825</td>\n",
       "      <td>2718782</td>\n",
       "      <td>6.924056</td>\n",
       "    </tr>\n",
       "    <tr>\n",
       "      <th>2</th>\n",
       "      <td>2014</td>\n",
       "      <td>19003</td>\n",
       "      <td>2722389</td>\n",
       "      <td>6.980266</td>\n",
       "    </tr>\n",
       "    <tr>\n",
       "      <th>3</th>\n",
       "      <td>2015</td>\n",
       "      <td>19308</td>\n",
       "      <td>2720546</td>\n",
       "      <td>7.097105</td>\n",
       "    </tr>\n",
       "    <tr>\n",
       "      <th>4</th>\n",
       "      <td>2016</td>\n",
       "      <td>19809</td>\n",
       "      <td>2704958</td>\n",
       "      <td>7.323219</td>\n",
       "    </tr>\n",
       "    <tr>\n",
       "      <th>5</th>\n",
       "      <td>2017</td>\n",
       "      <td>19742</td>\n",
       "      <td>2716450</td>\n",
       "      <td>7.267573</td>\n",
       "    </tr>\n",
       "    <tr>\n",
       "      <th>6</th>\n",
       "      <td>2018</td>\n",
       "      <td>19660</td>\n",
       "      <td>2705994</td>\n",
       "      <td>7.265352</td>\n",
       "    </tr>\n",
       "    <tr>\n",
       "      <th>7</th>\n",
       "      <td>2019</td>\n",
       "      <td>19630</td>\n",
       "      <td>2693976</td>\n",
       "      <td>7.286628</td>\n",
       "    </tr>\n",
       "    <tr>\n",
       "      <th>8</th>\n",
       "      <td>2020</td>\n",
       "      <td>25769</td>\n",
       "      <td>2741730</td>\n",
       "      <td>9.398810</td>\n",
       "    </tr>\n",
       "    <tr>\n",
       "      <th>9</th>\n",
       "      <td>2021</td>\n",
       "      <td>22882</td>\n",
       "      <td>2696555</td>\n",
       "      <td>8.485642</td>\n",
       "    </tr>\n",
       "  </tbody>\n",
       "</table>\n",
       "</div>"
      ],
      "text/plain": [
       "   year  deaths  population  deaths_per_1000\n",
       "0  2012   18911     2714856         6.965747\n",
       "1  2013   18825     2718782         6.924056\n",
       "2  2014   19003     2722389         6.980266\n",
       "3  2015   19308     2720546         7.097105\n",
       "4  2016   19809     2704958         7.323219\n",
       "5  2017   19742     2716450         7.267573\n",
       "6  2018   19660     2705994         7.265352\n",
       "7  2019   19630     2693976         7.286628\n",
       "8  2020   25769     2741730         9.398810\n",
       "9  2021   22882     2696555         8.485642"
      ]
     },
     "execution_count": 2,
     "metadata": {},
     "output_type": "execute_result"
    }
   ],
   "source": [
    "# Task 1: Normalize the number of deaths in Chicago by creating a new column: “deaths_per_1000”\n",
    "\n",
    "Chicago['deaths_per_1000'] = Chicago[\"deaths\"] / Chicago[\"population\"] * 1000\n",
    "\n",
    "Chicago"
   ]
  },
  {
   "cell_type": "markdown",
   "metadata": {},
   "source": [
    "We can also visualize this data with a line graph."
   ]
  },
  {
   "cell_type": "code",
   "execution_count": 3,
   "metadata": {},
   "outputs": [
    {
     "name": "stdout",
     "output_type": "stream",
     "text": [
      "Source: https://dph.illinois.gov/data-statistics/vital-statistics/death-statistics.html\n"
     ]
    },
    {
     "data": {
      "image/png": "[encoded data removed]",
      "text/plain": [
       "<Figure size 640x480 with 1 Axes>"
      ]
     },
     "metadata": {},
     "output_type": "display_data"
    }
   ],
   "source": [
    "plt.plot(Chicago['year'], Chicago['deaths_per_1000'])\n",
    "plt.title(\"Chicago 'Deaths per 1000' per Year\")\n",
    "plt.xlabel(\"Year\")\n",
    "plt.ylabel(\"Deaths per 1000 People\")\n",
    "\n",
    "print(\"Source: https://dph.illinois.gov/data-statistics/vital-statistics/death-statistics.html\")"
   ]
  },
  {
   "cell_type": "markdown",
   "metadata": {},
   "source": [
    "------------------------------------------\n",
    " \n",
    "<br>\n",
    " \n",
    "<img src=\"../imgs/pencil.png\" alt=\"Drawing\" align=left style=\"width: 20px;\"/> <font size=4> **Journal 7a:** From Cholera to COVID</font>\n",
    "\n",
    "We did a similar study of deaths in London to identify the years that cholera outbreaks occurred. How would you use the above data to argue against the suggestion that Covid was a \"hoax\"?\n",
    "\n",
    "> Write your answer here! "
   ]
  },
  {
   "cell_type": "markdown",
   "metadata": {},
   "source": [
    "<br>\n",
    "\n",
    "<img src=\"../imgs/save-icon.jpeg\" alt=\"Drawing\" align=left style=\"width: 20px;\"/> <font size=\"4\">     **&ensp;&ensp;&ensp;Stop and save your work!** </font>"
   ]
  },
  {
   "cell_type": "markdown",
   "metadata": {},
   "source": [
    "## Part 2: Research is 'Standing on the Shoulders of Giants'\n",
    "In May 2020, Kevin Credit from the Center for Spatial Data Science at the UChicago wrote \"Neighborhood inequity: Exploring the factors underlying racial and ethnic disparities in COVID-19 testing and infection rates using ZIP code data in Chicago and New York\". \n",
    "\n",
    "Fortunately at the conclusion of publishing this paper, Kevin shared his data with us! This poses one important question: \n",
    "\n",
    "Kevin's research also would not have been possible without open source research data from: \n",
    "Illinois Department of Health: https://www.dph.illinois.gov/covid19/covid19-statistics\n",
    "\n",
    "U.S. Census Bureau: https://data.census.gov/cedsci\n"
   ]
  },
  {
   "cell_type": "code",
   "execution_count": 4,
   "metadata": {},
   "outputs": [
    {
     "data": {
      "text/html": [
       "<div>\n",
       "<style scoped>\n",
       "    .dataframe tbody tr th:only-of-type {\n",
       "        vertical-align: middle;\n",
       "    }\n",
       "\n",
       "    .dataframe tbody tr th {\n",
       "        vertical-align: top;\n",
       "    }\n",
       "\n",
       "    .dataframe thead th {\n",
       "        text-align: right;\n",
       "    }\n",
       "</style>\n",
       "<table border=\"1\" class=\"dataframe\">\n",
       "  <thead>\n",
       "    <tr style=\"text-align: right;\">\n",
       "      <th></th>\n",
       "      <th>ZCTA5CE10</th>\n",
       "      <th>ZIP</th>\n",
       "      <th>POP</th>\n",
       "      <th>P0_44</th>\n",
       "      <th>P45_64</th>\n",
       "      <th>P65_</th>\n",
       "      <th>PER65</th>\n",
       "      <th>MEDINC</th>\n",
       "      <th>PERNOINS</th>\n",
       "      <th>PERW</th>\n",
       "      <th>...</th>\n",
       "      <th>PERAUTO</th>\n",
       "      <th>PERTRAN</th>\n",
       "      <th>PERPEDB</th>\n",
       "      <th>PERTELE</th>\n",
       "      <th>FDTRTPER</th>\n",
       "      <th>WS_5</th>\n",
       "      <th>POPDENS</th>\n",
       "      <th>PERCROWD</th>\n",
       "      <th>CASE4_16</th>\n",
       "      <th>TEST4_16</th>\n",
       "    </tr>\n",
       "  </thead>\n",
       "  <tbody>\n",
       "    <tr>\n",
       "      <th>0</th>\n",
       "      <td>60601</td>\n",
       "      <td>60601</td>\n",
       "      <td>14675</td>\n",
       "      <td>9432</td>\n",
       "      <td>3168</td>\n",
       "      <td>2075</td>\n",
       "      <td>0.141397</td>\n",
       "      <td>103243</td>\n",
       "      <td>0.029972</td>\n",
       "      <td>0.659421</td>\n",
       "      <td>...</td>\n",
       "      <td>0.261451</td>\n",
       "      <td>0.178218</td>\n",
       "      <td>0.449679</td>\n",
       "      <td>0.077467</td>\n",
       "      <td>0.000000</td>\n",
       "      <td>55.353747</td>\n",
       "      <td>0.015708</td>\n",
       "      <td>0.004850</td>\n",
       "      <td>35</td>\n",
       "      <td>189</td>\n",
       "    </tr>\n",
       "    <tr>\n",
       "      <th>1</th>\n",
       "      <td>60605</td>\n",
       "      <td>60605</td>\n",
       "      <td>27519</td>\n",
       "      <td>18480</td>\n",
       "      <td>6470</td>\n",
       "      <td>2569</td>\n",
       "      <td>0.093354</td>\n",
       "      <td>111164</td>\n",
       "      <td>0.026408</td>\n",
       "      <td>0.573458</td>\n",
       "      <td>...</td>\n",
       "      <td>0.346656</td>\n",
       "      <td>0.286901</td>\n",
       "      <td>0.258748</td>\n",
       "      <td>0.068008</td>\n",
       "      <td>0.000000</td>\n",
       "      <td>47.900487</td>\n",
       "      <td>0.008531</td>\n",
       "      <td>0.024850</td>\n",
       "      <td>74</td>\n",
       "      <td>441</td>\n",
       "    </tr>\n",
       "    <tr>\n",
       "      <th>2</th>\n",
       "      <td>60606</td>\n",
       "      <td>60606</td>\n",
       "      <td>3101</td>\n",
       "      <td>1964</td>\n",
       "      <td>706</td>\n",
       "      <td>431</td>\n",
       "      <td>0.138987</td>\n",
       "      <td>131477</td>\n",
       "      <td>0.023632</td>\n",
       "      <td>0.686553</td>\n",
       "      <td>...</td>\n",
       "      <td>0.242353</td>\n",
       "      <td>0.149804</td>\n",
       "      <td>0.431373</td>\n",
       "      <td>0.127451</td>\n",
       "      <td>0.000000</td>\n",
       "      <td>55.775578</td>\n",
       "      <td>0.005443</td>\n",
       "      <td>0.024512</td>\n",
       "      <td>22</td>\n",
       "      <td>132</td>\n",
       "    </tr>\n",
       "    <tr>\n",
       "      <th>3</th>\n",
       "      <td>60607</td>\n",
       "      <td>60607</td>\n",
       "      <td>29591</td>\n",
       "      <td>23912</td>\n",
       "      <td>4075</td>\n",
       "      <td>1604</td>\n",
       "      <td>0.054206</td>\n",
       "      <td>93508</td>\n",
       "      <td>0.033990</td>\n",
       "      <td>0.521780</td>\n",
       "      <td>...</td>\n",
       "      <td>0.362396</td>\n",
       "      <td>0.267698</td>\n",
       "      <td>0.285297</td>\n",
       "      <td>0.062024</td>\n",
       "      <td>0.000000</td>\n",
       "      <td>61.040068</td>\n",
       "      <td>0.004992</td>\n",
       "      <td>0.029603</td>\n",
       "      <td>143</td>\n",
       "      <td>526</td>\n",
       "    </tr>\n",
       "    <tr>\n",
       "      <th>4</th>\n",
       "      <td>60608</td>\n",
       "      <td>60608</td>\n",
       "      <td>79205</td>\n",
       "      <td>54670</td>\n",
       "      <td>16683</td>\n",
       "      <td>7852</td>\n",
       "      <td>0.099135</td>\n",
       "      <td>44043</td>\n",
       "      <td>0.151609</td>\n",
       "      <td>0.191251</td>\n",
       "      <td>...</td>\n",
       "      <td>0.559437</td>\n",
       "      <td>0.287764</td>\n",
       "      <td>0.100713</td>\n",
       "      <td>0.032950</td>\n",
       "      <td>0.166667</td>\n",
       "      <td>61.559835</td>\n",
       "      <td>0.004852</td>\n",
       "      <td>0.063219</td>\n",
       "      <td>381</td>\n",
       "      <td>1269</td>\n",
       "    </tr>\n",
       "  </tbody>\n",
       "</table>\n",
       "<p>5 rows × 28 columns</p>\n",
       "</div>"
      ],
      "text/plain": [
       "   ZCTA5CE10    ZIP    POP  P0_44  P45_64  P65_     PER65  MEDINC  PERNOINS  \\\n",
       "0      60601  60601  14675   9432    3168  2075  0.141397  103243  0.029972   \n",
       "1      60605  60605  27519  18480    6470  2569  0.093354  111164  0.026408   \n",
       "2      60606  60606   3101   1964     706   431  0.138987  131477  0.023632   \n",
       "3      60607  60607  29591  23912    4075  1604  0.054206   93508  0.033990   \n",
       "4      60608  60608  79205  54670   16683  7852  0.099135   44043  0.151609   \n",
       "\n",
       "       PERW  ...   PERAUTO   PERTRAN   PERPEDB   PERTELE  FDTRTPER       WS_5  \\\n",
       "0  0.659421  ...  0.261451  0.178218  0.449679  0.077467  0.000000  55.353747   \n",
       "1  0.573458  ...  0.346656  0.286901  0.258748  0.068008  0.000000  47.900487   \n",
       "2  0.686553  ...  0.242353  0.149804  0.431373  0.127451  0.000000  55.775578   \n",
       "3  0.521780  ...  0.362396  0.267698  0.285297  0.062024  0.000000  61.040068   \n",
       "4  0.191251  ...  0.559437  0.287764  0.100713  0.032950  0.166667  61.559835   \n",
       "\n",
       "    POPDENS  PERCROWD  CASE4_16  TEST4_16  \n",
       "0  0.015708  0.004850        35       189  \n",
       "1  0.008531  0.024850        74       441  \n",
       "2  0.005443  0.024512        22       132  \n",
       "3  0.004992  0.029603       143       526  \n",
       "4  0.004852  0.063219       381      1269  \n",
       "\n",
       "[5 rows x 28 columns]"
      ]
     },
     "execution_count": 4,
     "metadata": {},
     "output_type": "execute_result"
    }
   ],
   "source": [
    "# Next we load our data into a usable format and view the first few rows\n",
    "    \n",
    "frame = pd.read_csv(\"../data/cov_chi_with_positivity_lite.csv\")\n",
    "frame.head()"
   ]
  },
  {
   "cell_type": "code",
   "execution_count": 5,
   "metadata": {},
   "outputs": [
    {
     "name": "stdout",
     "output_type": "stream",
     "text": [
      "['ZCTA5CE10', 'ZIP', 'POP', 'P0_44', 'P45_64', 'P65_', 'PER65', 'MEDINC', 'PERNOINS', 'PERW', 'PERHIS', 'PERBLK', 'PERASN', 'PEROFFTC', 'PERHSRV', 'PERPSRV', 'PERFOOD', 'PERCLEAN', 'PERAUTO', 'PERTRAN', 'PERPEDB', 'PERTELE', 'FDTRTPER', 'WS_5', 'POPDENS', 'PERCROWD', 'CASE4_16', 'TEST4_16']\n"
     ]
    }
   ],
   "source": [
    "# Since there are so many columns, let's list them\n",
    "\n",
    "cols = frame.columns.tolist()\n",
    "print(cols)"
   ]
  },
  {
   "cell_type": "markdown",
   "metadata": {},
   "source": [
    "_____________________________________________________________________\n",
    "It's not always easy to know what a column name means.\n",
    "\n",
    "Thankfully, Kevin's data are accompanied by a comprehensive variable guide! \n",
    "\n",
    "**NOTE: after the variable guide, there is a cell where you can peek at each variable. Give it a try!**\n",
    "\n",
    "_____________________________________________________________________\n",
    "**Location**\n",
    "\n",
    "`ZIP`: ZIP Code\n",
    "<p>&nbsp;</p>\n",
    "\n",
    "**Population**\n",
    "\n",
    "`POP`: Total population \n",
    "\n",
    "`P0_44`: Number of people ages 0 to 44 \n",
    "\n",
    "`P45_64`: Number of people ages 45 to 64: \n",
    "\n",
    "`P65_`: Number of people ages 65 and older \n",
    "\n",
    "<p>&nbsp;</p>\n",
    "\n",
    "**Socio-economic status** \n",
    "\n",
    "`MEDINC`: Median household income \n",
    "\n",
    "`PERNOINS`: Percent without health insurance \n",
    "\n",
    "<p>&nbsp;</p>\n",
    "\n",
    "**Racial/Ethnic neighbourhood types**\n",
    "\n",
    "`BLKNH`: Black non-Hispanic-Majority Neighborhood  \n",
    "\n",
    "`HISPNH`: Hispanic-Majority Neighborhood  \n",
    "\n",
    "`WNH`: White non-Hispanic-Majority Neighborhood \n",
    "\n",
    "`PERASN`: Asian-Majority Neighborhood \n",
    "\n",
    "<p>&nbsp;</p>\n",
    "\n",
    "**Occupations**\n",
    "\n",
    "`PEROFFTC`: Percent office and telecommute workers\n",
    "\n",
    "`PERHSRV`: Percent healthcare service workers\n",
    "\n",
    "`PERPSRV`: Percent public service workers\n",
    "\n",
    "`PERFOOD`: Percent food service workers\n",
    "\n",
    "`PERCLEAN`: Percent cleaning service workers\n",
    "\n",
    "<p>&nbsp;</p>\n",
    "\n",
    "**How people get to work**\n",
    "\n",
    "`PERAUTO`: Percent personal automobile commuters\n",
    "\n",
    "`PERTRAN`: Percent public transportation commuters\n",
    "\n",
    "`PERPEDB`: Percent pedestrian and bike commuters\n",
    "\n",
    "`PERTELE`: Percent telecommuters (work from home)\n",
    "\n",
    "\n",
    "<p>&nbsp;</p>\n",
    "\n",
    "**Built environments**\n",
    "\n",
    "`FDTRTPER`: Percent food desert tracts \n",
    "\n",
    "`WS_5`: Hospital accessibility score \n",
    "\n",
    "`POPDENS`: Population density (per square meter)  \n",
    "\n",
    "`PERCROWD`: Percent housing units w/ > 1 person per room \n",
    "\n",
    "<p>&nbsp;</p>\n",
    "\n",
    " \n",
    "**COVID-19**\n",
    "\n",
    "`CASE4_16`: Number of positive cases the week ending 4/16  \n",
    "\n",
    "`TEST4_16`: Number of tests performed the week ending 4/16 \n"
   ]
  },
  {
   "cell_type": "code",
   "execution_count": 6,
   "metadata": {},
   "outputs": [
    {
     "data": {
      "text/plain": [
       "0    0.000000\n",
       "1    0.000000\n",
       "2    0.000000\n",
       "3    0.000000\n",
       "4    0.166667\n",
       "Name: FDTRTPER, dtype: float64"
      ]
     },
     "execution_count": 6,
     "metadata": {},
     "output_type": "execute_result"
    }
   ],
   "source": [
    "# Use this cell to explore the different variables by changing the name inside. \n",
    "# Remove '.head()' to see all of the data!\n",
    "frame['FDTRTPER'].head()\n"
   ]
  },
  {
   "cell_type": "markdown",
   "metadata": {},
   "source": [
    "<br>\n",
    " \n",
    "<img src=\"../imgs/pencil.png\" alt=\"Drawing\" align=left style=\"width: 20px;\"/> <font size=4> **Task 2:** Variable Identification</font>\n",
    "\n",
    "Identify variables from the dataset that could be used to measure Covid's impact on communities.  \n",
    "\n",
    "> Write your answer here! \n",
    "\n",
    "<br>"
   ]
  },
  {
   "cell_type": "markdown",
   "metadata": {},
   "source": [
    "<br>\n",
    "\n",
    "<img src=\"../imgs/save-icon.jpeg\" alt=\"Drawing\" align=left style=\"width: 20px;\"/> <font size=\"4\">     **&ensp;&ensp;&ensp;Stop and save your work!** </font>"
   ]
  },
  {
   "cell_type": "markdown",
   "metadata": {
    "tags": []
   },
   "source": [
    "________________________________________________________________\n",
    "\n",
    "## Part 3: Creating New Data\n",
    "\n",
    "First we want to examine the `case rate`: **the percentage of the population that has COVID-19**. \n",
    "\n",
    "You'll notice that there is *not* already a case rate variable in Kevin's data -- this means we need to construct it ourselves!\n",
    "\n",
    "In Python, we can do this by \"declaring a function\" that inputs **something** and outputs the case rate. In this case **something** is the total number of cases and the population size. The function says how to use these inputs to **return** a value, in this case, the case rate."
   ]
  },
  {
   "cell_type": "code",
   "execution_count": 7,
   "metadata": {},
   "outputs": [],
   "source": [
    "# This is a function! If you run this cell nothing happens. \n",
    "# Why do you think that is?\n",
    "\n",
    "def case_rate(total_cases, population): \n",
    "    cases_over_population = total_cases / population\n",
    "    return cases_over_population * 100  # Why multiply it by 100? "
   ]
  },
  {
   "cell_type": "code",
   "execution_count": 8,
   "metadata": {},
   "outputs": [
    {
     "data": {
      "text/plain": [
       "0    0.238501\n",
       "1    0.268905\n",
       "2    0.709449\n",
       "3    0.483255\n",
       "4    0.481030\n",
       "Name: case_rate_4_16, dtype: float64"
      ]
     },
     "execution_count": 8,
     "metadata": {},
     "output_type": "execute_result"
    }
   ],
   "source": [
    "# Generate a new column of data for the week of 4/16 called “case_rate_4_16” \n",
    "# using the “case_rate” function for April 16th, 2020 \n",
    "\n",
    "frame['case_rate_4_16'] = case_rate(frame[\"CASE4_16\"], frame[\"POP\"])\n",
    "\n",
    "# Next we can preview our new data to see if they pass the **smell-test**!\n",
    "\n",
    "frame['case_rate_4_16'].head()"
   ]
  },
  {
   "cell_type": "markdown",
   "metadata": {},
   "source": [
    "<br>\n",
    "\n",
    "<img src=\"../imgs/pencil.png\" alt=\"Drawing\" align=left style=\"width: 20px;\"/> <font size=4> **Journal 7b:** Case Rate 'Smell Test'</font>\n",
    "\n",
    "What do the values for `case_rate_4_16` mean? Does your generated numbers appear to be a reasonable size (not too big and not too small)?  \n",
    "\n",
    "> Write your answer here! \n",
    "\n",
    "<br>\n"
   ]
  },
  {
   "cell_type": "markdown",
   "metadata": {},
   "source": [
    "<br>\n",
    "\n",
    "Next, we want to consider the **testing rate: the total percentage of the population that got tested!**\n",
    "\n",
    "**Don't forget to preview your new data field to ensure everything looks good!** \n",
    "\n",
    "<br>"
   ]
  },
  {
   "cell_type": "code",
   "execution_count": 9,
   "metadata": {},
   "outputs": [],
   "source": [
    "# Make a function called “test_rate” that normalizes test rate\n",
    "# HINT: it looks a LOT like the case_rate function\n",
    "\n",
    "def test_rate(total_tests, population):\n",
    "    tests_over_population = total_tests / population\n",
    "    return tests_over_population * 100\n"
   ]
  },
  {
   "cell_type": "code",
   "execution_count": 10,
   "metadata": {},
   "outputs": [
    {
     "data": {
      "text/plain": [
       "0    1.287905\n",
       "1    1.602529\n",
       "2    4.256691\n",
       "3    1.777568\n",
       "4    1.602172\n",
       "Name: test_rate_4_16, dtype: float64"
      ]
     },
     "execution_count": 10,
     "metadata": {},
     "output_type": "execute_result"
    }
   ],
   "source": [
    "# Generate a new column of data for the week of 4/16 called \n",
    "# “test_rate_4_16” using the “test_rate” function.\n",
    "\n",
    "frame[\"test_rate_4_16\"] = test_rate(frame[\"TEST4_16\"], frame[\"POP\"])\n",
    "\n",
    "# Preview our new data\n",
    "frame['test_rate_4_16'].head()"
   ]
  },
  {
   "cell_type": "markdown",
   "metadata": {},
   "source": [
    "<br>\n",
    "\n",
    "<img src=\"../imgs/save-icon.jpeg\" alt=\"Drawing\" align=left style=\"width: 20px;\"/> <font size=\"4\">     **&ensp;&ensp;&ensp;Stop and save your work!** </font>"
   ]
  },
  {
   "cell_type": "markdown",
   "metadata": {},
   "source": [
    "## Part 4: Positivity Rate\n",
    "\n",
    "Now that you have some experience building and using functions, let's apply it to build our desired outcome variable, **positivity rate**!"
   ]
  },
  {
   "cell_type": "markdown",
   "metadata": {},
   "source": [
    "<img src=\"../imgs/pos_rate.png\" alt=\"Drawing\" style=\"width: 400px;\"/>"
   ]
  },
  {
   "cell_type": "code",
   "execution_count": 11,
   "metadata": {},
   "outputs": [],
   "source": [
    "# Define a function called \"pos_rate\" that calculates positivity rate \n",
    "\n",
    "def pos_rate(cases, tests):\n",
    "    cases_over_tests = cases / tests\n",
    "    return cases_over_tests * 100\n"
   ]
  },
  {
   "cell_type": "code",
   "execution_count": 12,
   "metadata": {},
   "outputs": [
    {
     "data": {
      "text/plain": [
       "0    18.518519\n",
       "1    16.780045\n",
       "2    16.666667\n",
       "3    27.186312\n",
       "4    30.023641\n",
       "Name: pos_rate_4_16, dtype: float64"
      ]
     },
     "execution_count": 12,
     "metadata": {},
     "output_type": "execute_result"
    }
   ],
   "source": [
    "# Using your pos_rate function, create a new \n",
    "# column in the dataframe for the week of 4/16 called “pos_rate_4_16”\n",
    "\n",
    "frame[\"pos_rate_4_16\"] = pos_rate(frame[\"CASE4_16\"], frame[\"TEST4_16\"])\n",
    "\n",
    "# Preview our new data\n",
    "\n",
    "frame['pos_rate_4_16'].head()"
   ]
  },
  {
   "cell_type": "markdown",
   "metadata": {},
   "source": [
    "## Congratulations! You've just created your very own outcome variable! \n",
    "\n",
    "Positivity rate enables us as researchers to see the impact of COVID, even when the total number of tests completed is low. In the upcoming exercises we will visualize and test your new variable of interest (among others!)"
   ]
  },
  {
   "cell_type": "markdown",
   "metadata": {},
   "source": [
    "<br>\n",
    "\n",
    "<img src=\"../imgs/save-icon.jpeg\" alt=\"Drawing\" align=left style=\"width: 20px;\"/> <font size=\"4\">     **&ensp;&ensp;&ensp;Stop and save your work!** </font>"
   ]
  }
 ],
 "metadata": {
  "kernelspec": {
   "display_name": "Python 3 (ipykernel)",
   "language": "python",
   "name": "python3"
  },
  "language_info": {
   "codemirror_mode": {
    "name": "ipython",
    "version": 3
   },
   "file_extension": ".py",
   "mimetype": "text/x-python",
   "name": "python",
   "nbconvert_exporter": "python",
   "pygments_lexer": "ipython3",
   "version": "3.12.7"
  }
 },
 "nbformat": 4,
 "nbformat_minor": 4
}
