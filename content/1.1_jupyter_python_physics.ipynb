{
 "cells": [
  {
   "cell_type": "markdown",
   "id": "efeaee54-f27e-479f-bb30-c4ffcd41164a",
   "metadata": {
    "tags": []
   },
   "source": [
    "# Jupyter Notebooks and Introduction to Python"
   ]
  },
  {
   "cell_type": "markdown",
   "id": "9d43d6ac-1ca2-457e-a69b-cce57c185768",
   "metadata": {
    "tags": []
   },
   "source": [
    "## Why?\n",
    "\n",
    "In the past, most peoples' intoductions to text-based coding environments involved an \"integrated development environment\" or \"IDE\":\n",
    "\n",
    "<img src = 'https://upload.wikimedia.org/wikipedia/commons/thumb/c/c9/Ninja-ide-screenshot.png/800px-Ninja-ide-screenshot.png' width=600>"
   ]
  },
  {
   "cell_type": "markdown",
   "id": "f154d8a2-093f-41e9-b1f5-6125e929c73f",
   "metadata": {},
   "source": [
    "IDE's are generally designed for professional software developers that are working on large, complex projects and require a fair amount of experience. IDE's are also intimidating for young coders. They lump all the lines of code together which can make it difficult to find and correct bugs. \n",
    "\n",
    "When teaching coding and data science, teachers are often looking to build instuctional materials that are accessible and engaging for their students as well as facilitating assessment.\n",
    "\n",
    "**Jupyter Notebooks** provide exactly that by merging powerful coding and data science tools with a webpage-like interface that allows teachers to create a rich learning experience and promote engagement.\n",
    "\n",
    "Think of Jupyter Notebooks as digital lab notebooks where you can write code, run it, see the output immediately, and add notes and explanations. This makes them perfect for exploring data and documenting your scientific workflows."
   ]
  },
  {
   "cell_type": "markdown",
   "id": "7ad93d95-705b-44b1-b613-74bc7e912ba8",
   "metadata": {
    "tags": []
   },
   "source": [
    "## Cells"
   ]
  },
  {
   "cell_type": "markdown",
   "id": "576e6f07-654f-4193-944a-accb8e17cda0",
   "metadata": {},
   "source": [
    "Jupyter notebooks are read from top to bottom, like a story. The notebooks are made of three types of \"cells\": **markdown**, **code**, and **raw** cells. We will only use markdown and code cells. "
   ]
  },
  {
   "cell_type": "markdown",
   "id": "8f1c6a32-86cf-427d-b2f5-ccdfe8fea200",
   "metadata": {},
   "source": [
    "When you click on a cell, you will see a blue bar to the left. Also, there is a dropdown above that tells you which type of cell it is: \n",
    "\n",
    "<img src=\"imgs/markdown.png\">"
   ]
  },
  {
   "cell_type": "markdown",
   "id": "062073cd-41e9-4acf-a619-56af6369cd89",
   "metadata": {
    "tags": []
   },
   "source": [
    "### Markdown Cells"
   ]
  },
  {
   "cell_type": "markdown",
   "id": "a4a81edc-1c63-466d-bbe9-9872d4465856",
   "metadata": {},
   "source": [
    "You are reading a markdown cell right now. Markdown cells can contain many things such as\n",
    "\n",
    "***formatted text*** \n",
    "\n",
    "images from a file: <img src='imgs/jupiter.png' width=60> \n",
    "\n",
    "or the web: <img src = \"https://upload.wikimedia.org/wikipedia/commons/thumb/7/7e/Saturn_with_auroras.jpg/1597px-Saturn_with_auroras.jpg?20190223194745\" width=90>\n",
    "\n",
    "audio: <audio width=\"320\" height=\"240\" \n",
    "        src=\"https://upload.wikimedia.org/wikipedia/commons/6/66/Mozart_Piano_Sonata_in_C%2C_K545%2C_end_of_first_movement_01.wav\"  \n",
    "        controls>\n",
    "</audio>\n",
    "\n",
    "or [web links](http://www.google.com), to name a few. \n",
    "\n",
    "Markdown cells provide a richness and make a Jupyter notebook feel and act like a webpage. \n",
    "\n",
    "For a **markdown** cell, you can edit it by double clicking on it. See if you can make \"double clicking\" in the previous sentence bold."
   ]
  },
  {
   "cell_type": "markdown",
   "id": "377fba81-df8a-4689-a337-41e4c569202a",
   "metadata": {},
   "source": [
    "___\n",
    "💪 **Exercise** 💪\n",
    "\n",
    "In the Markdown cell below, create a mini \"about me\" page of your \"favorite things\" list for yourself using the following Markdown elements:\n",
    "\n",
    "1.  A main heading for the page (e.g., All About Me! or My Favorite Things).\n",
    "\n",
    "2. A bulleted list with the following three items:\n",
    "\n",
    "- Your favorite thing in bold.\n",
    "- An image from the web of your favorite animal\n",
    "- A url link to your favorite website.\n",
    "\n",
    "3. Run the cell to see the formatted output.\n",
    "___"
   ]
  },
  {
   "cell_type": "markdown",
   "id": "37188873-a8de-4c8d-bb7f-460b462b8648",
   "metadata": {},
   "source": []
  },
  {
   "cell_type": "markdown",
   "id": "3e6e37bc-2c49-46ab-8f57-9ece9b9b65c5",
   "metadata": {},
   "source": [
    "### Code Cells"
   ]
  },
  {
   "cell_type": "markdown",
   "id": "f96a37f4-1702-46d6-a0a7-f76dcb5dd66b",
   "metadata": {},
   "source": [
    "While markdown cells provide context and make our notebook more engaging, a **code** cell is where the magic happens. When you run a code cell, it is actually executing that operation in the computer."
   ]
  },
  {
   "cell_type": "code",
   "execution_count": null,
   "id": "21e2f91f-a8d7-4234-922d-e9c9ddcde828",
   "metadata": {},
   "outputs": [],
   "source": [
    "# I am a code cell. How can you tell?"
   ]
  },
  {
   "cell_type": "markdown",
   "id": "aa83eecf-07d2-457d-99fc-8fd3474c016c",
   "metadata": {
    "tags": []
   },
   "source": [
    "### Editing Cells"
   ]
  },
  {
   "cell_type": "markdown",
   "id": "713ff594-0ad4-4c69-a547-135e2e1b779f",
   "metadata": {
    "jp-MarkdownHeadingCollapsed": true,
    "tags": []
   },
   "source": [
    "Cells can be cut, copied and pasted using the toolbar. \n",
    "\n",
    "<img src=\"imgs/cut_copy_paste.png\" width = 400>\n",
    "\n",
    "Cells can also be merged, split and moved using the edit menu.\n",
    "\n",
    "The \"cut\" is also used to delete cells."
   ]
  },
  {
   "cell_type": "markdown",
   "id": "84cd4cb6-90da-49a1-b7c2-61e90a5b5459",
   "metadata": {
    "tags": []
   },
   "source": [
    "### Runnning Cells"
   ]
  },
  {
   "cell_type": "markdown",
   "id": "d0f981ba-6a6c-4d6a-a58c-c6f9e4208c9e",
   "metadata": {},
   "source": [
    "The whole idea of using Jupyter notebooks is to be able to merge a narrative with coding. While the notebook may read like a story, we want the notebook to be interactive as well. This includes being able to create, edit and \"run\" cells. There are 2 ways to run a cell:\n",
    "After selecting a cell,  \n",
    "- Click the &#9658; button in the toolbar\n",
    "\n",
    "- Press `Shift + Enter` (most common and efficient!).\n",
    "\n",
    "Running a code cell sometimes creates an \"output\" below. Try running the following code cell."
   ]
  },
  {
   "cell_type": "code",
   "execution_count": null,
   "id": "6a06ec36-c5bd-439a-99a7-4ad40cc62668",
   "metadata": {},
   "outputs": [],
   "source": [
    "print(\"Hello, world!\")"
   ]
  },
  {
   "cell_type": "markdown",
   "id": "0a9f6865-7244-4497-8b22-7a892e83e14b",
   "metadata": {},
   "source": [
    "Notice the number in brackets to the left of the code cell after you run it. This is important because it tells us the order in which the cell has been run. We can actually jump around the notebook running cells in any order we want. It doesn't have to be top to bottom. However, the order does matter for the computer and this is why we have this numbering system."
   ]
  },
  {
   "cell_type": "markdown",
   "id": "43d74ef4-f437-4089-a1cc-5b5d66fb85b5",
   "metadata": {},
   "source": [
    "Not all code cells will generate an output. However, you will know the cell ran properly by seeing the number next to it."
   ]
  },
  {
   "cell_type": "code",
   "execution_count": null,
   "id": "f3ae3c99-d4e9-4d85-b283-d43c62bd3e6e",
   "metadata": {},
   "outputs": [],
   "source": [
    "apples = 5"
   ]
  },
  {
   "cell_type": "markdown",
   "id": "7cf11426-798a-4031-a8f4-641cf2d84360",
   "metadata": {},
   "source": [
    "If you see an `*` after running a cell. It means the computer is working. If it doesn't turn into a number, it can mean the code is stuck."
   ]
  },
  {
   "cell_type": "code",
   "execution_count": null,
   "id": "48e37a36-2b05-4feb-a83d-ee8f3e65609c",
   "metadata": {},
   "outputs": [],
   "source": [
    "while True:\n",
    "    pass"
   ]
  },
  {
   "cell_type": "markdown",
   "id": "0d3d2d2c-949e-4b52-8b34-fb4e2151e221",
   "metadata": {},
   "source": [
    "***If you ever want to clear the computer's memory and start the cell number from 1. Click the \"restart kernel\" &#8635; button in the toolbar.*** "
   ]
  },
  {
   "cell_type": "markdown",
   "id": "c4f1d611-985f-47a4-aaef-056ea37b6ca3",
   "metadata": {},
   "source": [
    "### Comments"
   ]
  },
  {
   "cell_type": "markdown",
   "id": "90a9f56d-943b-4cd2-a78e-633e36386fe8",
   "metadata": {},
   "source": [
    "Non-coding text does not have to be in a markdown cell. Long before we had Jupyter notebooks, computer scientists had to embed both personal notes and notes to others in their code. \n",
    "\n",
    "This is done by using **comments**. In a code cell, anything after a `#` is ignored by the computer. Run the following cell as is, then see what happens is you remove the `#` and rerun it."
   ]
  },
  {
   "cell_type": "code",
   "execution_count": null,
   "id": "e2b4382a-692e-48e5-a604-c4e550644ef5",
   "metadata": {},
   "outputs": [],
   "source": [
    "# This is a comment. Python ignores lines starting with a '#'\n",
    "# Comments are useful for explaining your code to yourself and others.\n",
    "# You can also use comments to tell your students what to do.\n",
    "\n",
    "print(# YOUR CODE HERE)"
   ]
  },
  {
   "cell_type": "markdown",
   "id": "50b52d02-885c-465c-b1c9-2c91db9d7eee",
   "metadata": {
    "tags": []
   },
   "source": [
    "# Python Basics\n",
    "\n",
    "Now that you know your way around a Jupyter notebook (sort of), let's do a crash course in the Python programming language. Python strikes the balance between being beginner-friendly and powerful at the same time. Python could be someone's first coding language in school and continue to serve them in college and beyond. "
   ]
  },
  {
   "cell_type": "markdown",
   "id": "a053d0ae-4f7b-47b9-aa5e-57e7e72a1291",
   "metadata": {
    "tags": []
   },
   "source": [
    "## Operators\n",
    "\n",
    "Operators are pieces of code that allow us to perform operations. They are at the heart of basic fuctions of the computer."
   ]
  },
  {
   "cell_type": "markdown",
   "id": "46a5f24f-a2a9-4d7e-b5df-4123be3f1edc",
   "metadata": {
    "tags": []
   },
   "source": [
    "### Arithmetic Operators (Math)"
   ]
  },
  {
   "cell_type": "markdown",
   "id": "a6d5d402-75d0-4758-acf2-7764d89c6618",
   "metadata": {
    "tags": []
   },
   "source": [
    "The most basic way to use Python (and all coding languages) is as a calculator. The following arithmetiic operators include some you are probably familiar with an maybe a couple of new ones. \n",
    "\n",
    "|name|operator|\n",
    "|------|------|\n",
    "| add | `+` |\n",
    "| subtract | `-`| \n",
    "| multiply | `*` |\n",
    "| divide  | `/` |\n",
    "| raise to a power | `**` |\n",
    "| floor division | `//` |\n",
    "| modulus | `%` |\n",
    "\n",
    "Try them out in the cells below:"
   ]
  },
  {
   "cell_type": "code",
   "execution_count": null,
   "id": "c639ea5c-2994-4c6e-8571-fe0950025a83",
   "metadata": {},
   "outputs": [],
   "source": [
    "# Addition\n",
    "print(5 + 3) # Notice there are no quotes"
   ]
  },
  {
   "cell_type": "code",
   "execution_count": null,
   "id": "f77237dd-f6ea-42bf-883c-fab4e0ceacac",
   "metadata": {},
   "outputs": [],
   "source": [
    "# Subtraction\n",
    "print(# YOUR CODE HERE)"
   ]
  },
  {
   "cell_type": "code",
   "execution_count": null,
   "id": "6e050b70-0d1a-4b21-be4d-6ec1f4d2bc71",
   "metadata": {},
   "outputs": [],
   "source": [
    "# Multiply\n",
    "# YOUR CODE HERE"
   ]
  },
  {
   "cell_type": "code",
   "execution_count": null,
   "id": "a34a5565-400d-473b-9734-1ec9d9a693a3",
   "metadata": {},
   "outputs": [],
   "source": [
    "# Divide\n",
    "# YOUR CODE HERE"
   ]
  },
  {
   "cell_type": "code",
   "execution_count": null,
   "id": "f025a549-790f-4ff3-b88a-d608724a3b7d",
   "metadata": {},
   "outputs": [],
   "source": [
    "# Raise screeto a power\n",
    "# YOUR CODE HERE"
   ]
  },
  {
   "cell_type": "code",
   "execution_count": null,
   "id": "daea5183-b86b-402f-a968-e71773bb66d7",
   "metadata": {},
   "outputs": [],
   "source": [
    "# Floor division\n",
    "# YOUR CODE HERE"
   ]
  },
  {
   "cell_type": "code",
   "execution_count": null,
   "id": "0aa16460-863f-4e0b-ac6f-6529b2972d9e",
   "metadata": {},
   "outputs": [],
   "source": [
    "# Modulus\n",
    "# YOUR CODE HERE"
   ]
  },
  {
   "cell_type": "code",
   "execution_count": null,
   "id": "8f6c8e07-7434-45d5-99cc-540438bd53da",
   "metadata": {},
   "outputs": [],
   "source": []
  },
  {
   "cell_type": "markdown",
   "id": "87b34498-ce44-4741-a96a-7e9793c2657e",
   "metadata": {},
   "source": [
    "## Variables\n",
    "\n",
    "Like variables in math, variables in coding allow us to assign a value, like `5`,  to a variable, like `x`, in the form:"
   ]
  },
  {
   "cell_type": "code",
   "execution_count": null,
   "id": "bf2b11b4-3dfd-4bec-8cca-f65001f032b0",
   "metadata": {},
   "outputs": [],
   "source": [
    "x = 5"
   ]
  },
  {
   "cell_type": "markdown",
   "id": "bde8a05c-bd60-4da6-aa12-ee2095b6f18e",
   "metadata": {},
   "source": [
    "Now the computer treats `x` and `5` as the same:"
   ]
  },
  {
   "cell_type": "code",
   "execution_count": null,
   "id": "900c36b2-de43-4ef6-b7bd-3ca92b35ab41",
   "metadata": {},
   "outputs": [],
   "source": [
    "2 + x"
   ]
  },
  {
   "cell_type": "markdown",
   "id": "e6f3e4bd-45fd-4334-9230-bbaba5c90b38",
   "metadata": {},
   "source": [
    "Variable assignments are not permanent. They can be overwritten by assigning a new value to an existing variable. This is where the order in which you run the cells is important. "
   ]
  },
  {
   "cell_type": "code",
   "execution_count": null,
   "id": "1379b50a-fd93-47b9-9df7-71ea0eb8dac2",
   "metadata": {},
   "outputs": [],
   "source": [
    "x = 10\n",
    "2 + x"
   ]
  },
  {
   "cell_type": "markdown",
   "id": "7e0024c6-91cf-44d1-8e20-78cb40cf7f87",
   "metadata": {},
   "source": [
    "However, we should think of variables much more broadly in Python as a \"bucket\" to store data. That data could be a single number, a list of items, even massive datasets."
   ]
  },
  {
   "cell_type": "markdown",
   "id": "3a37f7c5-1228-4188-b030-eb1ee8f05089",
   "metadata": {},
   "source": [
    "### Naming Variables"
   ]
  },
  {
   "cell_type": "markdown",
   "id": "76595c8b-eeed-4a9c-89c6-fb094ec02b50",
   "metadata": {},
   "source": [
    "It is important to give variables a descriptive name as you want to write code so that others can understand it (`x` is too generic).\n",
    "\n",
    "Variable names are case sensitive. There are several common conventions when there are more than one word in a variable name:\n",
    "\n",
    "|Convention|Examples|\n",
    "|----------|--------|\n",
    "|Camel Case|`camelCase`|\n",
    "|Snake Case|`snake_case`|\n",
    "|Pascal Case|`PascalCase`|\n",
    "\n",
    "In these notebooks, we will use snake case."
   ]
  },
  {
   "cell_type": "markdown",
   "id": "0461727f-ff7f-4e5d-9227-031a931da396",
   "metadata": {},
   "source": [
    "### Scientific Variables \n",
    "\n",
    "- The units for a variable are sometimes added at end of the variable name: `temp_celsius`\n",
    "- Using all caps is a common convention for constants: `GRAVITY_MPS2 = 9.8`"
   ]
  },
  {
   "cell_type": "code",
   "execution_count": null,
   "id": "c4856d13-399c-4557-90e0-13788b17c666",
   "metadata": {},
   "outputs": [],
   "source": [
    "# Calculating Force (F = m * a)\n",
    "mass_kg = 5 # mass in kilograms\n",
    "acceleration_mps2 = 2 # acceleration in meters per second squared\n",
    "force_newtons = mass_kg * acceleration_mps2\n",
    "print(force_newtons)"
   ]
  },
  {
   "cell_type": "markdown",
   "id": "9d9449b3-35b4-4e30-b433-97d88fffdcc6",
   "metadata": {},
   "source": [
    "We can also embed this output in text by using an \"f-string\":"
   ]
  },
  {
   "cell_type": "code",
   "execution_count": null,
   "id": "46086baa-691f-42ed-bfe6-f0fc0aaae962",
   "metadata": {},
   "outputs": [],
   "source": [
    "print(f\"Calculated Force: {force_newtons} Newtons\")"
   ]
  },
  {
   "cell_type": "markdown",
   "id": "a2d367f1-880b-4a8d-8dd7-05b75bfe2317",
   "metadata": {},
   "source": [
    "### To print or not to print?\n",
    "\n",
    "- **Jupyter's Auto-Display**: Jupyter Notebooks (and other interactive Python environments like IPython consoles) automatically display the value of the last line of code in a cell, as long as that line produces a value. This is a convenient feature for exploration and quick checks."
   ]
  },
  {
   "cell_type": "code",
   "execution_count": null,
   "id": "533bb017-7b33-4d3c-b31c-fd1fba37d9bb",
   "metadata": {},
   "outputs": [],
   "source": [
    "x = 10\n",
    "x + 5"
   ]
  },
  {
   "cell_type": "markdown",
   "id": "4363d348-3ef9-4679-895d-421a108dbf72",
   "metadata": {},
   "source": [
    "#### When printing is useful\n",
    "- **Multiple outputs in one cell:** If you want to see the results of multiple operations or variables within a single cell, print() is required for all but the very last one."
   ]
  },
  {
   "cell_type": "code",
   "execution_count": null,
   "id": "89f51f53-cc32-40b4-817a-01b5b350acb4",
   "metadata": {},
   "outputs": [],
   "source": [
    "a = 5\n",
    "b = 10\n",
    "print(a)      \n",
    "print(b)\n",
    "a + b"
   ]
  },
  {
   "cell_type": "markdown",
   "id": "3e01cef7-289d-4000-bf8a-2341aa7a4dc6",
   "metadata": {},
   "source": [
    "- **Adding descriptive text/context:** print() allows you to combine text (strings) with variables, making your output much clearer and more understandable. This is especially important for teaching and for good code documentation. There are several ways to do this, but the most common is an **\"f-string\"**:"
   ]
  },
  {
   "cell_type": "code",
   "execution_count": null,
   "id": "5c28b64d-2cf8-4007-bd23-3b1c399bbf0d",
   "metadata": {},
   "outputs": [],
   "source": [
    "print(f\"Calculated Force: {force_newtons} Newtons\")   # F-strings use a \"placeholder\" in curly brackets: {}"
   ]
  },
  {
   "cell_type": "markdown",
   "id": "d4ed11f9-0c45-451a-b356-779d092c1407",
   "metadata": {},
   "source": [
    "- **Debugging intermediate steps:** When debugging a complex calculation, you might use print() statements to check the value of variables at different points in your code, even if they aren't the final output."
   ]
  },
  {
   "cell_type": "markdown",
   "id": "0dcf1914-234c-4c90-81de-163c76b9df12",
   "metadata": {},
   "source": [
    "- **For code that will run outside Jupyter:** If the code you're writing in Jupyter might eventually be converted into a .py script and run from a standard terminal, print() is absolutely necessary for any output you want to see. Jupyter's auto-display feature doesn't exist in a regular Python script. Teaching print() from the start builds good habits for future environments."
   ]
  },
  {
   "cell_type": "markdown",
   "id": "c0b225d4-e9d7-439c-9251-7ac55c27cfb6",
   "metadata": {},
   "source": [
    "___\n",
    "## 💪 **Exercise** 💪\n",
    "\n",
    "In physics, \"work\" is done when a force causes a displacement of an object. It's calculated as:\n",
    "\n",
    "$$ W\\text{ (Joule)} = F\\text{ (Newton)} \\times d\\text{ (meter)} $$\n",
    "\n",
    "The force required to lift something depends on the objects mass and the force of gravity: \n",
    "($\\text{Weight} = \\text{mass} \\times \\text{gravity}$), \n",
    "where gravity $g \\approx 9.8 \\text{ m/s}^2$."
   ]
  },
  {
   "cell_type": "markdown",
   "id": "c2489853-f7a6-4482-8d13-acdad819caab",
   "metadata": {},
   "source": [
    "$$F \\text{ (Newton)} = m \\text{ (kg)} \\times g \\text{ (m/s²)}$$"
   ]
  },
  {
   "cell_type": "markdown",
   "id": "f3a0e2fc-c034-469e-8b9b-cb596ec64491",
   "metadata": {},
   "source": [
    "### **Problem Scenario:**\n",
    "\n",
    "A strongman lifts 2 people, each weighing 60 kg from the groud to a height to 2.5 meters. How many Joules of work did the strongman do?\n",
    "\n",
    "<img src = 'imgs/strongman.png' width=300, align='center'>\n",
    "\n",
    "**Your Task:**\n",
    "1. Perform the calculation by assigning values to variables.\n",
    "2. **Print** the  as a sentence in the form: \"The strongman did X Joules of work.\"\n",
    "3. Repeat the calculation if this happened on Mars where $g \\approx 3.7 \\text{ m/s}^2$"
   ]
  },
  {
   "cell_type": "code",
   "execution_count": null,
   "id": "22e442cd-e011-491e-bfbb-f86abc657aee",
   "metadata": {},
   "outputs": [],
   "source": []
  },
  {
   "cell_type": "markdown",
   "id": "837463eb-6104-47a6-b665-3455390adffb",
   "metadata": {},
   "source": [
    "___\n",
    "## 📓 Reflection 📓\n",
    "How did solving the problem this way affect the learning experience compared to traditional methods?"
   ]
  },
  {
   "cell_type": "markdown",
   "id": "9ca11741-eca5-495c-aa01-7544fa77cd21",
   "metadata": {},
   "source": []
  },
  {
   "cell_type": "markdown",
   "id": "bd50fddb-9af6-4314-954e-d031f7e07948",
   "metadata": {},
   "source": [
    "___"
   ]
  }
 ],
 "metadata": {
  "kernelspec": {
   "display_name": "Python 3 (ipykernel)",
   "language": "python",
   "name": "python3"
  },
  "language_info": {
   "codemirror_mode": {
    "name": "ipython",
    "version": 3
   },
   "file_extension": ".py",
   "mimetype": "text/x-python",
   "name": "python",
   "nbconvert_exporter": "python",
   "pygments_lexer": "ipython3",
   "version": "3.9.12"
  }
 },
 "nbformat": 4,
 "nbformat_minor": 5
}
