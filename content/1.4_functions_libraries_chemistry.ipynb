{
 "cells": [
  {
   "cell_type": "markdown",
   "metadata": {},
   "source": [
    "# Standing on Shoulders: Functions, Modules, and Libraries\n",
    "\n",
    "In any scientific discipline, from chemistry to physics and biology, our work relies on performing calculations, analyzing data, and visualizing results. Writing code from scratch for every single task would be incredibly inefficient and prone to errors. This is where three fundamental concepts in programming become essential: **functions**, **modules**, and **libraries**.\n",
    "\n",
    "**Functions**: Think of a function as a reusable recipe for a specific calculation. Instead of writing out the steps to calculate molar mass every time you need it, you can define a `calculate_molar_mass` function once. This makes your code cleaner, easier to read, and significantly reduces the chance of making a copy-paste error. If you need to update the logic, you only have to change it in one place.\n",
    "\n",
    "**Modules and Libraries**: If functions are individual recipes, then modules and libraries are entire cookbooks written by experts\n",
    "- **Module**: a Python file containing a collection of related functions and variables.\n",
    "- **Library**: a larger collection of modules, often focused on a specific domain. For scientific computing, libraries are indispensable. They provide highly optimized, pre-written tools for complex tasks.\n",
    "\n",
    "By standing on the shoulders of these powerful tools, scientists can focus on their research questions rather than on the low-level details of programming. In this notebook, we will explore how to create our own simple functions and how to import and use pre-existing modules to solve chemical problems."
   ]
  },
  {
   "cell_type": "markdown",
   "metadata": {},
   "source": [
    "## Functions: Reusable Chemical Calculations\n",
    "\n",
    "A **function** is a block of code that performs a specific task. We define functions to avoid writing the same code multiple times, which is perfect for common chemical formulas.\n",
    "\n",
    "We use `def` to define a function, and `return` to send a calculated value back.\n",
    "\n",
    "The first line of a function definition has the form: `function_name(argument_1, argument_2, ...):`"
   ]
  },
  {
   "cell_type": "code",
   "execution_count": null,
   "metadata": {},
   "outputs": [],
   "source": [
    "# Function to calculate Molar Mass (g/mol) for a compound containing carbon, hydrogen and oxygen\n",
    "def calculate_molar_mass(num_carbon, num_hydrogen, num_oxygen):\n",
    "    C_MASS = 12.01\n",
    "    H_MASS = 1.008\n",
    "    O_MASS = 16.00\n",
    "    total_mass = (num_carbon * C_MASS) + (num_hydrogen * H_MASS) + (num_oxygen * O_MASS)\n",
    "    return total_mass"
   ]
  },
  {
   "cell_type": "code",
   "execution_count": null,
   "metadata": {},
   "outputs": [],
   "source": [
    "# Calculate molar mass of Glucose (C6H12O6)\n",
    "molar_mass_glucose = calculate_molar_mass(6, 12, 6)\n",
    "print(molar_mass_glucose)"
   ]
  },
  {
   "cell_type": "code",
   "execution_count": null,
   "metadata": {},
   "outputs": [],
   "source": [
    "# Calculate molar mass of Water (H2O)\n",
    "molar_mass_water = calculate_molar_mass(0, 2, 1)\n",
    "print(f\"Molar Mass of Water (H2O): {molar_mass_water:.2f} g/mol\")"
   ]
  },
  {
   "cell_type": "markdown",
   "metadata": {},
   "source": [
    "___\n",
    "## 💪 **Exercise** 💪\n",
    "\n",
    "<img src = \"imgs/butter.png\" width = 300>\n",
    "\n",
    "1.  Define a function called `density` that returns a value for density in g/mL.\n",
    "2.  Test your function on the stick of butter and print a statement saying if it will float or sink.\n",
    "___"
   ]
  },
  {
   "cell_type": "code",
   "execution_count": null,
   "metadata": {},
   "outputs": [],
   "source": []
  },
  {
   "cell_type": "markdown",
   "metadata": {
    "jp-MarkdownHeadingCollapsed": true,
    "tags": []
   },
   "source": [
    "### Understanding Variable Scope: Global vs. Local Variables\n",
    "\n",
    "When you start using functions, you introduce a crucial concept called **scope**. The scope of a variable determines where in your program it can be accessed and modified. Think of it like the difference between a private note you write for yourself and a public announcement for everyone to see. In Python, the two primary scopes you'll encounter are local and global.\n",
    "\n",
    "- **Local Variables**: A variable that is created inside a function. Its scope is limited to that function alone. This means:\n",
    "    - It only exists while the function is running.\n",
    "    - It cannot be seen or accessed by any code outside of that function.\n",
    "    - Another function can have a local variable with the exact same name without any conflict.\n",
    "    \n",
    "- **Global Variables**: A variable that is created outside of any function, in the main body of your script. Its scope is the entire program. This means:\n",
    "    - It can be accessed from anywhere in your code, including from inside any function.\n",
    "    - It persists for the entire lifetime of your program."
   ]
  },
  {
   "cell_type": "markdown",
   "metadata": {},
   "source": [
    "## Modules\n",
    "\n",
    "A module is the most basic level of code organization in Python. It is simply a single file with a .py extension that contains Python definitions and statements. A module can contain:\n",
    "\n",
    "- Functions: Reusable blocks of code (e.g., calculate_molar_mass()).\n",
    "\n",
    "- Variables: Constants or other data (e.g., AVOGADRO_NUMBER = 6.022e23).\n",
    "\n",
    "- Classes: Blueprints for creating objects (an advanced concept).\n",
    "\n",
    "The primary purpose of a module is to group related code together, making it easier to manage and reuse. You can then use the import statement to access the code from that module.\n",
    "\n",
    "Python has many built-in modules. `math` is a very useful one for doing science\n",
    "\n"
   ]
  },
  {
   "cell_type": "code",
   "execution_count": null,
   "metadata": {},
   "outputs": [],
   "source": [
    "import math    # Importing the 'math' module for mathematical functions and constants\n",
    "math.          # tab to see all the functions"
   ]
  },
  {
   "cell_type": "markdown",
   "metadata": {},
   "source": [
    "Let's calculate the pH of a solution with [H<sup>+</sup>] = 1.0 x 10<sup>-7</sup> M"
   ]
  },
  {
   "cell_type": "code",
   "execution_count": null,
   "metadata": {},
   "outputs": [],
   "source": [
    "hydrogen_ion_concentration = 1e-7 # 1.0 x 10^-7 M\n",
    "ph_value = -math.log10(hydrogen_ion_concentration)\n",
    "print(f\"pH of solution with [H+] = {hydrogen_ion_concentration} is {ph_value}\")"
   ]
  },
  {
   "cell_type": "markdown",
   "metadata": {},
   "source": [
    "## What about libraries?\n",
    "\n",
    "Libraries are much more expansive than modules. A library is a broader term for a collection of related modules. In Python, this is more formally called a \"**package**\".\n",
    "\n",
    "Libraries provide a comprehensive set of tools for a larger domain, like scientific computing, web development, or data analysis. They are the \"cookbooks\" of the programming world, written and maintained by the community. When it comes to data science and scientiifc computing, 3 libraries stand out:\n",
    "\n",
    "- **NumPy** for numerical Operations: Performing advanced math on large arrays of data\n",
    "\n",
    "- **Pandas** for data Analysis: Reading, cleaning, and analyzing tabular data from experiments \n",
    "\n",
    "- **Matplotlib** for data Visualization: Creating plots and charts to understand data\n",
    "\n",
    "These and other libraries will allow us to really accelerate our ability to use coding to do science!"
   ]
  },
  {
   "cell_type": "markdown",
   "metadata": {},
   "source": [
    "___\n",
    "## 💪 **Exercise** 💪\n",
    "\n",
    "Root mean square velocity is a measure of the average speed, in m/s, of a molecule in a sample:\n",
    "\n",
    "$$u_{rms} = \\sqrt{\\frac{3RT}{M}}$$\n",
    "\n",
    "Where:\n",
    "- R: the ideal gas constant. For this equation to work, you must use the value that corresponds to energy units: 8.3145 J/(mol·K).\n",
    "- T is the absolute temperature of the gas in Kelvin (K).\n",
    "- M is the molar mass of the gas. Crucially, this must be expressed in kilograms per mole (kg/mol) to be consistent with the units of Joules (which are derived from kilograms, meters, and seconds).\n",
    "\n",
    "\n",
    "1. Calculate the root mean square velocity of water at 200&deg;\n",
    "2. In writing your code, try to be:\n",
    "    - **Efficient**: Minimize the number of lines of code to complete the task\n",
    "    - **Flexible**: Avoid \"hard coding\" it for this particular question. Try to leverage variables and functions (some of which you may already have written!) to make it easy to do the same calculation for other problems.\n",
    "___"
   ]
  },
  {
   "cell_type": "code",
   "execution_count": null,
   "metadata": {},
   "outputs": [],
   "source": []
  },
  {
   "cell_type": "markdown",
   "metadata": {},
   "source": [
    "## 📓 Reflection 📓\n",
    "\n",
    "Imagine assigning students a coding notebook where they practice a calculation like density, molar mass, etc. instead of a traditional assignment like exercises from a textbook or a worksheet. Reflect on the following:\n",
    "- What are the advantages?\n",
    "- What are the disadvantages?\n",
    "- What are your overall concerns to this approach?"
   ]
  },
  {
   "cell_type": "code",
   "execution_count": null,
   "metadata": {},
   "outputs": [],
   "source": []
  },
  {
   "cell_type": "markdown",
   "metadata": {},
   "source": [
    "## 🏆 Congratulations! 🏆\n",
    "\n",
    "You have completed the Python portion of the bootcamp. Now you're ready to dive into data!"
   ]
  },
  {
   "cell_type": "code",
   "execution_count": null,
   "metadata": {},
   "outputs": [],
   "source": []
  }
 ],
 "metadata": {
  "kernelspec": {
   "display_name": "Python 3 (ipykernel)",
   "language": "python",
   "name": "python3"
  },
  "language_info": {
   "codemirror_mode": {
    "name": "ipython",
    "version": 3
   },
   "file_extension": ".py",
   "mimetype": "text/x-python",
   "name": "python",
   "nbconvert_exporter": "python",
   "pygments_lexer": "ipython3",
   "version": "3.9.12"
  }
 },
 "nbformat": 4,
 "nbformat_minor": 4
}
