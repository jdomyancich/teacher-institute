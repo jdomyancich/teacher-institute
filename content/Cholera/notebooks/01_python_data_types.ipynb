{
 "cells": [
  {
   "cell_type": "markdown",
   "id": "c68348e1-90d5-438b-8136-d297c9f35a3f",
   "metadata": {},
   "source": [
    "\n",
    "# Notebook 1: Seeing the Problem as Data\n",
    "\n",
    "\n",
    "## 1.1: What is Data?\n",
    "\n",
    "Like the word **\"information\"**, **\"data\"** is such a general word that it refers to lots of things.\n",
    "\n",
    "In this workshop, we’ll focus on data as something **collected** or **recorded** about the **real world**, to better observe and understand it. \n",
    "\n",
    "\n",
    "### Data in the real world\n",
    "Data can be found all around our daily lives. Data about weather is collected by weather stations and used by meteorologists to determine weather outcomes. Data about your Netflix viewing history can be used by Netflix's algorithms to recommend new movies and shows that better match your interests. \n",
    "\n",
    "<br>\n",
    "\n",
    "<table><tr>\n",
    "    <td> <img src=\"../imgs/netflix-image.jpeg\" alt=\"Drawing\" style=\"width: 400px;\"/> </td>\n",
    "    <td> <img src=\"../imgs/weather-image.jpeg\" alt=\"Drawing\" style=\"width: 400px;\"/> </td>\n",
    "</tr></table>\n",
    "\n",
    "<br>\n",
    "\n",
    "<img src=\"../imgs/pencil.png\" alt=\"Drawing\" align=left style=\"width: 20px;\"/> <font size=4> **Journal 1a:** Data in YOUR world </font>\n",
    "\n",
    "**Give an example of data in your daily life, e.g. data that you collect or that’s collected about you. Explain where it comes from, how it's collected/recorded, and for what it's used.** \n",
    "\n",
    "> my answer \n"
   ]
  },
  {
   "cell_type": "markdown",
   "id": "c19a8767",
   "metadata": {
    "jp-MarkdownHeadingCollapsed": true
   },
   "source": [
    "### Data from the 1854 London cholera outbreak\n",
    "\n",
    "Cholera is a disease that we now know how to treat... but before this treatment was discovered at a time of your great-great- grandparents, only 1 in 2 infected people had a chance to survive. At that time, in mid-19th century London, doctors, health inspectors, pastors and many others desperately tried to find the cause of cholera to stop people from dying. One of them was **John Snow**, a physician who started recording the following information about London households:\n",
    "\n",
    "![](../imgs/img-ledger.png)\n",
    "\n",
    "<!-- As you can see, there are data about the following (in order):\n",
    "- House number\n",
    "- Neighborhood\n",
    "- Occupation\n",
    "- Age\n",
    "- Symptoms\n",
    "- Water Supplier -->\n",
    "\n",
    "<img src=\"../imgs/pencil.png\" alt=\"Drawing\" align=left style=\"width: 20px;\"/> <font size=4>**Journal 1b:** Taking inventory: what do we have?</font>\n",
    "\n",
    "**Describe the data you see in John Snow's notes (the photo). What types of data are present? Are there other types of data you would want to collect if you were trying to find out how cholera is transmitted?** \n",
    "\n",
    "> Write your answer here! \n",
    "\n",
    "-------------------\n",
    "\n",
    "**Now we will embark on our own journey to trace the origins of the Cholera epidemic, but instead by using a 21st century data science toolkit!**\n",
    "<br><br>\n",
    "In the next cell, please add your information to get started! \n",
    "<br><br>"
   ]
  },
  {
   "cell_type": "code",
   "execution_count": null,
   "id": "c45b5fbc",
   "metadata": {},
   "outputs": [],
   "source": [
    "# Change the ??? to be your name! \n",
    "first_name = \"???\"\n",
    "last_name = \"???\"\n",
    "\n",
    "# print is the simplest Python function -- it allows us to view our data! \n",
    "print(f\">>> Hello world, my name is {first_name} {last_name}!\")"
   ]
  },
  {
   "cell_type": "markdown",
   "id": "743538b9",
   "metadata": {},
   "source": [
    "## 1.2: Representing Data on the Computer\n",
    "\n",
    "In this **Jupyter notebook**, we will begin our data science journey via the **Python programming language**. \n",
    "\n",
    "<img src=\"../imgs/python-image.png\" alt=\"Drawing\" style=\"width: 200px;\"/>\n",
    "\n",
    "\n",
    "**By the end of this notebook, you should be able to**: \n",
    "- Represent data from the real world in Python\n",
    "- See how data are stored, grouped, and organized for data science\n",
    "- Understand variables and lists\n",
    "<br><br>"
   ]
  },
  {
   "cell_type": "markdown",
   "id": "4b404f06-34c7-4fa3-a9cf-415e05dd4da0",
   "metadata": {},
   "source": [
    "![](../imgs/img-ledger.png)"
   ]
  },
  {
   "cell_type": "markdown",
   "id": "2f93ccd2-bc22-4391-86c0-470c8ba6c60f",
   "metadata": {},
   "source": [
    "**Data representation in Python**\n",
    "The following contains some of the data from above represented in Python code. Don't worry about all of the confusing **syntax** like the `{}` and `:`, just try to see how the code maps to John Snow's notes shown above. "
   ]
  },
  {
   "cell_type": "code",
   "execution_count": null,
   "id": "246e95fa",
   "metadata": {},
   "outputs": [],
   "source": [
    "\n",
    "person_0 = {\"house_number\": 7, \n",
    "            \"neighborhood\": \"Layton's Buildings\",\n",
    "            \"date\": \"July 29\", \n",
    "            \"occupation\": \"tailor\",\n",
    "            \"age\": 20, \n",
    "            \"symptoms\": \"cholera 17 hours\",\n",
    "            \"water_supplier\": \"Southwark & Vauxhall\"}\n",
    "\n",
    "person_1 = {\"house_number\": 2, \n",
    "            \"neighborhood\": \"Dobb's Cross\",\n",
    "            \"date\": \"July 30\", \n",
    "            \"occupation\": \"son of a shop-keeper\",\n",
    "            \"age\": 10, \n",
    "            \"symptoms\": \"cholera Asiatic 24 hours\",\n",
    "            \"water_supplier\": \"Southwark & Vauxhall\"}\n",
    "\n",
    "person_2 = {\"house_number\": 81, \n",
    "            \"neighborhood\": \"Ann Street\",\n",
    "            \"date\": \"July 29\", \n",
    "            \"occupation\": \"son of a labourer\",\n",
    "            \"age\": 12, \n",
    "            \"symptoms\": \"cholera 8 hours\",\n",
    "            \"water_supplier\": \"Southwark & Vauxhall\"}\n",
    "\n",
    "person_3 = ???\n"
   ]
  },
  {
   "cell_type": "markdown",
   "id": "6ab98134",
   "metadata": {
    "tags": []
   },
   "source": [
    "### **Task:** Add \"person_3\" from John Snow's data to the above cell and run the cell.</font>\n",
    "\n",
    "**Is there anything unusual about how 'counting' is done in computer science?** \n",
    "\n",
    "> Write your answer here! \n",
    "\n"
   ]
  },
  {
   "cell_type": "markdown",
   "id": "da8f7f25-714d-45e6-a6b1-c80c6594c986",
   "metadata": {},
   "source": [
    "**We can 'group' all of these data together by using a `list`!**"
   ]
  },
  {
   "cell_type": "code",
   "execution_count": null,
   "id": "568a65af-4029-4674-a303-36142acf21af",
   "metadata": {},
   "outputs": [],
   "source": [
    "people_list = [person_0, person_1, person_2, person_3]\n",
    "print(f\"Our list of people: {people_list}\")"
   ]
  },
  {
   "cell_type": "markdown",
   "id": "1225e05d",
   "metadata": {
    "tags": []
   },
   "source": [
    "## 1.3: Let's *slow down* and smell the... data types?\n",
    "\n",
    "So now we beg the question... ***what was actually going on in the previous code?***\n",
    "\n",
    "In this section, we are going to see if we can understand the basic units of Python data storage: \n",
    "- types\n",
    "- variables\n",
    "- lists\n",
    "- lists of lists\n",
    "\n",
    "\n",
    "--------------\n",
    "There are several **data types** in Python that can be used to represent data values. I outline a handful of types in the following:\n",
    "\n",
    "\n",
    "| Type | Description | Examples |\n",
    "| :-- | :-- | :-- |\n",
    "| String ('str') | A sequence of characters; stored within \"\" | \"cat\", \"London\", \"27\" |\n",
    "| Integer ('int')| Whole positive or negative numbers *without* decimal points | -50, 0, 27 |\n",
    "| Float ('float') | Real numbers that *can* have multiple decimal points | -50.0, 0.75, 3.14159 |\n",
    "| List ('list') | A sequence of any Python data type; stored within \\[ \\] | \\[\"a\", \"b\", \"c\"\\] |\n",
    "\n",
    "<br><br>\n",
    "We can see the type of data in Python by using the `type()` function as shown in the following cell: "
   ]
  },
  {
   "cell_type": "code",
   "execution_count": null,
   "id": "aebfcf2d-c55b-45db-aeb9-535432b028af",
   "metadata": {},
   "outputs": [],
   "source": [
    "print(type(37))"
   ]
  },
  {
   "cell_type": "markdown",
   "id": "3cc55318",
   "metadata": {
    "tags": []
   },
   "source": [
    "### **Task:** Learning about types!</font>\n",
    "\n",
    "**In the following cell, write some example lines that answer the following questions:**\n",
    "\n",
    "c1. **What is the data type of \"London\"**?\n",
    "> Write your answer here! \n",
    "\n",
    "c2. **Is 37.0 an integer or float?**\n",
    "> Write your answer here!\n",
    "\n",
    "c3. **What happens if we turn \"London\" into London (no quotes) and try to run the cell?**\n",
    "> Write your answer here!"
   ]
  },
  {
   "cell_type": "code",
   "execution_count": null,
   "id": "4ff398eb",
   "metadata": {},
   "outputs": [],
   "source": [
    "# Example for c1 here! \n",
    "\n",
    "# Example for c2 here! \n",
    "\n",
    "# Example for c3 here!"
   ]
  },
  {
   "cell_type": "markdown",
   "id": "466fcfe9",
   "metadata": {},
   "source": [
    "### Variables\n",
    "A **variable** is a Python storage container for a **single type** of data. For instance, in algebra class, you might be familiar with math equations like the following:  \n",
    "\n",
    "`2x=50`\n",
    "\n",
    "... where `x` is a **variable** that represents some value ***(which is???)***. \n",
    "\n",
    "In Python, we can set variables to be almost anything that we want, not just numbers. Earlier in this notebook, for instance, we used two string variables to represent your first and last names using two string variables: \n",
    "```\n",
    "first_name = \"John\"\n",
    "last_name = \"Snow\"\n",
    "```"
   ]
  },
  {
   "cell_type": "markdown",
   "id": "c9a9dbb9-2566-481d-8b99-e4a910384a14",
   "metadata": {
    "tags": []
   },
   "source": [
    "### Task: Create variables (of appropriate types!) that suit the following prompts. Print their values at the end of the cell!\n"
   ]
  },
  {
   "cell_type": "code",
   "execution_count": null,
   "id": "739a9c7d-af6e-4195-b19d-d38c5ed9e873",
   "metadata": {},
   "outputs": [],
   "source": [
    "# Your ZIP code. \n",
    "\n",
    "# Your dream college.\n",
    "\n",
    "# A list of your top 5 favorite musical artists.\n",
    "\n",
    "\n",
    "# ... Now use the print() command on all 3 variables to see their values! \n"
   ]
  },
  {
   "cell_type": "markdown",
   "id": "c28cd35b",
   "metadata": {},
   "source": [
    "<img src=\"../imgs/pencil.png\" alt=\"Drawing\" align=left style=\"width: 20px;\"/>  <font size=\"4\">**Journal 1e:** Variables</font>\n",
    "\n",
    "**Why did you choose the 'type' you did for each variable?**\n",
    "\n",
    "> Write your answer for ZIP code here!\n",
    "\n",
    "> Write your answer for dream college here!\n",
    "\n",
    "> Write your answer for musical artists here!"
   ]
  },
  {
   "cell_type": "markdown",
   "id": "bb7322e4",
   "metadata": {},
   "source": [
    "## 1.4: Expanding our Data Science Toolbox with 'lists of lists'. \n",
    "\n",
    "As mentioned before, a **list** in Python is a sequence of other Python types, such as `[1, 2, 3, 4, 5]` or `['a', 'b', 'c']`. Interestingly, you can also create a **list of lists** in Python to create **tabular** data, or data in row-column format. \n",
    "\n",
    "We can very easily rewrite our data into a 'list of lists' format. See as follows...\n"
   ]
  },
  {
   "cell_type": "code",
   "execution_count": null,
   "id": "30ac67f1",
   "metadata": {},
   "outputs": [],
   "source": [
    "\n",
    "headers = [\"house_number\", \"neighborhood\", \"date\", \"occupation\", \"age\", \"symptoms\", \"water_supplier\"]\n",
    "\n",
    "person_list_0 = [7, \"Layton's Buildings\", \"July 29\", \"tailor\", \n",
    "                  20, \"cholera 17 hours\", \"Southwark & Vauxhall\"]\n",
    "\n",
    "person_list_1 = [2, \"Dobb's Cross\", \"July 30\", \"son of a shop-keeper\", \n",
    "                 10, \"cholera Asiatic 24 hours\", \"Southwark & Vauxhall\"]\n",
    "\n",
    "person_list_2 = [81, \"Ann Street\", \"July 29\", \"son of a labourer\",\n",
    "                 12, \"cholera 8 hours\", \"Southwark & Vauxhall\"]\n",
    "\n",
    "person_list_3 = ??? \n",
    "\n",
    "person_2d_list = [person_list_0, person_list_1, person_list_2]\n",
    "print(f\"This is our list of lists: {person_2d_list}\")"
   ]
  },
  {
   "cell_type": "markdown",
   "id": "f64ed8b6-0b92-4c8b-ac8b-7e6a91bdc19c",
   "metadata": {
    "jp-MarkdownHeadingCollapsed": true
   },
   "source": [
    "### Task: Add `person_3` to our list-of-lists above! "
   ]
  },
  {
   "cell_type": "markdown",
   "id": "b51399b0-a17a-4183-bc48-a5813416bff7",
   "metadata": {
    "jp-MarkdownHeadingCollapsed": true
   },
   "source": [
    "## 1.5: Pandas\n",
    "\n",
    "In order to store, explore, and manipulate these **tabular** data, we use **Pandas** --- one of the most well-known data science toolkits for Python. While we don't dig too deeply into Pandas now...  \n",
    "\n",
    "<img src=\"../imgs/pandas.svg.png\" alt=\"Drawing\" style=\"width: 200px;\"/>\n",
    "\n",
    "**We will use lots of Pandas later in this workshop!** For now, let's load the Pandas library into Python and put our list-of-lists into a Pandas **Dataframe**. "
   ]
  },
  {
   "cell_type": "code",
   "execution_count": null,
   "id": "d995e13c",
   "metadata": {},
   "outputs": [],
   "source": [
    "import pandas as pd\n",
    "\n",
    "df = pd.DataFrame.from_records(person_2d_list, columns=headers)\n",
    "df"
   ]
  },
  {
   "cell_type": "markdown",
   "id": "a08c1c3d",
   "metadata": {},
   "source": [
    "<img src=\"../imgs/pencil.png\" alt=\"Drawing\" align=left style=\"width: 20px;\"/> <font size=\"4\">**Journal 1f:** Reflection </font>\n",
    "\n",
    "At the end of each notebook in Data4All, we will take time to reflect on what we learned! You can write as much or as little as you like, but please answer the following question:\n",
    "\n",
    "**What do you understand better after this notebook than before?**\n",
    "> Write your answer here! \n",
    "\n",
    "<br>\n",
    "\n",
    "--------------------------------\n",
    "\n",
    "<br>\n",
    "\n",
    "<img src=\"../imgs/save-icon.jpeg\" alt=\"Drawing\" align=left style=\"width: 20px;\"/> <font size=\"4\">     **&ensp;&ensp;&ensp;Last step: save your work!** </font>\n"
   ]
  },
  {
   "cell_type": "code",
   "execution_count": null,
   "id": "47dbf279",
   "metadata": {},
   "outputs": [],
   "source": []
  }
 ],
 "metadata": {
  "kernelspec": {
   "display_name": "Python 3 (ipykernel)",
   "language": "python",
   "name": "python3"
  },
  "language_info": {
   "codemirror_mode": {
    "name": "ipython",
    "version": 3
   },
   "file_extension": ".py",
   "mimetype": "text/x-python",
   "name": "python",
   "nbconvert_exporter": "python",
   "pygments_lexer": "ipython3",
   "version": "3.12.7"
  }
 },
 "nbformat": 4,
 "nbformat_minor": 5
}
