{
 "cells": [
  {
   "cell_type": "markdown",
   "id": "025fd386-4174-4258-8c6a-c1c494393fd1",
   "metadata": {},
   "source": [
    "# Notebook 6: The South London Experiment\n",
    "\n"
   ]
  },
  {
   "cell_type": "markdown",
   "id": "131eb777-8ca6-4780-a087-89a59133af91",
   "metadata": {},
   "source": [
    "***By the end of this notebook, you should:***\n",
    "- observe the power of natural experiments\n",
    "- refresh your memory on contingency tables, statistical significance, and scientific visualization\n",
    "- find out if contaminated water is a plausible explanation for why Londoners died of cholera"
   ]
  },
  {
   "cell_type": "markdown",
   "id": "e97f503d-d8d5-4612-94b8-c2ae524228d8",
   "metadata": {},
   "source": [
    "## The 2 Water Suppliers\n",
    "\n",
    "South London was served by two water companies: Lambeth and Southwark & Vauxhall. In 1849, both drew their water from about the same location along the Thames River when London experienced one of its worst cholera outbreaks.\n",
    "\n",
    "In 1852, the Lambeth Waterworks Company moved its water intake further up the River Thames, away from where the sewage pipes entered the river. The Southwark & Vauxhall water company, on the other hand, left its intake in the same location where sewage was still entering its drinking water supply. \n",
    "\n",
    "<br>\n",
    "\n",
    "<table><tr>\n",
    "    <td> <img src=\"../imgs/south_london_water.jpeg\" alt=\"Drawing\" style=\"width: 600px;\"/> </td>\n",
    "</tr></table>\n",
    "\n",
    "<br>\n",
    "\n",
    "Lambeth moving its water supply presented a unique opportunity for researchers of the time to study whether moving the water supply influenced Londoners' likelihood of dying from cholera. While the researchers did not themselves change the research environment by moving the water supply, they can study if and how this change affected their outcome variable. In data science, we call such an experiment a **natural experiment**. "
   ]
  },
  {
   "cell_type": "markdown",
   "id": "ae7455d3-e70d-408e-8566-c2dd31039c92",
   "metadata": {},
   "source": [
    "<img src=\"../imgs/pencil.png\" alt=\"Drawing\" align=left style=\"width: 20px;\"/> <font size=4> **Journal 6a:** Examples of natural experiments</font>\n",
    "\n",
    "**Consider recent events in your lifetime. Can you think of an event that scientists could use as a natural experiment?** *(feel free to be creative!)*\n",
    "\n",
    "> Write your answer here! \n",
    "\n",
    "<br>"
   ]
  },
  {
   "cell_type": "markdown",
   "id": "896a347a-0173-4588-8b11-e26db8c687c7",
   "metadata": {},
   "source": [
    "## Testing the Waterborne Hypothesis"
   ]
  },
  {
   "cell_type": "markdown",
   "id": "ef7dfd6e-5971-4277-860c-50ca00edc8d8",
   "metadata": {},
   "source": [
    "When we used contingency tables in the past, we compared a **treatment group** to a **control group**. In this case, the subdistricts and their people that received their water from Lambeth are considered the **treatment group**. Why do you think that is?\n",
    "\n",
    "The independent (explanatory) variable is the water company and the dependent (outcome) variable is cholera deaths.  Since we are examining a change over time, we will split the dependent variable into deaths in 1849 (before Lambeth moved their water supply) and deaths in 1854 (after Lambeth moved their water supply).\n",
    "\n",
    "The resulting contingency table will look like this.\n",
    "\n",
    "<img src = '../imgs/grand_exp_contingency.jpeg' style=\"width: 800px;\"/>\n",
    "\n",
    "**Let's build this contingency table!**\n",
    "\n",
    "\n"
   ]
  },
  {
   "cell_type": "code",
   "execution_count": 1,
   "id": "4c566613",
   "metadata": {},
   "outputs": [],
   "source": [
    "import pandas as pd\n",
    "from matplotlib import pyplot as plt\n",
    "Subdistricts = pd.read_csv(\"../data/subdistricts_dataset.csv\")"
   ]
  },
  {
   "cell_type": "markdown",
   "id": "75fa8a45",
   "metadata": {},
   "source": [
    "### Data Dictionary\n",
    "\n",
    "- **district**: the London district\n",
    "- **subdist**: the subdistrict within the larger district\n",
    "- **supplier**: who supplies the water to the subdistrict\n",
    "- **perc_sou**: percentage of subdistrict water from Southwark & Vauxhall\n",
    "- **perc_lam**: percentage of subdistrict water from Lambeth\n",
    "- **pop_1849**: subdistrict population in 1849\n",
    "- **pop_1854**: subdistrict population in 1854\n",
    "- **deaths1849**: deaths from cholera in 1849\n",
    "- **deaths1854**: deaths from cholera in 1854"
   ]
  },
  {
   "cell_type": "code",
   "execution_count": null,
   "id": "97f2bdd8",
   "metadata": {},
   "outputs": [],
   "source": [
    "Both_Outbreaks = Subdistricts[[\"district\", \n",
    "                                 \"subdist\",\n",
    "                                 \"supplier\",\n",
    "                                 \"perc_sou\",\n",
    "                                 \"perc_lam\",\n",
    "                                 \"pop1849\",\n",
    "                                 \"pop1854\",\n",
    "                                 \"deaths1849\",\n",
    "                                 \"deaths1854\", \n",
    "                                 ]]\n",
    "\n",
    "Both_Outbreaks"
   ]
  },
  {
   "cell_type": "markdown",
   "id": "39018f19-4c31-4370-a3e3-5cf18a06285c",
   "metadata": {},
   "source": [
    "### Creating Our Groups\n",
    "\n",
    "We first need to create two groups: subdistricts that received most of their water from the Lambeth water company and subdistricts that received most of their water from the Southwark & Vauxhall water company. "
   ]
  },
  {
   "cell_type": "code",
   "execution_count": null,
   "id": "014bbe4b-a753-4ceb-825c-693ebf8bda89",
   "metadata": {},
   "outputs": [],
   "source": [
    "# Task 1. split the data into two groups that are mostly Lambeth and mostly Southwark & Vauxhall \n",
    "mostly_lam = Subdistricts[Subdistricts['perc_lam'] > 0.50] \n",
    "mostly_sv = Subdistricts[Subdistricts[???] > ???]   "
   ]
  },
  {
   "cell_type": "markdown",
   "id": "3b312847-1251-476c-910a-43115cd2bc19",
   "metadata": {},
   "source": [
    "We can use these two groups (mostly Lambeth and mostly Southwark & Vauxhall) to create the four groups of the contingency table."
   ]
  },
  {
   "cell_type": "code",
   "execution_count": null,
   "id": "045e2bf3-25a6-48b0-9853-0f15b04cdfbf",
   "metadata": {},
   "outputs": [],
   "source": [
    "# Task 2. calculate the total number of deaths in 1849 for each of the groups\n",
    "lam_deaths_1849 = mostly_lam['deaths1849'].sum() \n",
    "sv_deaths_1849 = ???['deaths1849'].sum()   \n",
    "\n",
    "print(f\"Mostly Lambeth deaths in 1849: {lam_deaths_1849}\")\n",
    "print(f\"Mostly Southwark and Vauxhall deaths in 1849: {sv_deaths_1849}\")"
   ]
  },
  {
   "cell_type": "code",
   "execution_count": null,
   "id": "6df3fcdf-7e99-43d8-baf3-9b96289bd6c9",
   "metadata": {},
   "outputs": [],
   "source": [
    "# Task 3. calculate the total number of deaths in 1854 for each of the groups\n",
    "lam_deaths_1854 = mostly_lam['deaths1854'].sum() \n",
    "sv_deaths_1854 = ???[???].???  \n",
    "\n",
    "print(f\"Mostly Lambeth deaths in 1854: {lam_deaths_1854}\")\n",
    "print(f\"Mostly Southwark and Vauxhall deaths in 1854: {sv_deaths_1854}\")"
   ]
  },
  {
   "cell_type": "markdown",
   "id": "1bee45b6-7f0f-4ae3-b132-0d2f67c8ca46",
   "metadata": {},
   "source": [
    "Now let's put this data in a contingency table."
   ]
  },
  {
   "cell_type": "code",
   "execution_count": null,
   "id": "686048a6",
   "metadata": {},
   "outputs": [],
   "source": [
    "# our old friend --> the function to create contingency tables. \n",
    "def visualize_contingency_table(contingency_table, top_labels, left_labels):\n",
    "    # print(\"\\t\\t  Close | Far \")\n",
    "    print('{:<20s} {:<20s} {:<10s}'.format(top_labels[0], top_labels[1], top_labels[2]))\n",
    "\n",
    "    i = 0\n",
    "    for line in contingency_table:\n",
    "        print('{:<20s} {:<20s} {:<10s}'.format(left_labels[i], str(line[0]), str(line[1])))\n",
    "        i += 1\n",
    "    print(\"\\n\")\n",
    "    \n",
    "top_labels = [\" \", \"Mostly Lam\", \"Mostly SV\"]\n",
    "left_labels = [\"Deaths 1849\", \"Deaths 1854\"]\n",
    "\n",
    "# Task 2. Create a contingency table with the total deaths for each group in 1849 and 1854. \n",
    "contingency_table = [\n",
    "    [lam_deaths_1849, sv_deaths_1849],  \n",
    "    [lam_deaths_1854, sv_deaths_1854], \n",
    "    \n",
    "]\n",
    "\n",
    "# Visualize the contingency table in the Jupyter console. \n",
    "print(\"Our contingency table...\")\n",
    "visualize_contingency_table(contingency_table, top_labels, left_labels)"
   ]
  },
  {
   "cell_type": "markdown",
   "id": "11a6fd05-d05e-4dd2-ace0-0efdac5aa9d1",
   "metadata": {},
   "source": [
    "<img src=\"../imgs/pencil.png\" alt=\"Drawing\" align=left style=\"width: 20px;\"/> <font size=\"4\">**Journal 6b:** Contingency table </font>\n",
    "\n",
    "**What does the contingency table suggest to you?**\n",
    "> Write your answer here! "
   ]
  },
  {
   "cell_type": "markdown",
   "id": "71508e11",
   "metadata": {},
   "source": [
    "### Formalizing Your Results\n",
    "\n",
    "**Now comes the hard part, convincing others to believe your argument. We can do this two ways:**\n",
    "- Test if the difference in the two groups is statistically significant (Chi-squared and p-value)\n",
    "- Create a visualization "
   ]
  },
  {
   "cell_type": "markdown",
   "id": "985ed5ff-61ce-4b88-8cf7-1e6349b02ff6",
   "metadata": {},
   "source": [
    "**Chi-squared**: Test if the difference in the groups is statistically significant:"
   ]
  },
  {
   "cell_type": "code",
   "execution_count": null,
   "id": "24a3654f",
   "metadata": {},
   "outputs": [],
   "source": [
    "from scipy.stats import chi2_contingency\n",
    "\n",
    "# Now let us get our p-value! \n",
    "# ... when doing data science in Python, it is common convention to use\n",
    "#.    \"_\" characters to mark variables whose values we don't need. \n",
    "chi_square, p_value, _, _ = chi2_contingency(contingency_table)\n",
    "print(f\"Our p-value: {p_value:.5f}\")"
   ]
  },
  {
   "cell_type": "markdown",
   "id": "ecedd7dc-6f45-4821-9271-1fb031703303",
   "metadata": {},
   "source": [
    "<img src=\"../imgs/pencil.png\" alt=\"Drawing\" align=left style=\"width: 20px;\"/> <font size=\"4\">**Journal 6c:** Statistical Significance </font>\n",
    "\n",
    "**Based on the p-value of your $Chi^2$ test, can you claim within reasonable doubt (p < 0.05) that the result of your $Chi^2$ test is statistically significant?**\n",
    "> Write your answer here! \n",
    "\n",
    "<br>"
   ]
  },
  {
   "cell_type": "markdown",
   "id": "e55da4af-017b-4fca-840f-ce22e33014a7",
   "metadata": {},
   "source": [
    "**Visualization.** The contingency table and $Chi^2$ test are based on frequencies (counts) in each group. We know from before, that we want to normalize counts. So let’s divide the death counts in each group and year by the respective population counts to express the groups in `deaths per 1000`.\n",
    "\n"
   ]
  },
  {
   "cell_type": "code",
   "execution_count": null,
   "id": "84af9807-0b35-4034-855d-83cdc5a20cfb",
   "metadata": {},
   "outputs": [],
   "source": [
    "# Task 1. Calculate the death rate per 1000 in 1849 for each group\n",
    "lam_rate_1849 = lam_deaths_1849 / (mostly_lam['pop1849'].sum()) * 1000    \n",
    "sv_rate_1849 = sv_deaths_1849 / (mostly_sv['pop1849'].sum()) * 1000       \n",
    "\n",
    "print(f\"Mostly Lambeth death rate per 1000 in 1849: {lam_rate_1849:.2f}\")\n",
    "print(f\"Mostly Southwark and Vauhall death rate per 1000 in 1849: {sv_rate_1849:.2f}\")"
   ]
  },
  {
   "cell_type": "code",
   "execution_count": null,
   "id": "c34cc043-b0e0-4c2e-8eb7-9f2bede58ef5",
   "metadata": {},
   "outputs": [],
   "source": [
    "# Task 2. Calculate the death rate per 1000 in 1854 for each group\n",
    "lam_rate_1854 = ???    \n",
    "sv_rate_1854 = ???       \n",
    "\n",
    "print(f\"Mostly Lambeth death rate per 1000 in 1854: {lam_rate_1854:.2f}\")\n",
    "print(f\"Mostly Southwark and Vauhall death rate per 1000 in 1854: {sv_rate_1854:.2f}\")"
   ]
  },
  {
   "cell_type": "code",
   "execution_count": null,
   "id": "920565ff-41a8-49f2-b15d-c21e09a2b369",
   "metadata": {},
   "outputs": [],
   "source": [
    "# Task 3: Visualize the differences in the two groups with a histogram\n",
    "\n",
    "# 1. Let's first view the Lambeth data. \n",
    "plt.bar(x=['Lambeth 1849', 'Lambeth 1854'], \n",
    "        height=[lam_rate_1849, lam_rate_1854], color='purple', label='Subdistricts supplied by Lambeth')\n",
    "\n",
    "# 2. Now let's view the Southwark & Vauxhall data.\n",
    "plt.bar(x=['S&V 1849', 'S&V 1854'], \n",
    "        height=[sv_rate_1849, sv_rate_1854], color='gold', label='Subdistricts supplied by Southwark & Vauxhall')\n",
    "\n",
    "plt.ylim((0,20))\n",
    "plt.ylabel(\"Deaths per 1000 people\")\n",
    "plt.title(\"Cholera Deaths in 1849 and 1854 Between Water Companies\")\n",
    "plt.legend()"
   ]
  },
  {
   "cell_type": "markdown",
   "id": "10a2af95",
   "metadata": {},
   "source": [
    "<img src=\"../imgs/pencil.png\" alt=\"Drawing\" align=left style=\"width: 20px;\"/> <font size=\"4\">**Journal 6d:** An Effective Visualization? </font>\n",
    "\n",
    "**Does this visualization clearly communicate the results of your test? What, if anything, would you change about the visualization to make it easier for the public to understand your findings?**\n",
    "> Write your answer here! "
   ]
  },
  {
   "cell_type": "markdown",
   "id": "ab01ea6e",
   "metadata": {},
   "source": [
    "\n",
    "<img src=\"../imgs/pencil.png\" alt=\"Drawing\" align=left style=\"width: 20px;\"/> <font size=\"4\">**Journal 6e:** Reflection </font>\n",
    "\n",
    "At the end of each notebook in Data4All, we will take time to reflect on what we learned! You can write as much or as little as you like, but please answer the following questions... \n",
    "\n",
    "**What do you understand better after this notebook than before?**\n",
    "> Write your answer here! \n",
    "\n",
    "**Please fill out the Notebook survey here!**\n",
    "> https://forms.gle/54KHEbPGsRxQU3Bh9\n",
    "\n",
    "<br>\n",
    "\n",
    "--------------------------------\n",
    "\n",
    "<br>\n",
    "\n",
    "<img src=\"../imgs/save-icon.jpeg\" alt=\"Drawing\" align=left style=\"width: 20px;\"/> <font size=\"4\">     **&ensp;&ensp;&ensp;Last step: save your work!** </font>"
   ]
  },
  {
   "cell_type": "code",
   "execution_count": null,
   "id": "24adf314",
   "metadata": {},
   "outputs": [],
   "source": []
  }
 ],
 "metadata": {
  "kernelspec": {
   "display_name": "Python 3 (ipykernel)",
   "language": "python",
   "name": "python3"
  },
  "language_info": {
   "codemirror_mode": {
    "name": "ipython",
    "version": 3
   },
   "file_extension": ".py",
   "mimetype": "text/x-python",
   "name": "python",
   "nbconvert_exporter": "python",
   "pygments_lexer": "ipython3",
   "version": "3.12.7"
  }
 },
 "nbformat": 4,
 "nbformat_minor": 5
}
