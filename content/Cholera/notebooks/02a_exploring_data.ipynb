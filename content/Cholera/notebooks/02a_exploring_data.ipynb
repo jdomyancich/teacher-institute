{
 "cells": [
  {
   "cell_type": "markdown",
   "id": "192a7107",
   "metadata": {},
   "source": [
    "# Notebook 2: Exploring the Data I\n",
    "\n",
    "\n",
    "## 2.1: Seeing the Problem in Data\n",
    "\n",
    "Finding the origins of cholera's spread was a contentious issue in the 1800s. Before even seeing the problem in the data, the people of that time could see cholera **all around them**. As friends and relatives grew gravely ill, it became urgent to discover **why** this was happening in hopes of putting a stop to it. \n",
    "\n",
    "People, including the local media, had different ideas about what could be causing cholera. For instance, take a look at the following political cartoon of the time: \n",
    "<br>\n",
    "\n",
    "<table><tr>\n",
    "    <td> <img src=\"../imgs/king_cholera.png\" alt=\"Drawing\" style=\"width: 600px;\"/> </td>\n",
    "</tr></table>\n",
    "\n",
    "<br>\n",
    "\n",
    "<img src=\"../imgs/pencil.png\" alt=\"Drawing\" align=left style=\"width: 20px;\"/> <font size=4> **Journal 2a:** Interpret the Cartoon </font>\n",
    "\n",
    "**What is the underlying message of this cartoon?** \n",
    "\n",
    "> Write your answer here! \n",
    "\n",
    "<br>\n",
    "\n",
    "-------------------------------------------------------------------------------------------------\n",
    "\n",
    "<br>\n",
    "\n",
    "**By the end of this notebook, you should be able to:**\n",
    "- Through the data, understand what the problem is\n",
    "- Normalize data and understand why it’s important to do so\n",
    "- Create an outcome variable with real-world data\n",
    "\n",
    "<br>"
   ]
  },
  {
   "cell_type": "code",
   "execution_count": null,
   "id": "b05404c5-bd0e-46b4-81a1-fbc4e908738e",
   "metadata": {},
   "outputs": [],
   "source": [
    "don't see this"
   ]
  },
  {
   "cell_type": "markdown",
   "id": "bfb0c3eb",
   "metadata": {},
   "source": [
    "# Data Science 101: Finding the Problem\n",
    "\n",
    "Data scientists have curious minds; when confronted with a problem in the 'real world' they first try to better understand that problem with data (before, of course, looking for answers and solutions). \n",
    "\n",
    "After all, it's a lot easier for superheroes to solve a mystery when there's a signal illuminating what is driving the problem. \n",
    "\n",
    "<table><tr>\n",
    "    <td> <img src=\"../imgs/bat-signal.jpeg\" alt=\"Drawing\" style=\"width: 400px;\"/> </td>\n",
    "</tr></table>\n",
    "\n",
    "<br><br>\n",
    "\n",
    "Using the Pandas toolkit, let's see if we can dig into our data to gain any insight as to ***when*** cholera outbreaks have occurred. The data below show, for a given year, how many people lived in London and how many people died there (of any cause)."
   ]
  },
  {
   "cell_type": "code",
   "execution_count": null,
   "id": "77b2df3e",
   "metadata": {},
   "outputs": [],
   "source": [
    "# Load our Pandas data science library\n",
    "import pandas as pd"
   ]
  },
  {
   "cell_type": "code",
   "execution_count": null,
   "id": "11121ec3",
   "metadata": {},
   "outputs": [],
   "source": [
    "# Load data about London\n",
    "London = pd.read_csv(\"../data/London.csv\", index_col='year')\n",
    "London"
   ]
  },
  {
   "cell_type": "markdown",
   "id": "5916504d",
   "metadata": {},
   "source": [
    "<img src=\"../imgs/pencil.png\" alt=\"Drawing\" align=left style=\"width: 20px;\"/> <font size=4> **Journal 2b:** Thinking about the Data </font>\n",
    "\n",
    "**In 1-3 sentences, comment on what you see in these data. Is there enough here to determine when cholera outbreaks occurred? Why or why not?** \n",
    "\n",
    "> Write your answer here! "
   ]
  },
  {
   "cell_type": "markdown",
   "id": "675802ea",
   "metadata": {},
   "source": [
    "### The importance of normalization \n",
    "\n",
    "`deaths` are higher in 1854 than in 1840. Is this because of cholera? *Maybe*. Is this because of population growth? *Possibly*. Simply put, if you have more people in a city, then more people die. \n",
    "\n",
    "For instance, if `40,000` people die in Chicago each year (pop. 3,000,000), and only `50` people die in the small farm town of Lonsdale, MN each year (pop. 4,000) ... then are you `40,000 / 50 = 800` times less likely to die in Lonsdale?!\n",
    "\n",
    "\n",
    "<table><tr>\n",
    "    <td> <img src=\"imgs/chicago.jpeg\" alt=\"Drawing\" style=\"width: 400px;\"/> </td>\n",
    "    <td> <img src=\"imgs/lonsdale.jpeg\" alt=\"Drawing\" style=\"width: 400px;\"/> </td>\n",
    "</tr></table>\n",
    "\n",
    "This example highlights the importance of ***normalization***: adjusting the values of data so that they are on the **same scale**  – in this case, so you can compare the chance of dying in the much larger city of Chicago vs. the much smaller town of Lonsdale. \n",
    "\n",
    "\n",
    "<br><br>\n",
    "<img src=\"../imgs/pencil.png\" alt=\"Drawing\" align=left style=\"width: 20px;\"/> <font size=4> **Journal 2c**: How to Normalize\n",
    "    \n",
    "**For the London data, how might you normalize to find years when cholera is particularly fatal?**</font>\n",
    "\n",
    "> Write your answer here! \n",
    "\n",
    "<br><br>\n",
    "\n",
    "## 2.2: Creating an Outcome Variable\n",
    "An **outcome variable** is the variable that we want to explain using other variables! You can **normalize an outcome variable** to avoid the influence of population discussed earlier. \n",
    "\n",
    "Let's return to the London example... \n",
    "\n",
    "Since we are interested in reasons why people die of cholera, `deaths` seems like a logical choice for our outcome variable! \n",
    "\n",
    "BUT different years have different populations, which leads us to the \"Chicago-vs-Lonsdale\" dilemma from before... \n",
    "\n",
    "We can easily normalize `deaths` by using the `population` variable to create a `death rate`, also known as \"Mortality Rate\".\n",
    "\n",
    "This is done with the following calculation:\n",
    "$$death \\ rate = {deaths \\over population} \\times 1000$$\n",
    "\n",
    "which is the same as\n",
    "\n",
    "$$death \\ rate = {deaths \\div population} \\times 1000$$\n",
    "\n",
    "**Task:** complete the following cell. The code is going to repeat the death rate calculation for each row (15 times, total). If done correctly, you should have a new column called \"deaths_per_1000\", with a value for each year."
   ]
  },
  {
   "cell_type": "code",
   "execution_count": null,
   "id": "b152d303",
   "metadata": {},
   "outputs": [],
   "source": [
    "# Calculate death (mortality) rate per 1,000 people. \n",
    "# The \"/\" means that we divide every item in the \"deaths\" column by every item in the \"population\" column.\n",
    "# The \"*\" means that we multiply every value (for our new outcome variable) by 1000. \n",
    "\n",
    "London['deaths_per_1000'] = London[???] / London[???] * ???\n",
    "\n",
    "London"
   ]
  },
  {
   "cell_type": "markdown",
   "id": "4209f435",
   "metadata": {},
   "source": [
    "<img src=\"../imgs/pencil.png\" alt=\"Drawing\" align=left style=\"width: 20px;\"/> <font size=4> **Journal 2d**: The magic of 'per'\n",
    "    \n",
    "**Explain in your own words why `deaths_per_1000` is a better outcome variable than `deaths`?**</font>\n",
    "\n",
    "> Write your answer here! \n",
    "\n",
    "\n",
    "<img src=\"../imgs/pencil.png\" alt=\"Drawing\" align=left style=\"width: 20px;\"/> <font size=4> **Journal 2e**: Identifying the Outbreak(s)\n",
    "    \n",
    "**What years, based on your new outcome variable, are there cholera outbreaks?**</font>\n",
    "\n",
    "> Write your answer here! \n",
    "\n",
    "----------------------------------------------"
   ]
  },
  {
   "cell_type": "markdown",
   "id": "344d6e71",
   "metadata": {},
   "source": [
    "<img src=\"../imgs/pencil.png\" alt=\"Drawing\" align=left style=\"width: 20px;\"/> <font size=\"4\">**Journal 2f:** Reflection </font>\n",
    "\n",
    "**As you look at the data, briefly describe the \"problem\" facing the people of London.**\n",
    "> Write your answer here! \n",
    "\n",
    "**Please fill out the Notebook survey here!**\n",
    "> https://forms.gle/54KHEbPGsRxQU3Bh9\n",
    "\n",
    "<br>\n",
    "\n",
    "--------------------------------\n",
    "\n",
    "<br>\n",
    "\n",
    "<img src=\"../imgs/save-icon.jpeg\" alt=\"Drawing\" align=left style=\"width: 20px;\"/> <font size=\"4\">     **&ensp;&ensp;&ensp;Last step: save your work!** </font>"
   ]
  },
  {
   "cell_type": "code",
   "execution_count": null,
   "id": "2f66f548",
   "metadata": {},
   "outputs": [],
   "source": []
  }
 ],
 "metadata": {
  "kernelspec": {
   "display_name": "Python 3 (ipykernel)",
   "language": "python",
   "name": "python3"
  },
  "language_info": {
   "codemirror_mode": {
    "name": "ipython",
    "version": 3
   },
   "file_extension": ".py",
   "mimetype": "text/x-python",
   "name": "python",
   "nbconvert_exporter": "python",
   "pygments_lexer": "ipython3",
   "version": "3.12.7"
  }
 },
 "nbformat": 4,
 "nbformat_minor": 5
}
