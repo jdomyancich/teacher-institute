{
 "cells": [
  {
   "cell_type": "markdown",
   "id": "47de1152",
   "metadata": {},
   "source": [
    "# Notebook 3: Exploring the Data II\n",
    "\n",
    "**By the end of this notebook, you should be able to**: \n",
    "- Distinguish outcome and explanatory variables\n",
    "- Explore explanatory variables in Pandas (incl. filter and group)\n",
    "- Understand scatter plots and create one\n",
    "<br>\n",
    "\n",
    "## 3.1: Seeing the Problem in Data\n",
    "\n",
    "In the prior notebook, you started to explore data about the cholera epidemic, and some of you *may* have even come up with your own theories as to why it happened. \n",
    "\n",
    "In this section, we will dig even deeper into our data science toolkit to try to pinpoint how people got infected by cholera. \n",
    "\n",
    "<br>\n",
    "\n",
    "<table><tr>\n",
    "    <td> <img src=\"imgs/charlie.jpeg\" alt=\"Drawing\" style=\"width: 400px;\"/> </td>\n",
    "</tr></table>\n",
    "\n",
    "\n",
    "\n",
    "Let's begin begin by loading the Pandas toolkit for Python and our data set:"
   ]
  },
  {
   "cell_type": "code",
   "execution_count": null,
   "id": "46bd7798",
   "metadata": {},
   "outputs": [],
   "source": [
    "import pandas as pd\n",
    "Outbreak = pd.read_csv(\"Datasets/The_Outbreak_of_1849.csv\")\n"
   ]
  },
  {
   "cell_type": "markdown",
   "id": "6e9f0e47",
   "metadata": {},
   "source": [
    "In the previous notebook, we selected `deaths_per_1000` as our ***outcome variable***.\n",
    "\n",
    "\n",
    "In this notebook, we take the next step to develop a **proposed explanation** or ***hypothesis*** for why some people died of cholera and others did not. We will make these explanations measurable with variables called **explanatory variables**. \n",
    "\n",
    "While there should be only one outcome variable, there can be multiple explanatory variables. *Why?* Because explanations often have multiple contributing factors! \n",
    "\n",
    "<br>\n",
    "\n",
    "<table><tr>\n",
    "    <td> <img src=\"imgs/math2.jpeg\" alt=\"Drawing\" style=\"width: 400px;\"/> </td>\n",
    "</tr></table>\n",
    "\n",
    "<br>\n",
    "\n",
    "For example, if you want to explain to your parents why you did so well in math class (the outcome variable), you might be able to *explain* it with the number of hours you studied, the amount of sleep you got the night before the test, and even your astrological sign (hey, we're not here to judge!). \n",
    "\n",
    "--------------------\n",
    "\n",
    "<img src=\"imgs/pencil.png\" alt=\"Drawing\" align=left style=\"width: 20px;\"/> <font size=4> **Journal 3A**: Brainstorm\n",
    "    \n",
    "What are up to 3 potential explanations for where people got cholera from? With or without peeking at the data, how would you measure this with explanatory variables for our outcome variable (cholera deaths per 1,000 people)?</font>\n",
    "\n",
    "> Write your answer here! "
   ]
  },
  {
   "cell_type": "code",
   "execution_count": null,
   "id": "265931fe",
   "metadata": {},
   "outputs": [],
   "source": [
    "print(\"\\n*** Potential Explanatory variables *** \")\n",
    "Outbreak.head()"
   ]
  },
  {
   "cell_type": "code",
   "execution_count": null,
   "id": "2ee4ffa2",
   "metadata": {},
   "outputs": [],
   "source": [
    "# Our outcome variable: mortality rate! \n",
    "Outbreak[\"deaths_per_1000\"] = Outbreak['deaths'] / Outbreak['population'] * 1000\n",
    "\n",
    "# And we'll take a peek at the data\n",
    "print(\"\\n*** The Outcome variable *** \")\n",
    "Outbreak[[\"district\", \"deaths_per_1000\"]].head()\n"
   ]
  },
  {
   "cell_type": "markdown",
   "id": "1bfd523f",
   "metadata": {},
   "source": [
    "Our job now is to explore explanatory variables that could potentially explain the mortality rate. While you will soon explore your own ideas, let's together explore one potential explanatory variable -- **Population Density**. \n",
    "\n",
    "Population density is a measure of 'crowded-ness' for geographic areas (like cities!). It is \"people per unit of area\". \n",
    "\n",
    "----------------------\n",
    "\n",
    "<img src=\"imgs/pencil.png\" alt=\"Drawing\" align=left style=\"width: 20px;\"/> <font size=4> **Journal 3B:** Population Density </font>\n",
    "\n",
    "**Why might population density explain why some people get cholera, but not others?** \n",
    "\n",
    "> Write your answer here! \n",
    "\n",
    "-------------------\n",
    "\n",
    "#### Go ahead and add your variable for population density below!"
   ]
  },
  {
   "cell_type": "code",
   "execution_count": null,
   "id": "11a304b5",
   "metadata": {},
   "outputs": [],
   "source": [
    "# Population density\n",
    "Outbreak[\"pop_density\"] = Outbreak[\"population\"]/Outbreak[\"area\"]\n",
    "Outbreak.head()\n"
   ]
  },
  {
   "cell_type": "markdown",
   "id": "6761f5ec",
   "metadata": {},
   "source": [
    "**Congratulations, you have created your first explanatory variable!** \n",
    "\n",
    "Now let's dig in to see if we *think* it potentially explains why people get cholera.\n",
    "\n",
    "\n",
    "### How do our data look between geographical regions?\n",
    "\n",
    "To do this, we will add two additional tools to our data science toolbox: **filter** and **groupby**.\n",
    "\n",
    "Filtering is a method for making a smaller data frame from a date frame. You can filter to get only the rows matching certain criteria. If my data frame about rainfall in US cities is called `df`, then: \n",
    "\n",
    "<br>\n",
    "\n",
    "```\n",
    "heavy_rain_df = df[df[\"inches_of_rain\"] > 10]\n",
    "\n",
    "five_inch_df = df[df[\"inches_of_rain\"] == 5.0]\n",
    "\n",
    "only_chicago_df = df[df[\"city\"] == \"Chicago\"]\n",
    "```\n",
    "\n",
    "<br>\n",
    "\n",
    "In the following, let's filter to see how our explanatory variable performs on the \"Central\" region of London. \n",
    "<br>"
   ]
  },
  {
   "cell_type": "code",
   "execution_count": null,
   "id": "37731504-503d-4d43-b701-c32290cef1b0",
   "metadata": {},
   "outputs": [],
   "source": [
    "# Make a variable called \"CentralData\" that includes only districts in the Central region.\n",
    "CentralData = Outbreak[(Outbreak[\"region\"] == \"Central\")]"
   ]
  },
  {
   "cell_type": "code",
   "execution_count": null,
   "id": "0bfe9808-61b8-4553-a7a9-d5b2b9f6ac0c",
   "metadata": {},
   "outputs": [],
   "source": [
    "# Now let us compare our outcome (dependent) and (explanatory) independent variable!\n",
    "print(CentralData[[\"deaths_per_1000\", \"pop_density\"]].mean())"
   ]
  },
  {
   "cell_type": "markdown",
   "id": "bc06b0bc",
   "metadata": {},
   "source": [
    "### Coding exercise! \n",
    "**Repeat the process for the Southern region in the following cell!**"
   ]
  },
  {
   "cell_type": "code",
   "execution_count": null,
   "id": "88a08343",
   "metadata": {},
   "outputs": [],
   "source": [
    "# Show population density and deaths per 1000 of Southern London. \n",
    "SouthData = Outbreak[(Outbreak[\"region\"] == \"South\")]\n",
    "print(SouthData[[\"deaths_per_1000\", \"pop_density\"]].mean())\n"
   ]
  },
  {
   "cell_type": "markdown",
   "id": "c593471e",
   "metadata": {},
   "source": [
    "**Groupby**: Pandas gives us an easier way to check every region at once! We can use this to filter on 'aggregates' like 'mean' and 'sum'. "
   ]
  },
  {
   "cell_type": "code",
   "execution_count": null,
   "id": "74b36390",
   "metadata": {},
   "outputs": [],
   "source": [
    "# Calculate averages after filtering and compare\n",
    "\n",
    "ByRegion = Outbreak.groupby(\"region\")[[\"deaths_per_1000\", \"pop_density\"]].agg('mean')\n",
    "ByRegion\n",
    "\n",
    "# This code groups the Outbreak dataFrame by region, and specifies which columns to\n",
    "#  aggregate by mean, and outputs a new dataFrame called ByRegion with these means."
   ]
  },
  {
   "cell_type": "markdown",
   "id": "746aa976-1502-4f44-bfa6-74dd8692a1ee",
   "metadata": {},
   "source": [
    "<img src=\"imgs/pencil.png\" alt=\"Drawing\" align=left style=\"width: 20px;\"/> <font size=4> **Journal 3C:** Looking for Patterns </font>\n",
    "\n",
    "Look back at the spatial patterns of cholera from the previous notebook. Does population density appear to be correlated with death rates?\n",
    "\n",
    "> Write your answer here! \n",
    "\n",
    "-------------------"
   ]
  },
  {
   "cell_type": "markdown",
   "id": "91f25c32",
   "metadata": {},
   "source": [
    "## Scatter plots.\n",
    "\n",
    "A scatter plot uses dots to visualize the relationship between two variables. \n",
    "\n",
    "Scatter plots are especially useful in enabling people to study the relationship between an outcome variable and one of our explanatory variables. You can add a **correlation** line to the scatter plot to measure the strength and direction of the relationship.\n",
    "\n",
    "A correlation is a statistical way to assess if the values of your two variables move together in a linear fashion or not, and how much so. \n",
    "\n",
    "To illustrate, imagine that the graphs below show three kinds of relationships between population density and cholera rates. On the left, a positive correlation means that, as population density increases, so does cholera mortality (the closer to 1, the stronger the relation). With zero correlation, population density is not related to cholera rates. In contrast, with a negative correlation, more densely populated areas have lower rates of cholera deaths (the closer to -1, the stronger the relation).  \n",
    "\n",
    "In this example, correlations are close to 1 for illustration purposes. You’ll see soon that, with real data, relationships are usually weaker. \n",
    "\n",
    "<br>\n",
    "\n",
    "<table><tr>\n",
    "    <td> <img src=\"imgs/correlation.png\" alt=\"Drawing\" style=\"width: 700px;\"/> </td>\n",
    "</tr></table>\n",
    "\n",
    "<br>\n",
    "\n",
    "In order to create scatter (and other) plots in Python, data scientists commonly use the `matplotlib` library! We will use another common library called `numpy` to calculate the best-fit line and **another** called `scipy` to calculate the correlation coefficient (R-squared).  "
   ]
  },
  {
   "cell_type": "code",
   "execution_count": null,
   "id": "e0d37462",
   "metadata": {},
   "outputs": [],
   "source": [
    "import numpy as np\n",
    "from matplotlib import pyplot as plt\n",
    "import scipy"
   ]
  },
  {
   "cell_type": "code",
   "execution_count": null,
   "id": "ce778dae",
   "metadata": {},
   "outputs": [],
   "source": [
    "# Visualizing to assist \n",
    "# Generate scatterplots of variables vs. mortality\n",
    "\n",
    "#set the x and y variables to use for the plot\n",
    "x = Outbreak['pop_density']\n",
    "y = Outbreak['deaths_per_1000']\n",
    "\n",
    "# Put the dots on the plot\n",
    "# the plt indicates that we are using the matplotlib library and pyplot\n",
    "plt.scatter(x, y)\n",
    "\n",
    "# Here we add a 'line of best fit' that helps us visualize potential correlation!\n",
    "# the np indicates that we are using the numpy library to calculate slope and intercept values\n",
    "\n",
    "m, b = np.polyfit(x, y, 1)\n",
    "\n",
    "# Put the line of best fit on the plot. \n",
    "plt.plot(x, m*x + b)\n",
    "\n",
    "slope, intercept, r_value, p_value, std_err = scipy.stats.linregress(x, y)\n",
    "\n",
    "plt.xlabel('Population Density (people per acre)')\n",
    "plt.ylabel('Death Rate (per 1000)')\n",
    "\n",
    "plt.xlim(right = 100)\n",
    "\n",
    "# The above text all sets up how the plot will look.  The final step is below.\n",
    "# This code will show or reveal the plot. \n",
    "plt.show()\n",
    "\n",
    "# Print the correlation coefficient value.  We are using an \"f-string\" which allows\n",
    "# us to print text and variables together.\n",
    "print(f\"R-squared: {r_value**2:.3f}\")"
   ]
  },
  {
   "cell_type": "markdown",
   "id": "2d99cb7e",
   "metadata": {},
   "source": [
    "### Exercise -- go to the previous cells and explore a total of 4 independent variables. Record what you learn from each in the following table:\n",
    "- note, you will need to edit the Markdown by double clicking in this cell! \n",
    "\n",
    "| Explanatory Variable | Correlation (Pos., Neg. or None) |  R-squared value | Notes |\n",
    "|---|---|---|---|\n",
    "|Pop Density   | X  | X  | X  |\n",
    "| X  | X |  X | X  |\n",
    "| X | X  | X  | X  |\n",
    "| X | X  | X  | X  |\n",
    "\n",
    "<img src=\"imgs/pencil.png\" alt=\"Drawing\" align=left style=\"width: 20px;\"/> <font size=\"4\">**Journal 3D:** Results of Exploration </font>\n",
    "\n",
    "**Which independent variables are most related to cholera rates, and why?**\n",
    "> Write your answer here! "
   ]
  },
  {
   "cell_type": "code",
   "execution_count": null,
   "id": "44b1d2c1",
   "metadata": {},
   "outputs": [],
   "source": [
    "# Visualizing to assist \n",
    "# Generate scatterplots of variables vs. mortality\n",
    "\n",
    "#set the x and y variables to use for the plot\n",
    "x = Outbreak['elevation']\n",
    "y = Outbreak['deaths_per_1000']\n",
    "\n",
    "# Put the dots on the plot\n",
    "# the plt indicates that we are using the matplotlib library and pyplot\n",
    "plt.scatter(x, y)\n",
    "\n",
    "# Here we add a 'line of best fit' that helps us visualize potential correlation!\n",
    "# the np indicates that we are using the numpy library to calculate slope and intercept values\n",
    "\n",
    "m, b = np.polyfit(x, y, 1)\n",
    "\n",
    "# Put the line of best fit on the plot. \n",
    "plt.plot(x, m*x + b)\n",
    "\n",
    "slope, intercept, r_value, p_value, std_err = scipy.stats.linregress(x, y)\n",
    "\n",
    "plt.xlabel('Elevation (feet)')\n",
    "plt.ylabel('Death Rate (per 1000)')\n",
    "\n",
    "plt.xlim(right = 100)\n",
    "\n",
    "# The above text all sets up how the plot will look.  The final step is below.\n",
    "# This code will show or reveal the plot. \n",
    "plt.show()\n",
    "\n",
    "# Print the correlation coefficient value.  We are using an \"f-string\" which allows\n",
    "# us to print text and variables together.\n",
    "print(f\"R-squared: {r_value**2:.3f}\")"
   ]
  },
  {
   "cell_type": "code",
   "execution_count": null,
   "id": "a67dc85d",
   "metadata": {},
   "outputs": [],
   "source": [
    "# Visualizing to assist \n",
    "# Generate scatterplots of variables vs. mortality\n",
    "\n",
    "#set the x and y variables to use for the plot\n",
    "x = Outbreak['number_houses']\n",
    "y = Outbreak['deaths_per_1000']\n",
    "\n",
    "# Put the dots on the plot\n",
    "# the plt indicates that we are using the matplotlib library and pyplot\n",
    "plt.scatter(x, y)\n",
    "\n",
    "# Here we add a 'line of best fit' that helps us visualize potential correlation!\n",
    "# the np indicates that we are using the numpy library to calculate slope and intercept values\n",
    "\n",
    "m, b = np.polyfit(x, y, 1)\n",
    "\n",
    "# Put the line of best fit on the plot. \n",
    "plt.plot(x, m*x + b)\n",
    "\n",
    "slope, intercept, r_value, p_value, std_err = scipy.stats.linregress(x, y)\n",
    "\n",
    "plt.xlabel('Number of Houses')\n",
    "plt.ylabel('Death Rate (per 1000)')\n",
    "\n",
    "plt.xlim(right = 15000)\n",
    "\n",
    "# The above text all sets up how the plot will look.  The final step is below.\n",
    "# This code will show or reveal the plot. \n",
    "plt.show()\n",
    "\n",
    "# Print the correlation coefficient value.  We are using an \"f-string\" which allows\n",
    "# us to print text and variables together.\n",
    "print(f\"R-squared: {r_value**2:.3f}\")"
   ]
  },
  {
   "cell_type": "markdown",
   "id": "e41a9bca",
   "metadata": {},
   "source": [
    "<img src=\"imgs/pencil.png\" alt=\"Drawing\" align=left style=\"width: 20px;\"/> <font size=\"4\">**Journal 3E:** Reflection </font>\n",
    "\n",
    "At the end of each notebook in Data4All, we will take time to reflect on what we learned! You can write as much or as little as you like, but please answer the following three questions... \n",
    "\n",
    "**What do you understand better after this notebook than before?**\n",
    "> Write your answer here! \n",
    "\n",
    "**Please fill out the Notebook survey here!**\n",
    "> https://forms.gle/54KHEbPGsRxQU3Bh9\n",
    "\n",
    "<br>\n",
    "\n",
    "--------------------------------\n",
    "\n",
    "<br>\n",
    "\n",
    "<img src=\"imgs/save-icon.jpeg\" alt=\"Drawing\" align=left style=\"width: 20px;\"/> <font size=\"4\">     **&ensp;&ensp;&ensp;Last step: save your work!** </font>"
   ]
  },
  {
   "cell_type": "code",
   "execution_count": null,
   "id": "5066c27e",
   "metadata": {},
   "outputs": [],
   "source": []
  }
 ],
 "metadata": {
  "kernelspec": {
   "display_name": "base",
   "language": "python",
   "name": "python3"
  },
  "language_info": {
   "codemirror_mode": {
    "name": "ipython",
    "version": 3
   },
   "file_extension": ".py",
   "mimetype": "text/x-python",
   "name": "python",
   "nbconvert_exporter": "python",
   "pygments_lexer": "ipython3",
   "version": "3.12.7"
  }
 },
 "nbformat": 4,
 "nbformat_minor": 5
}
