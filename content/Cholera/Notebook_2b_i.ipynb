{
 "cells": [
  {
   "cell_type": "markdown",
   "id": "9e5d174b-e814-4a5e-bd4d-cbd3a96f1f3e",
   "metadata": {},
   "source": [
    "## Notebook 2b: Pandas Dataframe Manipulations\n",
    "-------------------------\n",
    "<br>\n",
    "\n",
    "**By the end of this notebook, you should be able to**: \n",
    "- Get column statistics\n",
    "- Create a new column\n",
    "- Select columns and rows\n",
    "- Apply these dataframe manipulations to the cholera problem\n",
    "<br><br>\n",
    "\n",
    "\n",
    "In the previous Pandas dataframe (from Notebook 2a), we created a new column `deaths_per_1000` by putting a couple of other columns through a calculation. This is an example of a **dataframe manipulation** where we create new data from existing data or reorganize the data to make it easier to work with.  In this section, we will practice more dataframe manipulations. To begin, let's look at some data about that cholera outbreak from 1849. \n",
    "\n",
    "19th Century London was divided into districts, much like Chicago is divided into neighborhoods. These districts were grouped by geography, just like Chicago (South Side, North Side, West side, Far South Side, etc.).\n",
    "\n",
    "<br>\n",
    "\n",
    "<img src=\"https://i2.wp.com/londontopia.net/wp-content/uploads/2014/08/london-county.jpg\" width=600>\n",
    "\n",
    "\n",
    "\n"
   ]
  },
  {
   "cell_type": "code",
   "execution_count": null,
   "id": "285b7448-d619-4ce2-a49d-65c69438ab34",
   "metadata": {},
   "outputs": [],
   "source": [
    "# Load our Pandas data science library\n",
    "import pandas as pd\n",
    "pd.options.mode.chained_assignment = None"
   ]
  },
  {
   "cell_type": "code",
   "execution_count": null,
   "id": "b801d124-0cfc-41b4-bc03-f74d799ac3fa",
   "metadata": {},
   "outputs": [],
   "source": [
    "# Load data about London\n",
    "outbreak = pd.read_csv(\"Datasets/The_Outbreak_of_1849.csv\")\n",
    "outbreak"
   ]
  },
  {
   "cell_type": "markdown",
   "id": "63556f5e-e273-4a03-9157-755ae29997be",
   "metadata": {},
   "source": [
    "### Action 1. Column statistics. \n",
    "-------------------------------------\n",
    "As data scientists, we often want to summarize lots of the data, like all the values in a column, with a single number.\n",
    "\n",
    "Pandas provides a number of utilities to give us these **summary statistics**:\n",
    "\n",
    "- **min**: find the minimum value(s) of a column. \n",
    "- **max**: find the maximum value(s) of a column. \n",
    "- **mean**: compute the average of the column. \n",
    "- **sum**: add up elements in a column. "
   ]
  },
  {
   "cell_type": "code",
   "execution_count": null,
   "id": "95ab1219-dfbb-49f5-b63f-778a79059967",
   "metadata": {},
   "outputs": [],
   "source": [
    "deaths_min = outbreak['deaths'].min()\n",
    "deaths_max = outbreak['deaths'].max()\n",
    "deaths_mean = outbreak['deaths'].mean()\n",
    "deaths_sum = outbreak['deaths'].sum()\n",
    "\n",
    "print(f\"deaths min: {deaths_min}\\ndeaths max: {deaths_max}\\ndeaths mean: {deaths_mean}\\ndeaths sum: {deaths_sum}\")"
   ]
  },
  {
   "cell_type": "markdown",
   "id": "558ccf72-466e-4b1f-b266-f4099c359141",
   "metadata": {},
   "source": [
    "### Action 2. Creating a new column. \n",
    "------------------------------------------\n",
    "Let's say that you want to create a new column in Pandas. This can be done by setting a column to a value by using the `df[\"column_name\"] = ...` notation. Let's create a new column where we calculate the number of people per house using the following calculation: \n",
    "\n",
    "$$people \\ per \\ house = {population \\over number \\ of \\ houses}$$"
   ]
  },
  {
   "cell_type": "code",
   "execution_count": null,
   "id": "51b084a0-54e7-422f-9c45-4288290fd4fb",
   "metadata": {},
   "outputs": [],
   "source": [
    "# A. Create a new column that calculates the number of people per house. \n",
    "outbreak['people_per_house'] = outbreak['population']/outbreak['number_houses']\n",
    "outbreak"
   ]
  },
  {
   "cell_type": "markdown",
   "id": "b55fb1bd-ff6c-460a-b13b-109e4af6c3bf",
   "metadata": {},
   "source": [
    "### Action 3. Selecting columns.\n",
    "-----------------------------------\n",
    "Let's say that you want to 'select' only certain dataframe columns. You can select just one column using `df[\"column_name\"]` or multiple columns as follows `df[[\"column_name_1\", \"column_name_2\"]]`. See the following..."
   ]
  },
  {
   "cell_type": "code",
   "execution_count": null,
   "id": "acd725b4-9ab2-46fb-83b9-7283b8ff72ad",
   "metadata": {},
   "outputs": [],
   "source": [
    "# Select only the district column. \n",
    "new_df = outbreak[\"district\"]\n",
    "new_df"
   ]
  },
  {
   "cell_type": "code",
   "execution_count": null,
   "id": "e6161069-cef8-400c-8ef1-1e8d45dd5d1f",
   "metadata": {},
   "outputs": [],
   "source": [
    "# Select the \"District\" and \"Region\" columns. Notice the double brackets because we are putting a list in outbreak[...]\n",
    "new_df = outbreak[[\"district\", \"region\"]]\n",
    "new_df"
   ]
  },
  {
   "cell_type": "markdown",
   "id": "40ecb23a-63ac-433e-b5ff-c9c7b67b130f",
   "metadata": {},
   "source": [
    "### Action 3. Selecting rows.\n",
    "-----------------------------------\n",
    "Selecting certain rows is a different process because rows in a dataframe can contain different data types. When we filter rows, we just want to see the rows that contain a certain value or range of values.\n",
    "\n",
    "We use what is called a \"boolean\" which is a \"true/false statement\" and is coded like this: `df[(df[\"column_name\"] == \"some_value\")]`\n",
    "\n",
    "The double equal signs `==` means \"is it equal to?\" as opposed to `=` which means \"**make** it equal to\" like how we set variable equal to a certain value.\n",
    "\n",
    "For example, let's say that we only want to see the row for East London..."
   ]
  },
  {
   "cell_type": "code",
   "execution_count": null,
   "id": "3bb7b07a-f9f0-44ca-9498-c9db95d57f49",
   "metadata": {},
   "outputs": [],
   "source": [
    "new_row = outbreak[(outbreak[\"district\"] == \"East London\")]\n",
    "new_row"
   ]
  },
  {
   "cell_type": "markdown",
   "id": "148bc606-6b8f-4bd9-bcff-e4c5108eef6a",
   "metadata": {},
   "source": [
    "You can also use other **\"operators\"** like: \n",
    "- `>` greater than\n",
    "- `<` less than\n",
    "- `<=` less than or equal to \n",
    "- `>=` greater than or equal to\n",
    "- `!=` not equal to"
   ]
  },
  {
   "cell_type": "markdown",
   "id": "63eef851-0450-4d31-8e84-8d6ce0c95b70",
   "metadata": {},
   "source": [
    "If we wanted to select the districts that are below an elevation of 20:"
   ]
  },
  {
   "cell_type": "code",
   "execution_count": null,
   "id": "fe8fef45-3655-4f85-ade6-8e9b3e08bc23",
   "metadata": {},
   "outputs": [],
   "source": [
    "low_elev = outbreak[(outbreak[\"elevation\"] < 20)]\n",
    "low_elev"
   ]
  },
  {
   "cell_type": "markdown",
   "id": "18d88f03-dd8c-4f1f-be68-be77e97b0c22",
   "metadata": {},
   "source": [
    "## Now it's your turn..."
   ]
  },
  {
   "cell_type": "markdown",
   "id": "08d05e9c-9c70-4695-a692-a68013acef77",
   "metadata": {},
   "source": [
    "### Applying Dataframe Manipulations to the Problem\n",
    "\n",
    "One of the first things we can do when exploring data for insights is to see if there are **spatial patterns** to our outcome variable. In other words, does location (region) affect the outcome (death rate)?\n",
    "\n",
    "Let's apply what we just learned about dataframe manipulations to see if cholera's impact was spatial.\n",
    "\n",
    "Perform the following dataframe manipulation exercises! Fill in the `???` with the proper Python code!"
   ]
  },
  {
   "cell_type": "markdown",
   "id": "ff21d5f3-22c8-4563-9fc3-1431d6b3280e",
   "metadata": {},
   "source": [
    "**1. Print out a version of `outbreak` containing only the district, region, population and deaths columns. Call this dataframe `outbreak_spatial`.**"
   ]
  },
  {
   "cell_type": "code",
   "execution_count": null,
   "id": "a6a4dd63-5585-4b5d-b9b2-b9a9c565976f",
   "metadata": {},
   "outputs": [],
   "source": [
    "# Put your answer here!\n",
    "outbreak_spatial = outbreak[[\"district\", \"region\", \"population\", \"deaths\"]]\n",
    "outbreak_spatial"
   ]
  },
  {
   "cell_type": "markdown",
   "id": "1f430b81-0877-4309-abe1-627c9230d722",
   "metadata": {},
   "source": [
    "**2. Create a column called \"deaths_per_1000\" that is the mortality rate.  *Hint: see outcome variable*.**"
   ]
  },
  {
   "cell_type": "code",
   "execution_count": null,
   "id": "f937db4f-82ab-4ab8-b96a-44593a00e78e",
   "metadata": {},
   "outputs": [],
   "source": [
    "# Put your answer here! \n",
    "outbreak_spatial[\"deaths_per_1000\"]= outbreak_spatial[\"deaths\"] / outbreak_spatial[\"population\"] *1000\n",
    "outbreak_spatial"
   ]
  },
  {
   "cell_type": "markdown",
   "id": "df008520-249d-4fdb-aeed-ea7db0504642",
   "metadata": {},
   "source": [
    "**3. Select only the rows for the North districts and put it in a new dataframe called `outbreak_north`**"
   ]
  },
  {
   "cell_type": "code",
   "execution_count": null,
   "id": "620bcac2-ac42-43a1-a741-fbb46ce53cd9",
   "metadata": {},
   "outputs": [],
   "source": [
    "outbreak_north = outbreak_spatial[(outbreak_spatial[\"region\"] == \"North\")]\n",
    "outbreak_north"
   ]
  },
  {
   "cell_type": "markdown",
   "id": "a103ec6a-24cf-4d39-97d9-8d4ec496f0cd",
   "metadata": {},
   "source": [
    "**4. Repeat Step 3 for the other four regions.** Make a new dataframe for each: `outbreak_south`, `outbreak_east`, etc."
   ]
  },
  {
   "cell_type": "code",
   "execution_count": null,
   "id": "59dcb5f1-af8e-438d-9f3e-6fe13b854b4b",
   "metadata": {},
   "outputs": [],
   "source": [
    "outbreak_south = outbreak_spatial[(outbreak_spatial[\"region\"] == \"South\")]\n",
    "outbreak_south"
   ]
  },
  {
   "cell_type": "code",
   "execution_count": null,
   "id": "9d1bfae5-0a41-43b7-810e-a390c2847e3a",
   "metadata": {},
   "outputs": [],
   "source": [
    "outbreak_east = outbreak_spatial[(outbreak_spatial[\"region\"] == \"East\")]\n",
    "outbreak_east"
   ]
  },
  {
   "cell_type": "code",
   "execution_count": null,
   "id": "27f15f62-596e-4c2c-b581-21e32e918789",
   "metadata": {},
   "outputs": [],
   "source": [
    "outbreak_west = outbreak_spatial[(outbreak_spatial[\"region\"] == \"West\")]\n",
    "outbreak_west"
   ]
  },
  {
   "cell_type": "code",
   "execution_count": null,
   "id": "9262e63c",
   "metadata": {},
   "outputs": [],
   "source": [
    "outbreak_central = outbreak_spatial[(outbreak_spatial[\"region\"] == \"Central\")]\n",
    "outbreak_central"
   ]
  },
  {
   "cell_type": "markdown",
   "id": "e84a1397-1ab1-47b4-87e0-182ae1436b99",
   "metadata": {},
   "source": [
    "**5. Calculate the average (mean) death rate for each region.**"
   ]
  },
  {
   "cell_type": "code",
   "execution_count": null,
   "id": "901c17c4-37f1-4fdd-a55a-3eb2bdfac099",
   "metadata": {},
   "outputs": [],
   "source": [
    "death_rate_north = outbreak_north['deaths_per_1000'].mean()\n",
    "\n",
    "print(f\"North: {death_rate_north}\")"
   ]
  },
  {
   "cell_type": "code",
   "execution_count": null,
   "id": "8095dc41-b66d-4fe5-9681-e31b805b6bbc",
   "metadata": {},
   "outputs": [],
   "source": [
    "death_rate_south = outbreak_south['deaths_per_1000'].mean()\n",
    "death_rate_east = outbreak_east['deaths_per_1000'].mean()\n",
    "death_rate_west = outbreak_west['deaths_per_1000'].mean()\n",
    "death_rate_central = outbreak_central['deaths_per_1000'].mean()\n",
    "\n",
    "print(f\"North: {death_rate_north}\\nSouth: {death_rate_south}\\nEast: {death_rate_east}\\nWest: {death_rate_west}\\nCentral: {death_rate_central}\")"
   ]
  },
  {
   "cell_type": "markdown",
   "id": "ada5f2cc",
   "metadata": {},
   "source": [
    "\n",
    "To help visualize the spatial patterns, here is a map of death rates by boroughs, which are similar to districts:\n",
    "\n",
    "<img src=\"imgs/1849_map.png\" align=left style=\"width: 400px;\"/>\n"
   ]
  },
  {
   "cell_type": "markdown",
   "id": "eb067ed1-f461-40da-b3cc-8106d2827069",
   "metadata": {},
   "source": [
    "### 2.3 Reflection\n",
    "\n",
    "<img src=\"imgs/pencil.png\" alt=\"Drawing\" align=left style=\"width: 20px;\"/> <font size=4> **Journal 2A**: Is it spatial?\n",
    "    \n",
    "**Based on the death rates, for the different regions, do you think that cholera had spatial patterns?** If so, which region(s) of London were most impacted?</font>\n",
    "\n",
    "> Write your answer here! "
   ]
  },
  {
   "cell_type": "markdown",
   "id": "c88611af-d19c-49d6-a78e-6ca1fec49331",
   "metadata": {},
   "source": [
    "<img src=\"imgs/pencil.png\" alt=\"Drawing\" align=left style=\"width: 20px;\"/> <font size=4> **Journal 2B**: The cartoon\n",
    "    \n",
    "**See the cartoon at the start of the previous notebook. What variables would you want to use to \\*explore or explain\\* your outcome variable?** Why? Come up with a potential explanation of how elevation or home value, etc., could impact the spread of cholera?</font>\n",
    "\n",
    "> Write your answer here! "
   ]
  },
  {
   "cell_type": "markdown",
   "id": "97337865-2e53-494c-9bbc-5faed1ebfd1e",
   "metadata": {},
   "source": [
    "<img src=\"imgs/pencil.png\" alt=\"Drawing\" align=left style=\"width: 20px;\"/> <font size=\"4\">**Journal 2C:** Reflection </font>\n",
    "\n",
    "**What did you learn in this notebook?**\n",
    "> Write your answer here! \n",
    "\n",
    "**Please fill out the Notebook survey here!**\n",
    "> https://forms.gle/54KHEbPGsRxQU3Bh9\n",
    "\n",
    "<br>\n",
    "\n",
    "--------------------------------\n",
    "\n",
    "<br>\n",
    "\n",
    "<img src=\"imgs/save-icon.jpeg\" alt=\"Drawing\" align=left style=\"width: 20px;\"/> <font size=\"4\">     **&ensp;&ensp;&ensp;Last step: save your work!** </font>"
   ]
  },
  {
   "cell_type": "code",
   "execution_count": null,
   "id": "6bd0751a-5aa0-430a-94aa-09639046cf7e",
   "metadata": {},
   "outputs": [],
   "source": []
  }
 ],
 "metadata": {
  "kernelspec": {
   "display_name": "base",
   "language": "python",
   "name": "python3"
  },
  "language_info": {
   "codemirror_mode": {
    "name": "ipython",
    "version": 3
   },
   "file_extension": ".py",
   "mimetype": "text/x-python",
   "name": "python",
   "nbconvert_exporter": "python",
   "pygments_lexer": "ipython3",
   "version": "3.12.7"
  }
 },
 "nbformat": 4,
 "nbformat_minor": 5
}
