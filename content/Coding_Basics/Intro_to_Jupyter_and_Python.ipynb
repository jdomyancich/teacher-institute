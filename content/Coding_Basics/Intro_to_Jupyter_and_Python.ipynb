{
 "cells": [
  {
   "cell_type": "markdown",
   "id": "efeaee54-f27e-479f-bb30-c4ffcd41164a",
   "metadata": {
    "tags": []
   },
   "source": [
    "# Jupyter Notebooks"
   ]
  },
  {
   "cell_type": "markdown",
   "id": "9d43d6ac-1ca2-457e-a69b-cce57c185768",
   "metadata": {
    "tags": []
   },
   "source": [
    "## Why?\n",
    "\n",
    "In the past, most peoples' intoductions to text-based coding environments involved an \"integrated development environment\" or \"IDE\":\n",
    "\n",
    "<img src = 'https://upload.wikimedia.org/wikipedia/commons/thumb/c/c9/Ninja-ide-screenshot.png/800px-Ninja-ide-screenshot.png' width=600>"
   ]
  },
  {
   "cell_type": "markdown",
   "id": "f154d8a2-093f-41e9-b1f5-6125e929c73f",
   "metadata": {},
   "source": [
    "IDE's are generally designed for professional software developers that are working on large, complex projects and require a fair amount of experience. IDE's are also intimidating for young coders. They lump all the lines of code together which can make it difficult to find and correct bugs. \n",
    "\n",
    "When teaching coding and data science, teachers are often looking to build instuctional materials that are accessible and engaging for their students as well as facilitating assessment.\n",
    "\n",
    "**Jupyter Notebooks** provide exactly that by merging powerful coding and data science tools with a webpage-like interface that allows teachers to create a rich learning experience and promote engagement."
   ]
  },
  {
   "cell_type": "markdown",
   "id": "7ad93d95-705b-44b1-b613-74bc7e912ba8",
   "metadata": {
    "tags": []
   },
   "source": [
    "## Cells"
   ]
  },
  {
   "cell_type": "markdown",
   "id": "576e6f07-654f-4193-944a-accb8e17cda0",
   "metadata": {},
   "source": [
    "Jupyter notebooks are read from top to bottom, like a story. The notebooks are made of three types of \"cells\": **markdown**, **code**, and **raw** cells. We will only use markdown and code cells. "
   ]
  },
  {
   "cell_type": "markdown",
   "id": "8f1c6a32-86cf-427d-b2f5-ccdfe8fea200",
   "metadata": {},
   "source": [
    "When you click on a cell, you will see a blue bar to the left. Also, there is a dropdown above that tells you which type of cell it is: \n",
    "\n",
    "<img src=\"imgs/markdown.png\">"
   ]
  },
  {
   "cell_type": "markdown",
   "id": "062073cd-41e9-4acf-a619-56af6369cd89",
   "metadata": {
    "tags": []
   },
   "source": [
    "### Markdown Cells"
   ]
  },
  {
   "cell_type": "markdown",
   "id": "53bd12d9-a70c-4fb6-aa5f-fddef98057ed",
   "metadata": {},
   "source": [
    "You are reading a markdown cell right now. Markdown cells can contain many things such as\n",
    "\n",
    "***formatted text*** \n",
    "\n",
    "images: <img src='imgs/jupiter.png' width=60> \n",
    "\n",
    "audio: <audio width=\"320\" height=\"240\" \n",
    "        src=\"https://upload.wikimedia.org/wikipedia/commons/6/66/Mozart_Piano_Sonata_in_C%2C_K545%2C_end_of_first_movement_01.wav\"  \n",
    "        controls>\n",
    "</audio>\n",
    "\n",
    "even embedded videos: <video width=\"200\" height=\"200\" controls \n",
    "        src=https://upload.wikimedia.org/wikipedia/commons/8/83/Apollo_16_rover_practice.ogv \n",
    "        type=video/webm> \n",
    "</video>\n",
    "\n",
    " Markdown cells provide a richness and make a Jupyter notebook feel and act like a webpage. "
   ]
  },
  {
   "cell_type": "markdown",
   "id": "3e6e37bc-2c49-46ab-8f57-9ece9b9b65c5",
   "metadata": {},
   "source": [
    "### Code Cells"
   ]
  },
  {
   "cell_type": "markdown",
   "id": "f96a37f4-1702-46d6-a0a7-f76dcb5dd66b",
   "metadata": {},
   "source": [
    "While markdown cells provide context and make our notebook more engaging, a **code** cell is where the magic happens. When you run a code cell, it is actually executing that operation in the computer."
   ]
  },
  {
   "cell_type": "code",
   "execution_count": 1,
   "id": "21e2f91f-a8d7-4234-922d-e9c9ddcde828",
   "metadata": {},
   "outputs": [
    {
     "name": "stdout",
     "output_type": "stream",
     "text": [
      "Object `tell` not found.\n"
     ]
    }
   ],
   "source": [
    "I am a code cell. How can you tell?"
   ]
  },
  {
   "cell_type": "markdown",
   "id": "4073fd0e-d445-495b-980e-a3b23d2f8261",
   "metadata": {},
   "source": [
    "### Editing Cells"
   ]
  },
  {
   "cell_type": "markdown",
   "id": "50d544b6-515a-40bf-bf9f-ea651f9bc758",
   "metadata": {},
   "source": [
    "Cells can be cut, copied and pasted using the toolbar. \n",
    "\n",
    "<img src=\"imgs/cut_copy_paste.png\" width = 400>"
   ]
  },
  {
   "cell_type": "markdown",
   "id": "a21d90ad-6524-40c2-a28d-8ad26a601bc2",
   "metadata": {},
   "source": [
    "They can also be merged, split and moved using the edit menu."
   ]
  },
  {
   "cell_type": "markdown",
   "id": "837f52d0-2cf9-4989-a85d-614213f06980",
   "metadata": {},
   "source": [
    "### Runnning Cells"
   ]
  },
  {
   "cell_type": "markdown",
   "id": "25942dc8-fee9-43bc-ae25-5e5867e69f6b",
   "metadata": {},
   "source": [
    "The whole idea of using Jupyter notebooks is to be able to merge a narrative with coding. While the notebook may read like a story, we want the notebook to be interactive as well. This includes being able to creating, editing and \"running\" them. There are 2 ways to run a cell. After selecting a cell,  click the &#9658; button in the toolbar or use the keyboard shortcut `shift` + `enter`"
   ]
  },
  {
   "cell_type": "markdown",
   "id": "547333bc-6e4e-44fb-baec-3456ce0b29b2",
   "metadata": {},
   "source": [
    "For a **markdown** cell, you can edit it by double clicking on it. See if you can make \"double clicking\" in the previous sentence bold."
   ]
  },
  {
   "cell_type": "markdown",
   "id": "b4673108-fd73-4d0c-a168-317cf73a40d3",
   "metadata": {},
   "source": [
    "Running a code cell sometimes creates an \"output\" below. Try running the following code cell."
   ]
  },
  {
   "cell_type": "code",
   "execution_count": 7,
   "id": "6a06ec36-c5bd-439a-99a7-4ad40cc62668",
   "metadata": {},
   "outputs": [
    {
     "name": "stdout",
     "output_type": "stream",
     "text": [
      "Hello, world!\n"
     ]
    }
   ],
   "source": [
    "print(\"Hello, world!\")"
   ]
  },
  {
   "cell_type": "markdown",
   "id": "6ae126e9-acca-4f30-a430-7508406474be",
   "metadata": {},
   "source": [
    "Notice the number in brackets to the left of the code cell. This is important because it tells us the order in which the cell has been run. We can actually jump around the notebook running cells in any order we want. It doesn't have to be top to bottom. However, the order does matter for the computer and this is why we have this numbering system.\n",
    "\n",
    "If you ever want to clear the computer's memory and start the cell number from 1. Click the \"restart kernel\" &#8635; button in the toolbar. "
   ]
  },
  {
   "cell_type": "markdown",
   "id": "d34d3629-7211-47a6-9cb7-b532ba697361",
   "metadata": {},
   "source": [
    "#### Comments\n",
    "\n",
    "Non-coding text does not have to be in a markdown cell. Long before we had Jupyter notebooks, computer scientists had to embed both personal notes and notes to others in their code. \n",
    "\n",
    "This is done by using **comments**. In a code cell, anything after a `#` is ignored by the computer. Run the following cell as is, then see what happens is you remove the `#` and rerun it."
   ]
  },
  {
   "cell_type": "code",
   "execution_count": 9,
   "id": "e2b4382a-692e-48e5-a604-c4e550644ef5",
   "metadata": {},
   "outputs": [
    {
     "name": "stdout",
     "output_type": "stream",
     "text": [
      "Hello, world!\n"
     ]
    }
   ],
   "source": [
    "print(\"Hello, world!\")  # I am a comment. Ignore me."
   ]
  },
  {
   "cell_type": "markdown",
   "id": "50b52d02-885c-465c-b1c9-2c91db9d7eee",
   "metadata": {
    "tags": []
   },
   "source": [
    "# Python Basics\n",
    "\n",
    "Now that you know your way around a Jupyter notebook (sort of), let's do a crash course in the Python programming language. Python strikes the balance between being beginner-friendly and powerful at the same time. Python could be someone's first coding language in school and continue to serve them in college and beyond. "
   ]
  },
  {
   "cell_type": "markdown",
   "id": "a053d0ae-4f7b-47b9-aa5e-57e7e72a1291",
   "metadata": {
    "tags": []
   },
   "source": [
    "## Operators\n",
    "\n",
    "Operators are pieces of code that allow us to perform operations. They are at the heart of basic fuctions of the computer."
   ]
  },
  {
   "cell_type": "markdown",
   "id": "46a5f24f-a2a9-4d7e-b5df-4123be3f1edc",
   "metadata": {
    "tags": []
   },
   "source": [
    "### Arithmetic Operators (Math)"
   ]
  },
  {
   "cell_type": "markdown",
   "id": "a6d5d402-75d0-4758-acf2-7764d89c6618",
   "metadata": {
    "tags": []
   },
   "source": [
    "The most basic way to use Python (and all coding languages) is as a calculator. The following arithmetiic operators include some you are probably familiar with an maybe a couple of new ones. \n",
    "\n",
    "|name|operator|\n",
    "|------|------|\n",
    "| add | `+` |\n",
    "| subtract | `-`| \n",
    "| multiply | `*` |\n",
    "| divide  | `/` |\n",
    "| raise to a power | `**` |\n",
    "| floor division | `//` |\n",
    "| modulus | `%` |\n",
    "\n",
    "Try them out on the cell below:"
   ]
  },
  {
   "cell_type": "code",
   "execution_count": null,
   "id": "c639ea5c-2994-4c6e-8571-fe0950025a83",
   "metadata": {},
   "outputs": [],
   "source": [
    "2 + 2"
   ]
  },
  {
   "cell_type": "markdown",
   "id": "f6f94ed4-ccd8-4f3f-9895-babe8d342b4e",
   "metadata": {
    "tags": []
   },
   "source": [
    "### Comparison Operators"
   ]
  },
  {
   "cell_type": "markdown",
   "id": "e0482b98-540b-4214-9d88-c40018183d0e",
   "metadata": {
    "tags": []
   },
   "source": [
    "Comparison operators, as the name implies is a way to compare two values. This allows you to ask the computer a question.\n",
    "\n",
    "\n",
    "| Name | Operator |\n",
    "|-------|-------|\n",
    "| equal to | `==` |\n",
    "| not equal to | `!=` |\n",
    "| greater than | `>` |\n",
    "| greater than or equal to | `>=` |\n",
    "| less than | `<` |\n",
    "| less than or equal to | `<=` |\n",
    "\n",
    "See how the computer responds:"
   ]
  },
  {
   "cell_type": "code",
   "execution_count": 11,
   "id": "abc13728-813e-4331-86a5-66ce5d3c561c",
   "metadata": {},
   "outputs": [
    {
     "data": {
      "text/plain": [
       "True"
      ]
     },
     "execution_count": 11,
     "metadata": {},
     "output_type": "execute_result"
    }
   ],
   "source": [
    "2 == 2"
   ]
  },
  {
   "cell_type": "markdown",
   "id": "34ed666c-d87d-4934-bab2-b3fa4fc15d76",
   "metadata": {},
   "source": [
    "### Logic Operators"
   ]
  },
  {
   "cell_type": "markdown",
   "id": "ac410997-6fe0-481d-ae99-fba677665df5",
   "metadata": {},
   "source": [
    "We can combine comparisons using logic operators\n",
    "\n",
    "\n",
    "| Description | Operator |\n",
    "|-------|-------|\n",
    "| are both statements true? | `and` |\n",
    "| is either statement true? | `or` |\n",
    "\n",
    "Try them out:"
   ]
  },
  {
   "cell_type": "code",
   "execution_count": 13,
   "id": "cc83117a-de72-40ae-9dcf-859cf341ca3f",
   "metadata": {},
   "outputs": [
    {
     "data": {
      "text/plain": [
       "False"
      ]
     },
     "execution_count": 13,
     "metadata": {},
     "output_type": "execute_result"
    }
   ],
   "source": [
    "2 < 3 and 5 == 4"
   ]
  },
  {
   "cell_type": "markdown",
   "id": "87b34498-ce44-4741-a96a-7e9793c2657e",
   "metadata": {},
   "source": [
    "## Variables\n",
    "\n",
    "Like variables in math, variables in coding allow us to assign a value, like `5`,  to a variable, like `x`, in the form:"
   ]
  },
  {
   "cell_type": "code",
   "execution_count": 15,
   "id": "bf2b11b4-3dfd-4bec-8cca-f65001f032b0",
   "metadata": {},
   "outputs": [],
   "source": [
    "x = 5"
   ]
  },
  {
   "cell_type": "markdown",
   "id": "bde8a05c-bd60-4da6-aa12-ee2095b6f18e",
   "metadata": {},
   "source": [
    "Now the computer treats `x` and `5` as the same:"
   ]
  },
  {
   "cell_type": "code",
   "execution_count": 17,
   "id": "900c36b2-de43-4ef6-b7bd-3ca92b35ab41",
   "metadata": {},
   "outputs": [
    {
     "data": {
      "text/plain": [
       "7"
      ]
     },
     "execution_count": 17,
     "metadata": {},
     "output_type": "execute_result"
    }
   ],
   "source": [
    "2 + x"
   ]
  },
  {
   "cell_type": "markdown",
   "id": "e6f3e4bd-45fd-4334-9230-bbaba5c90b38",
   "metadata": {},
   "source": [
    "Variable assignments are not permanent. They can be overwritten by assigning a new value to an existing variable. This is where the order in which you run the cells is important. "
   ]
  },
  {
   "cell_type": "code",
   "execution_count": 19,
   "id": "1379b50a-fd93-47b9-9df7-71ea0eb8dac2",
   "metadata": {},
   "outputs": [
    {
     "data": {
      "text/plain": [
       "12"
      ]
     },
     "execution_count": 19,
     "metadata": {},
     "output_type": "execute_result"
    }
   ],
   "source": [
    "x = 10\n",
    "2 + x"
   ]
  },
  {
   "cell_type": "markdown",
   "id": "7e0024c6-91cf-44d1-8e20-78cb40cf7f87",
   "metadata": {},
   "source": [
    "However, we should think of variables much more broadly in Python as a \"bucket\" to store data. That data could be a single number, a list of items, even massive datasets."
   ]
  },
  {
   "cell_type": "markdown",
   "id": "3a37f7c5-1228-4188-b030-eb1ee8f05089",
   "metadata": {},
   "source": [
    "### Naming Variables"
   ]
  },
  {
   "cell_type": "markdown",
   "id": "76595c8b-eeed-4a9c-89c6-fb094ec02b50",
   "metadata": {},
   "source": [
    "It is important to give variables a descriptive name as you want to write code so that others can understand it (`x` is too generic).\n",
    "\n",
    "Variable names are case sensitive. There are several common conventions when there are more than one word in a variable name:\n",
    "\n",
    "|Convention|Examples|\n",
    "|----------|--------|\n",
    "|Camel Case|`camelCase`|\n",
    "|Snake Case|`snake_case`|\n",
    "|Pascal Case|`PascalCase`|\n",
    "\n",
    "In this notebook, we will use snake case."
   ]
  },
  {
   "cell_type": "markdown",
   "id": "a84b83c3-842e-443e-9947-2a879388d204",
   "metadata": {},
   "source": [
    "## Functions"
   ]
  },
  {
   "cell_type": "markdown",
   "id": "ec1df774-3b84-4db6-a3a6-87e492d01257",
   "metadata": {},
   "source": [
    "While operators are the most basic way to interact with a computer, they can be combined to perform more complex tasks. Their job is to take one or more inputs, called \"arguments\", and work on them to \"return\" an output.  \n",
    "\n",
    "You saw a Python function in the code cell above: `print(\"Hello, world!\")`. This is called the **print function** and it's pretty obvious what it does.\n",
    "\n",
    "You can \"define\" your own functions. See if you can figure out what this function is designed to do:"
   ]
  },
  {
   "cell_type": "code",
   "execution_count": 21,
   "id": "768e132c-b948-4db3-8282-f414fe971653",
   "metadata": {},
   "outputs": [],
   "source": [
    "# This just defines the function (commits it to the computer's memory).\n",
    "# Run the cell. See what happens.\n",
    "def cel_to_far(celsius):\n",
    "    return (9/5) * celsius + 32"
   ]
  },
  {
   "cell_type": "code",
   "execution_count": 23,
   "id": "7a7da22c-b7e2-445c-9e09-348b33d08580",
   "metadata": {},
   "outputs": [
    {
     "data": {
      "text/plain": [
       "212.0"
      ]
     },
     "execution_count": 23,
     "metadata": {},
     "output_type": "execute_result"
    }
   ],
   "source": [
    "# Try using the function by replacing the ??? with a number:\n",
    "cel_to_far(100)"
   ]
  },
  {
   "cell_type": "markdown",
   "id": "341cdafd-11a1-42eb-901a-672b78186c42",
   "metadata": {},
   "source": [
    "Fortunately, Python has many built-in functions in addition to `print()`.  They have the general form `function_name(argument_1, argument_2, etc.)`. Here are just a few:\n",
    "\n",
    "| Function | What it does |\n",
    "|-------|-------|\n",
    "| `abs(x)` | returns the absolute value of x |\n",
    "| `max(x, y, ...)` | returns the largest item from a list |\n",
    "| `round(x, ndigits=NONE)` | rounds x to the specified number of decimal places |\n",
    "\n",
    "Notice the round function takes two arguments `x`, the number you want to round, and `ndigits`, how many decimal places you want to round `x` to. `ndigits=NONE` is the way of showing that the function will defaut to no decimal places if the `ndigits` argument is not specified.\n"
   ]
  },
  {
   "cell_type": "code",
   "execution_count": 41,
   "id": "186e574c-a61b-45f5-8937-d814cb7bdb1a",
   "metadata": {},
   "outputs": [
    {
     "data": {
      "text/plain": [
       "389.12"
      ]
     },
     "execution_count": 41,
     "metadata": {},
     "output_type": "execute_result"
    }
   ],
   "source": [
    "round(389.1234567, ndigits=2)"
   ]
  },
  {
   "cell_type": "markdown",
   "id": "996d4fd0-8b73-48f4-ae63-1610166cd91c",
   "metadata": {},
   "source": [
    "### Libraries\n",
    "\n",
    "While Python has 68 built-in functions. Many more functions are packaged in **libraries**. There are over 100,000 Python libraries! \n",
    "\n",
    "For example, the `math` library has functions associated with, you guessed it, math operations. Before using it, you must first **import** it:"
   ]
  },
  {
   "cell_type": "code",
   "execution_count": 43,
   "id": "b7595ce4-6012-447d-9aa8-42142e3d4213",
   "metadata": {},
   "outputs": [],
   "source": [
    "# Run this cell to import the \"math\" library\n",
    "import math"
   ]
  },
  {
   "cell_type": "markdown",
   "id": "488b1451-2681-41f7-ba2f-a451ad0385a8",
   "metadata": {},
   "source": [
    "Calling a function from a library uses the following syntax:\n",
    "\n",
    "`library.function_name(arguments)`\n",
    "\n",
    "So how do you know what functions are available in a library? After typing `math.`, hit the `tab` key:"
   ]
  },
  {
   "cell_type": "code",
   "execution_count": 47,
   "id": "7c31c362-f3f3-4f0b-b4c9-1bf081da8597",
   "metadata": {},
   "outputs": [
    {
     "data": {
      "text/plain": [
       "6.283185307179586"
      ]
     },
     "execution_count": 47,
     "metadata": {},
     "output_type": "execute_result"
    }
   ],
   "source": [
    "# See what functions are in the math library\n",
    "math.tau\n"
   ]
  },
  {
   "cell_type": "markdown",
   "id": "db84cd4d-c080-427f-960b-cc26f9c7afc8",
   "metadata": {},
   "source": [
    "## Data"
   ]
  },
  {
   "cell_type": "markdown",
   "id": "d49a0b85-960c-4603-80a5-2718288cc163",
   "metadata": {},
   "source": [
    "Obviously, doing data science involves working with data. Understanding the different \"flavors\" of data and how it is organized in the computer's memory is critical knowledge."
   ]
  },
  {
   "cell_type": "markdown",
   "id": "6d944dfe-f22d-4d08-89f6-a9d73073386d",
   "metadata": {},
   "source": [
    "### Data Types"
   ]
  },
  {
   "cell_type": "markdown",
   "id": "16a1f923-c838-4a78-bfa1-2b04ac423283",
   "metadata": {},
   "source": [
    "Notice `Hello, world!` is in quotes `\" \"`. This is because the phrase `Hello, world!` is a specific **data type** known as a **string** (text) and strings must be in quotes. By the way, single quotes `' '` can be used as well. They are the same as double quotes `\" \"` in Python. What happens if you remove the quotes?"
   ]
  },
  {
   "cell_type": "code",
   "execution_count": null,
   "id": "484d3915-35b0-4511-934f-e1b06079e93e",
   "metadata": {},
   "outputs": [],
   "source": [
    "print(\"Hello, world!\")"
   ]
  },
  {
   "cell_type": "markdown",
   "id": "4a14eff9-e7e7-40bd-98eb-b327dc908e98",
   "metadata": {},
   "source": [
    "There are many data types, but the following are the most common:\n",
    "\n",
    "|data type| Description|Example|\n",
    "|--------|-------------|--------|\n",
    "|int|integer|`5`|\n",
    "|float|number with a decimal|`3.14`|\n",
    "|str|string of characters|`\"What?\"`|\n",
    "|list|ordered collection|`[\"eggs\", \"milk\", \"juice\"]`|"
   ]
  },
  {
   "cell_type": "markdown",
   "id": "7c0c84b4-ddb9-47f1-96ee-e54efd27df15",
   "metadata": {},
   "source": [
    "Data types are important because functions only accept arguments with certain data types. "
   ]
  },
  {
   "cell_type": "code",
   "execution_count": null,
   "id": "89abc9a0-f1ba-4a67-9fbd-e2d11483dc82",
   "metadata": {},
   "outputs": [],
   "source": [
    "round(\"5.3\")"
   ]
  },
  {
   "cell_type": "markdown",
   "id": "1a96221a-7255-4d33-ba2a-f861c1b24d76",
   "metadata": {},
   "source": [
    "A useful function is `type()` which will tell you the data type of a value of data stored in a variable."
   ]
  },
  {
   "cell_type": "code",
   "execution_count": null,
   "id": "a7a317b0-c1f0-4795-9c37-69d85b6f0d35",
   "metadata": {},
   "outputs": [],
   "source": [
    "type(\"5.3\")"
   ]
  },
  {
   "cell_type": "markdown",
   "id": "edae9ede-57bf-4894-8973-6044f1e93c5f",
   "metadata": {},
   "source": [
    "## Data Structures\n",
    "\n",
    "Lists are an example of **structured data**. Essentially, several pieces of data have been organized. Lists are **ordered**, meaning the items are labeled using an **index**. "
   ]
  },
  {
   "cell_type": "code",
   "execution_count": null,
   "id": "07d549f6-a899-441e-a94e-d2ec463ff05a",
   "metadata": {},
   "outputs": [],
   "source": [
    "grocery_list = [\"eggs\", \"milk\", \"juice\"]   # Assign the list to the variable \"grocery_list\"\n",
    "print(grocery_list[???])  # Replace ??? with a number to print \"milk\""
   ]
  },
  {
   "cell_type": "markdown",
   "id": "0a6bd47f-7b07-44aa-add8-a314f97a5ffa",
   "metadata": {},
   "source": [
    "You were probably surprised to see that numbering in Python (and other coding languages) does not start at 1. Dont' worry. You will get used to it. "
   ]
  },
  {
   "cell_type": "markdown",
   "id": "c49452a8-b559-408a-b24b-14547ed6eb15",
   "metadata": {},
   "source": [
    "### Arrays\n",
    "\n",
    "Arrays are a special type of list that contains only one data type."
   ]
  },
  {
   "cell_type": "code",
   "execution_count": null,
   "id": "c8b94b75-157e-4119-b6c3-a3a056e520e0",
   "metadata": {},
   "outputs": [],
   "source": [
    "# Which list is an array?\n",
    "\n",
    "planet_list = ['mercury', 'venus', 'earth', 'mars', 'jupiter']\n",
    "\n",
    "age_list = [3, 8, 12.0, 38, 40]\n",
    "\n",
    "number_list = [4, 'five', 'ten', 32]\n"
   ]
  },
  {
   "cell_type": "markdown",
   "id": "fea469f8-ae17-4553-9f8c-9b0b41b930be",
   "metadata": {
    "tags": []
   },
   "source": [
    "## Numpy\n",
    "\n",
    "Numpy is a fundamental library that is used for scientific computing. Its basic building block is called an **ndarray**, or an \"n-dimensional array\".\n",
    "\n",
    "A common practice it to `import <library name> as <abbreviated name>`. This allows us to define an abbreviation for the library to use whenever we call a function from it instead of typing out the full name of the library every time. The abbreviation is up to you, but most libraries have an agreed upon abbreviation. For examples, most people abbreviate numpy as `np`: "
   ]
  },
  {
   "cell_type": "code",
   "execution_count": null,
   "id": "d1767049-8a18-4c0b-bafb-b01abb5af205",
   "metadata": {},
   "outputs": [],
   "source": [
    "import numpy as np"
   ]
  },
  {
   "cell_type": "markdown",
   "id": "577fe4c5-abed-4553-b816-f7b41c8e7254",
   "metadata": {},
   "source": [
    "#### 1D Arrays\n",
    "\n",
    "A list with one type of data is a **1D array**. However, for Numpy to see it as an array data type, we need to use the `array()` function in Numpy"
   ]
  },
  {
   "cell_type": "code",
   "execution_count": null,
   "id": "bb8e2da6-1748-427f-94cf-3431ac831f1e",
   "metadata": {},
   "outputs": [],
   "source": [
    "planet_array = np.array(planet_list)\n",
    "type(planet_array)"
   ]
  },
  {
   "cell_type": "markdown",
   "id": "b4064d4f-e6a2-4ffd-8fae-2548ed2cf846",
   "metadata": {},
   "source": [
    "#### 2D Arrays\n",
    "\n",
    "A 2D array can be thought of as a list of lists. Each list is an array, but not all the arrays must contain the same data type. Notice the double brackets `[[` and `]]`. This is because there are three lists (the planet names, order and number of moons) within a larger single list (the 2D array):"
   ]
  },
  {
   "cell_type": "code",
   "execution_count": null,
   "id": "bbf25e1a-000a-4080-809e-f17abf09f86d",
   "metadata": {},
   "outputs": [],
   "source": [
    "planet_2D_array = np.array([['mercury', 'venus', 'earth', 'mars', 'jupiter'], \n",
    "                    [1,2,3,4,5], \n",
    "                    [0,0,1,2,79]])"
   ]
  },
  {
   "cell_type": "markdown",
   "id": "3f4e3327-e0f8-45bc-a7bf-46bb28b34c34",
   "metadata": {
    "tags": []
   },
   "source": [
    "## Pandas\n",
    "\n",
    "Pandas is a data analysis and manipulation tool. It has a lot of similarities to NumPy, but we tend to use it more for data in tables. "
   ]
  },
  {
   "cell_type": "markdown",
   "id": "762c2c86-d676-48d5-9358-7ab42ec7ea68",
   "metadata": {},
   "source": [
    "A 1D array in Pandas is called a `Series`."
   ]
  },
  {
   "cell_type": "code",
   "execution_count": null,
   "id": "ccf2010c-e16b-45c6-963c-bf32905eab4a",
   "metadata": {},
   "outputs": [],
   "source": [
    "import pandas as pd\n",
    "\n",
    "pandas_planets = pd.Series(['mercury', 'venus', 'earth', 'mars', 'jupiter'])\n",
    "\n",
    "type(pandas_planets)"
   ]
  },
  {
   "cell_type": "markdown",
   "id": "ca77ecc6-9a8f-4c25-b940-415282a18d81",
   "metadata": {
    "tags": []
   },
   "source": [
    "### Pandas DataFrames\n",
    "\n",
    "A 2D array in Pandas is called a `DataFrame`. \n",
    "\n",
    "This is done by passing another structured data type, known as a `Dictionary`, to the `DataFrame` function. "
   ]
  },
  {
   "cell_type": "code",
   "execution_count": null,
   "id": "ce872abd-34f2-4464-9fc9-cf87bb230f57",
   "metadata": {},
   "outputs": [],
   "source": [
    "pandas_planets = {'A': ['Mercury', 'Venus', 'Earth', 'Mars', 'Jupiter'],\n",
    "        'B': [1, 2, 3, 4, 5], 'C': [0, 0, 1, 2, 79]}"
   ]
  },
  {
   "cell_type": "code",
   "execution_count": null,
   "id": "ac781585-75f6-4fe8-a0b2-aa63f0ca60a8",
   "metadata": {},
   "outputs": [],
   "source": [
    "planets_df = pd.DataFrame(pandas_planets)\n",
    "planets_df"
   ]
  },
  {
   "cell_type": "markdown",
   "id": "c506a8ed-41f3-446d-94bc-151f6fed48ac",
   "metadata": {},
   "source": [
    "You may be wondering what the difference is between a Numpy 2D array and a Pandas dataframe. Again, the diffence is subtle, but the computer sees the two differently:"
   ]
  },
  {
   "cell_type": "markdown",
   "id": "2ffc905b-9e93-450d-b221-c7c869705e38",
   "metadata": {},
   "source": [
    "**Numpy 2D Array**\n",
    "\n",
    "<img src=\"imgs/numpy_planets.png\" width = 300>"
   ]
  },
  {
   "cell_type": "markdown",
   "id": "ffeca23e-ec69-4368-bca0-a9568545c8d3",
   "metadata": {},
   "source": [
    "**Pandas Dataframe**\n",
    "\n",
    "<img src=\"imgs/pandas_planets.png\" width = 300>"
   ]
  },
  {
   "cell_type": "markdown",
   "id": "7f5764cc-40d8-4220-a5ef-627e8877e4d5",
   "metadata": {
    "tags": []
   },
   "source": [
    "## Reading in Data from a .csv File\n",
    "\n",
    "We will primarily be using Pandas dataframes, but Numpy will be a valuable library as well. Fortunately, we don't need to build our 2D arrays and dataframes from scratch like above. Usually, we will bring in data from an existing file (also known as a **dataset**). The most common file format for raw data is a `.csv` file, short for \"comma separated values\" and it is very easy to convert it into a dataframe:"
   ]
  },
  {
   "cell_type": "code",
   "execution_count": null,
   "id": "680bb868-38c0-4405-9897-56a190ef1c64",
   "metadata": {},
   "outputs": [],
   "source": [
    "planets = pd.read_csv('Datasets/planets.csv')\n",
    "planets"
   ]
  },
  {
   "cell_type": "markdown",
   "id": "a695703b-209a-4786-9b7f-48a419742a32",
   "metadata": {},
   "source": [
    "A Pandas dataframe should look familiar. It is how data is structured in spreadsheets like Excel and Google Sheets. The bold numbers on the left are known as the **index** and allow us to number rows. The column names allow us to label and reference individual 1D arrays in the dataframe."
   ]
  },
  {
   "cell_type": "code",
   "execution_count": null,
   "id": "82383c4c-adb8-41bd-943a-32fd8cc8bb4d",
   "metadata": {},
   "outputs": [],
   "source": []
  }
 ],
 "metadata": {
  "kernelspec": {
   "display_name": "Python 3 (ipykernel)",
   "language": "python",
   "name": "python3"
  },
  "language_info": {
   "codemirror_mode": {
    "name": "ipython",
    "version": 3
   },
   "file_extension": ".py",
   "mimetype": "text/x-python",
   "name": "python",
   "nbconvert_exporter": "python",
   "pygments_lexer": "ipython3",
   "version": "3.12.7"
  }
 },
 "nbformat": 4,
 "nbformat_minor": 5
}
